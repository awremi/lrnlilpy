{
 "cells": [
  {
   "cell_type": "markdown",
   "metadata": {},
   "source": [
    "# Building a Classifier for Survival on the Titanic\n",
    "\n",
    "![Titanic sinking](https://upload.wikimedia.org/wikipedia/commons/4/4f/Titanic_the_sinking.jpg)\n",
    "Source: [Wikimedia Commons](https://commons.wikimedia.org/wiki/File:Titanic_the_sinking.jpg?uselang=de)\n",
    "\n",
    "\n",
    "\n",
    "> The captain can, by simply moving an electric switch, instantly close the doors throughout, practically making the vessel unsinkable.   \n",
    "\n",
    "-- _Irish News and Belfast Morning News, June 1st, 1911, on the incomplete Titanic._\n",
    "\n",
    "RMS Titanic was a British passenger liner that sank in the North Atlantic Ocean in the early morning hours of 15 April 1912, after it collided with an iceberg during its maiden voyage from Southampton to New York City. There were an estimated 2,224 passengers and crew aboard the ship, and more than 1,500 died. \n",
    "\n",
    "This data set is a partial list of passengers of the ship, recording several attributes of the person as well as whether they survived the disaster.\n"
   ]
  },
  {
   "cell_type": "markdown",
   "metadata": {},
   "source": [
    "## Task\n",
    "\n",
    "**Your task is to build a machine learning model that classifies passengers as survivors or victims**\n",
    "\n",
    "Apply your new knowledge about\n",
    "- **[📓 classification](../ml/ml-classification-intro.ipynb)**\n",
    "- **[📓 feature engineering and selection](../ml/ml-feature-engineering.ipynb)**\n",
    "- **[📓 algorithm selection and hyperparameter tuning](../ml/ml-algo-hyperparameter.ipynb)**\n",
    "\n",
    "**Evaluate and present the model performance using**\n",
    "- confusion matrices\n",
    "- the _precision_, _recall_ and _F1_ metrics\n",
    "- cross-validation"
   ]
  },
  {
   "cell_type": "markdown",
   "metadata": {},
   "source": [
    "Here is the documentation of the dataset for reference:"
   ]
  },
  {
   "cell_type": "code",
   "execution_count": 2,
   "metadata": {},
   "outputs": [
    {
     "name": "stdout",
     "output_type": "stream",
     "text": [
      "Data Dictionary\n",
      "\n",
      "Variable\tDefinition\tKey\n",
      "survival \tSurvival \t0 = No, 1 = Yes\n",
      "pclass \t    Ticket class \t1 = 1st, 2 = 2nd, 3 = 3rd\n",
      "sex \t    Sex \t\n",
      "Age \t    Age in years \t\n",
      "sibsp \t    # of siblings / spouses aboard the Titanic \t\n",
      "parch \t    # of parents / children aboard the Titanic \t\n",
      "ticket \t    Ticket number \t\n",
      "fare \t    Passenger fare \t\n",
      "cabin \t    Cabin number \t\n",
      "embarked \tPort of Embarkation \tC = Cherbourg, Q = Queenstown, S = Southampton\n",
      "\n",
      "\n",
      "Variable Notes\n",
      "\n",
      "pclass: A proxy for socio-economic status (SES)\n",
      "1st = Upper\n",
      "2nd = Middle\n",
      "3rd = Lower\n",
      "\n",
      "age: Age is fractional if less than 1. If the age is estimated, is it in the form of xx.5\n",
      "\n",
      "sibsp: The dataset defines family relations in this way...\n",
      "Sibling = brother, sister, stepbrother, stepsister\n",
      "Spouse = husband, wife (mistresses and fiancés were ignored)\n",
      "\n",
      "parch: The dataset defines family relations in this way...\n",
      "Parent = mother, father\n",
      "Child = daughter, son, stepdaughter, stepson\n",
      "Some children travelled only with a nanny, therefore parch=0 for them.\n"
     ]
    }
   ],
   "source": [
    "with open('../.assets/data/titanic/titanic-documentation.txt', 'r') as doc:\n",
    "    print(doc.read())"
   ]
  },
  {
   "cell_type": "markdown",
   "metadata": {},
   "source": [
    "## Workflow"
   ]
  },
  {
   "cell_type": "markdown",
   "metadata": {},
   "source": [
    "Start your ML workflow here."
   ]
  },
  {
   "cell_type": "code",
   "execution_count": null,
   "metadata": {},
   "outputs": [],
   "source": []
  },
  {
   "cell_type": "markdown",
   "metadata": {},
   "source": [
    "---\n",
    "_This notebook is licensed under a [Creative Commons Attribution 4.0 International License (CC BY 4.0)](https://creativecommons.org/licenses/by/4.0/). Copyright © 2018 [Point 8 GmbH](https://point-8.de)_"
   ]
  }
 ],
 "metadata": {
  "kernelspec": {
   "display_name": "Python 3",
   "language": "python",
   "name": "python3"
  },
  "language_info": {
   "codemirror_mode": {
    "name": "ipython",
    "version": 3
   },
   "file_extension": ".py",
   "mimetype": "text/x-python",
   "name": "python",
   "nbconvert_exporter": "python",
   "pygments_lexer": "ipython3",
   "version": "3.7.3"
  }
 },
 "nbformat": 4,
 "nbformat_minor": 2
}
