{
 "cells": [
  {
   "cell_type": "markdown",
   "metadata": {},
   "source": [
    "# Machine Learning with PySpark [MLS2]\n",
    "\n",
    "This course gets you started with scaling machine learning methods to large amounts of data by using PySpark to control distributed computing on a cluster.\n",
    "\n",
    "The course requires basic knowledge of Python programming, fundamentals of data science anddata handling, and programming for Spark via PySpark. These requirements are conveyed in [📓 **(Big) Data Analysis with Python and PySpark**](bdaps3-pyspark-big-data-3day.ipynb)\n"
   ]
  },
  {
   "cell_type": "markdown",
   "metadata": {},
   "source": [
    "## Table of Contents\n",
    "\n",
    "### Curriculum\n",
    "\n",
    "1. **Introduction to Machine Learning**<br>\n",
    "    An overview over the field of machine learning.\n",
    "\n",
    "1. [**ML for Classification**](../spark/spark-ml-pipeline.ipynb)<br>\n",
    "  Build a classification model and learn about the building blocks of ML with PySpark\n",
    "  \n",
    "  1. **About Classification**<br>\n",
    "      Learn about classifiers and how to measure the quality of their decisions.\n",
    "   \n",
    "  1. **Feature Engineering**<br>\n",
    "     How to build better features.\n",
    "  \n",
    "  1. **Algorithm Selection and Hyperparameter Tuning**<br>\n",
    "     Select the right algorithm for the job and optimize performance.\n",
    "   \n",
    "  1. **Exercise: Classifier**<br>\n",
    "      Build your own classification pipeline from scratch.\n",
    "    \n",
    "1. **ML for Regression**<br>\n",
    "  Learn about regressors and how to measure the quality of their prediction.\n",
    "\n",
    "   1. [**Exercise: Predicting House Prices**](../exercises/spark-exercise-house-prices.ipynb)<br>\n",
    "       Apply regression to predict house prices.\n",
    "\n",
    "1. [**Building a Recommender Engine**](../spark/spark-ml-recommender.ipynb)<br>\n",
    "  Use machine learning to generate movie recommendations.\n",
    "\n",
    "1. [**Unsupervised Learning: Clustering**](../spark/spark-ml-clustering.ipynb)<br>\n",
    "  Apply clustering algorithms to detect structure in the data.\n",
    "\n",
    "  1. **Exercise: Clustering**<br>\n",
    "      Practice on a clustering problem."
   ]
  },
  {
   "cell_type": "markdown",
   "metadata": {},
   "source": [
    "### Exercise Solutions\n",
    "    \n",
    "1. [**Solution: Predicting House Prices**](../exercises/spark-exercise-house-prices-solution.ipynb)<br>\n",
    "    Apply regression to predict house prices."
   ]
  },
  {
   "cell_type": "markdown",
   "metadata": {},
   "source": [
    "### Additional Resources\n",
    "\n",
    "- [**Python Test Notebook**](../jupyter/test.ipynb)<br>\n",
    "    Verify that your Python stack is working.\n",
    "    \n",
    "- [**PySpark Test Notebook**](../spark/spark-test.ipynb)<br>\n",
    "    Verify that your PySpark stack is working.\n",
    "   \n",
    "- [**Jupyter Cheat Sheet**](../jupyter/cheatsheet.ipynb)<br>\n",
    "    Some useful commands for Jupyter Notebook, mostly optional."
   ]
  },
  {
   "cell_type": "markdown",
   "metadata": {},
   "source": [
    "---\n",
    "_This notebook is licensed under a [Creative Commons Attribution 4.0 International License (CC BY 4.0)](https://creativecommons.org/licenses/by/4.0/). Copyright © 2018 [Point 8 GmbH](https://point-8.de)_"
   ]
  }
 ],
 "metadata": {
  "kernelspec": {
   "display_name": "Python 3",
   "language": "python",
   "name": "python3"
  },
  "language_info": {
   "codemirror_mode": {
    "name": "ipython",
    "version": 3
   },
   "file_extension": ".py",
   "mimetype": "text/x-python",
   "name": "python",
   "nbconvert_exporter": "python",
   "pygments_lexer": "ipython3",
   "version": "3.6.7"
  }
 },
 "nbformat": 4,
 "nbformat_minor": 2
}
