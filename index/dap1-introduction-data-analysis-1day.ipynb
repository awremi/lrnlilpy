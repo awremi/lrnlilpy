{
 "cells": [
  {
   "cell_type": "markdown",
   "metadata": {},
   "source": [
    "# Introduction to Data Analysis with Python [DAP1]"
   ]
  },
  {
   "cell_type": "markdown",
   "metadata": {},
   "source": [
    "The aim of this workshop is to provide you with the basic knowledge and skills needed to get started with data analysis using Python - the Python programming language, relevant libraries and relevant methodical knowledge."
   ]
  },
  {
   "cell_type": "markdown",
   "metadata": {},
   "source": [
    "## Table of Contents\n",
    "\n",
    "### Curriculum\n",
    "\n",
    "\n",
    "1. [**Python Basics**](../python/python-basics.ipynb)<br>\n",
    "    Learn the basics of the Python programming language.\n",
    "    \n",
    "2. [**Efficient Computing with numpy**](../python/python-scientific-numpy.ipynb)<br>\n",
    "    Apply the `numpy` library to compute efficiently with large amounts of data.\n",
    "    \n",
    "3. [**Data Handling with pandas**](../python/python-data-handling-pandas.ipynb)<br>\n",
    "    Learn to work with tabular data, supported by the `pandas` library.\n",
    "\n",
    "4. [**Plotting with matplotlib**](../python/python-plotting.ipynb)<br>\n",
    "    Visualize data with plots, using functions of `matplotlib`.\n",
    "\n",
    "5. [**Introduction to Statistics**](../stats/stats-basics.ipynb)<br>\n",
    "    First steps with statistics concepts needed for data analysis."
   ]
  },
  {
   "cell_type": "markdown",
   "metadata": {},
   "source": [
    "### Exercises\n",
    "\n",
    "1. [**Excercise: Museums of France**](../exercises/exercise-museums.ipynb)<br>\n",
    "    An exercise with a clear task, requiring you to apply the learnings from the course.\n",
    "   \n",
    "2. [**Excercise: Titanic**](../exercises/exercise-titanic.ipynb)<br>\n",
    "    An open-ended exercise to practice answering questions with data."
   ]
  },
  {
   "cell_type": "markdown",
   "metadata": {},
   "source": [
    "### Additional Resources\n",
    "\n",
    "- [**Test Notebook**](../jupyter/test.ipynb)<br>\n",
    "    Verify that your Python stack is working.\n",
    "   \n",
    "- [**Jupyter Cheat Sheet**](../jupyter/cheatsheet.ipynb)<br>\n",
    "    Some useful commands for Jupyter Notebook, mostly optional."
   ]
  },
  {
   "cell_type": "markdown",
   "metadata": {},
   "source": [
    "---\n",
    "_This notebook is licensed under a [Creative Commons Attribution 4.0 International License (CC BY 4.0)](https://creativecommons.org/licenses/by/4.0/). Copyright © 2018 [Point 8 GmbH](https://point-8.de)_"
   ]
  }
 ],
 "metadata": {
  "kernelspec": {
   "display_name": "Python 3",
   "language": "python",
   "name": "python3"
  },
  "language_info": {
   "codemirror_mode": {
    "name": "ipython",
    "version": 3
   },
   "file_extension": ".py",
   "mimetype": "text/x-python",
   "name": "python",
   "nbconvert_exporter": "python",
   "pygments_lexer": "ipython3",
   "version": "3.7.6"
  }
 },
 "nbformat": 4,
 "nbformat_minor": 2
}
