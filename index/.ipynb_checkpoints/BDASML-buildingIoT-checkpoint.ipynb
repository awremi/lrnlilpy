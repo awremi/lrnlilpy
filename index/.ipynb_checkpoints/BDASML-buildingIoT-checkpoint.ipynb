{
 "cells": [
  {
   "cell_type": "markdown",
   "metadata": {},
   "source": [
    "# WENN ES WIRKLICH BIG WIRD – DATENANALYSE UND MACHINE LEARNING SKALIEREN MIT PYSPARK\n",
    "\n",
    "# ![](https://point-8.de/static/img/point8.png) ![](https://www.buildingiot.de/images/logo.png)\n",
    "\n",
    "\n",
    "> Massive Datenströme aus industriellen IoT-Anwendungen führen schnell zu echten Big-Data-Problemen, deren Lösung verteiltes Rechnen auf einem Cluster erfordert. Wir stellen das Open-Source-Framework Apache Spark vor, um Datenanalyse- und Machine Learning-Workflows auf einem Cluster skalierbar zu machen.\n",
    "> Die Teilnehmer erhalten einen breiten Einblick in Spark, lernen Anwendungsfälle zu erkennen und die Pros und Contras des Frameworks abzuschätzen. Es werden verschiedene praxisnahe Anwendungen vorgestellt und mit unserer Unterstützung interaktiv in IPython Notebooks von den Teilnehmern bearbeitet. Wir erleichtern den Einstieg in die Grundlagen von Spark (RDDs, Transformations & Actions…) und führen die Teilnehmer dann vom Datenimport über einfache Datenanalysen (mit Spark SQL & DataFrames) bis hin zu Machine Learning Pipelines (mit Spark ML für Predictive Analytics, Clustering, Recommender Engines). Für die Durchführung des Kurses gibt es keine besonderen technischen Voraussetzungen.\n",
    "\n",
    "\n"
   ]
  },
  {
   "cell_type": "markdown",
   "metadata": {},
   "source": [
    "## Agenda\n",
    "\n",
    "- ab 09.00 Uhr Registrierung und Begrüßungskaffee\n",
    "- 10.00 Uhr: Beginn\n",
    "- 10.00 Uhr: Impulsvortrag rund um Data Science, KI und ML – Was ist Hype und was ist wirklich möglich\n",
    "- 10.45 Uhr: Einführung in die Datenanalyse mit Python und PySpark\n",
    "- 12.00 Uhr: Mittagspause\n",
    "- 13.00 Uhr: Grundlagen und Beispiele mit Spark selber umsetzen und ausprobieren\n",
    "- 15.00 Uhr: Kaffeepause\n",
    "- 15.30 Uhr: Deep Dive in die Machine Learning Pipelines\n",
    "- ca. 17.30 Uhr: Ende\n",
    "\n",
    "## Referenten\n",
    "\n",
    "**Dr. Christian Staudt ([@C_L_Staudt](https://twitter.com/C_L_Staudt))**\n",
    "\n",
    "Als Freelance Data Scientist unterstützt Christian Auftraggeber bei Herausforderungen rund um Data Mining, Big Data und Machine Learning. Neben der Projektarbeit entwickelt er Trainings und coacht Teams in Sachen Methodik und Werkzeuge der Datenanalyse, die er schon während seiner Forschungstätigkeiten in der Informatik nutzte. Als Referent ist er in der Community um Python und Data Science aktiv.\n",
    "\n",
    "\n",
    "**Dr. Julian von der Ecken ([@JvdEcken](https://twitter.com/JvdEcken))**\n",
    "\n",
    "Julian ist Data Scientist bei der Point 8 GmbH. Durch seine Arbeit sowohl im Bereich von industriellen Kundenprojekten als auch in Trainings kann er auf ein breites Erfahrungsspektrum zurückgreifen und zusätzliche Fallbeispiele einbringen. Julian war zuvor langjährig in der Datenanalyse in der Physik und Strukturbiologie tätig und bringt damit oft den Querblick mit ins Projekt."
   ]
  },
  {
   "cell_type": "markdown",
   "metadata": {},
   "source": [
    "## Table of Contents\n",
    "\n",
    "### Curriculum\n",
    "\n",
    "\n",
    "1. [**Processing Big Data**](../python/python-big-data.ipynb)<br>\n",
    "   What strategies do we have available to compute efficiently with increasing amounts of data?  What is a cluster, and when do we need one?\n",
    "   \n",
    "2. [**Spark Fundamentals**](../spark/spark-fundamentals.ipynb)<br>\n",
    "   An overview of Spark - a framework for programming distributed computation, using PySpark, its Python API - core data structures and operations.\n",
    "   \n",
    "3. [**Submitting Spark Jobs**](../spark/spark-submitting.ipynb)<br>\n",
    "   How to submit jobs to a Spark cluster for batch processing.\n",
    "   \n",
    "4. [**Spark and Structured Data**](../spark/spark-structured-data.ipynb)<br>\n",
    "   Working with structured data in Spark.\n",
    "\n",
    "    1. [**Excercise: Museums of France**](../exercises/exercise-museums.ipynb)<br>\n",
    "    An exercise with a clear task, requiring you to apply the learnings from the course.\n",
    "\n",
    "   \n",
    "5. [**Introduction to Machine Learning**](../ml/ml-outlook.ipynb)<br>\n",
    "    An overview over the field of machine learning.\n",
    "  \n",
    "6. **[About Classification](../ml/ml-classification-intro.ipynb)**<br>\n",
    "  Learn about classifiers and how to measure the quality of their decisions.\n",
    "\n",
    "7. [**ML Pipelines with Spark**](../spark/spark-ml-pipeline.ipynb)<br>\n",
    "      Build a classification model and learn about the building blocks of ML with PySpark"
   ]
  },
  {
   "cell_type": "markdown",
   "metadata": {},
   "source": [
    "## Demo\n",
    "\n",
    "1. **[Crunching Wikipedia: Task](../exercises/spark-exercise-bigrams.ipynb)**<br>\n",
    "     An actual big data problem: Counting all bigrams in the entire Wikipedia.\n",
    "\n",
    "1. **[Crunching Wikipedia: Solution](../exercises/spark-exercise-bigrams-solution.ipynb)**<br>\n",
    "   "
   ]
  },
  {
   "cell_type": "markdown",
   "metadata": {},
   "source": [
    "### Exercises: Solution Examples\n",
    "\n",
    "1. [**Excercise Solution: Museums of France**](../exercises/spark-exercise-museums-solution.ipynb)<br>\n",
    "   \n",
    "1. [**Spark Exercise Solutions**](../exercises/spark-exercise-solutions.ipynb)\n"
   ]
  },
  {
   "cell_type": "markdown",
   "metadata": {},
   "source": [
    "### Additional Resources\n",
    "\n",
    "- [**Test Notebook**](../jupyter/test.ipynb)<br>\n",
    "    Verify that your Python stack is working.\n",
    "\n",
    "- [**Jupyter Cheat Sheet**](../jupyter/cheatsheet.ipynb)<br>\n",
    "    Some useful commands for Jupyter Notebook, mostly optional.\n",
    "    \n",
    "- [**Spark Test Notebook**](../spark/spark-test.ipynb)<br>\n",
    "    Verify that your PySpark stack is working."
   ]
  },
  {
   "cell_type": "markdown",
   "metadata": {},
   "source": [
    "---\n",
    "_This notebook is licensed under a [Creative Commons Attribution 4.0 International License (CC BY 4.0)](https://creativecommons.org/licenses/by/4.0/). Copyright © 2018 [Point 8 GmbH](https://point-8.de)_"
   ]
  }
 ],
 "metadata": {
  "kernelspec": {
   "display_name": "Python 3",
   "language": "python",
   "name": "python3"
  },
  "language_info": {
   "codemirror_mode": {
    "name": "ipython",
    "version": 3
   },
   "file_extension": ".py",
   "mimetype": "text/x-python",
   "name": "python",
   "nbconvert_exporter": "python",
   "pygments_lexer": "ipython3",
   "version": "3.6.7"
  }
 },
 "nbformat": 4,
 "nbformat_minor": 2
}
