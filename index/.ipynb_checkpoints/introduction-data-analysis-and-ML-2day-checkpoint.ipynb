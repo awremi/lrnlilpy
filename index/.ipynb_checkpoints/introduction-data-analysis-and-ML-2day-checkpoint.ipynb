{
 "cells": [
  {
   "cell_type": "markdown",
   "metadata": {},
   "source": [
    "# Introduction Data Science and Machine Learning"
   ]
  },
  {
   "cell_type": "markdown",
   "metadata": {},
   "source": [
    "The aim of this workshop is to provide you with the basic knowledge and skills needed to get started with data analysis and machine learning using Python. We will dig in the Python programming language, try relevant libraries and discuss relevant strategies. On sample data sets we will deepen our knowledge and build up our own machine learning pipeline."
   ]
  },
  {
   "cell_type": "markdown",
   "metadata": {},
   "source": [
    "## Table of Contents\n",
    "\n",
    "### Curriculum\n",
    "\n",
    "1. [**Machine Learning Run-Through**](../ml/ml-workflow-with-iris.ipynb) <br>\n",
    "    Using a simple example data set we will explore the general machine learning workflow.<br><br>\n",
    "    \n",
    "2. [**Python Basics**](../python/python-basics.ipynb)<br>\n",
    "    Learn the basics of the Python programming language.<br><br>\n",
    "        \n",
    "3. [**Efficient Computing with numpy**](../python/python-scientific-numpy.ipynb)<br>\n",
    "    Apply the `numpy` library to compute efficiently with large amounts of data.<br><br>\n",
    "\n",
    "4. [**Data Handling with pandas**](../python/python-data-handling-pandas.ipynb)<br>\n",
    "    Learn to work with tabular data, supported by the `pandas` library.<br><br>\n",
    "\n",
    "5. [**Plotting with matplotlib**](../python/python-plotting.ipynb)<br>\n",
    "    Visualize data with plots, using functions of `matplotlib`.<br><br>\n",
    "\n",
    "6. [**Introduction to Statistics**](../stats/stats-basics.ipynb)<br>\n",
    "    First steps with statistics concepts needed for data analysis.<br><br>\n",
    "\n",
    "7. [**Fitting basics**](../stats/stats-fitting-short.ipynb)<br>\n",
    "    General idea of fitting a model to your data and what can go wrong.<br><br>\n",
    "\n",
    "8. **Machine Learning Deep Dive**<br>\n",
    "\n",
    "    Using a generated data set learn and explore the machine learning workflow step by step.\n",
    "    - [Part 1](../ml/ml-workflow-marbles-part-1.ipynb): Start with data import, data preparation, data exploration and feature selection/engineering.\n",
    "\n",
    "    - [Part 2](../ml/ml-workflow-marbles-part-2.ipynb): How to set up a ML model, train it and perform an exhaustive validation.\n",
    "    \n",
    "    - [Part 3](../ml/ml-workflow-marbles-part-3.ipynb): It's your Go! Who can get the best classifier?\n"
   ]
  },
  {
   "cell_type": "markdown",
   "metadata": {},
   "source": [
    "### Additional Resources\n",
    "\n",
    "- [**Test Notebook**](../jupyter/test.ipynb)\n",
    "\n",
    "    Verify that your Python stack is working.\n",
    "   \n",
    "- [**Jupyter Cheat Sheet**](../jupyter/cheatsheet.ipynb)\n",
    "\n",
    "    Some useful commands for Jupyter Notebook, mostly optional."
   ]
  },
  {
   "cell_type": "markdown",
   "metadata": {},
   "source": [
    "### Exercises Data Analytics and/or Machine Learning\n",
    "\n",
    "1. [**Excercise: Museums of France**](../exercises/exercise-museums.ipynb)\n",
    "\n",
    "    An exercise with a clear task, requiring you to apply the learnings from the course.\n",
    "   \n",
    "2. [**Excercise: Titanic**](../exercises/exercise-titanic.ipynb)\n",
    "\n",
    "    An open-ended exercise to practice answering questions with data."
   ]
  },
  {
   "cell_type": "markdown",
   "metadata": {},
   "source": [
    "---\n",
    "_This notebook is licensed under a [Creative Commons Attribution 4.0 International License (CC BY 4.0)](https://creativecommons.org/licenses/by/4.0/). Copyright © 2018 [Point 8 GmbH](https://point-8.de)_"
   ]
  }
 ],
 "metadata": {
  "kernelspec": {
   "display_name": "Python 3",
   "language": "python",
   "name": "python3"
  },
  "language_info": {
   "codemirror_mode": {
    "name": "ipython",
    "version": 3
   },
   "file_extension": ".py",
   "mimetype": "text/x-python",
   "name": "python",
   "nbconvert_exporter": "python",
   "pygments_lexer": "ipython3",
   "version": "3.6.3"
  }
 },
 "nbformat": 4,
 "nbformat_minor": 2
}
