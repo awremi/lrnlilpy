{
 "cells": [
  {
   "cell_type": "markdown",
   "metadata": {},
   "source": [
    "# Big Data Analysis with PySpark [BDAS1]\n",
    "\n",
    "This course takes you all the way to the ability to process and analyze data of any size. Starting from first steps Python programming, we then cover basic data analysis methods and Python tools for applying them. For truly big data sets, we teach how to harness the computing power of a cluster via PySpark."
   ]
  },
  {
   "cell_type": "markdown",
   "metadata": {},
   "source": [
    "## Table of Contents\n",
    "\n",
    "### Curriculum\n",
    " \n",
    "\n",
    "1. [**Processing Big Data**](../python/python-big-data.ipynb)<br>\n",
    "   What strategies do we have available to compute efficiently with increasing amounts of data?  What is a cluster, and when do we need one?\n",
    "   \n",
    "1. [**Spark Fundamentals**](../spark/spark-fundamentals.ipynb)<br>\n",
    "   An overview of Spark - a framework for programming distributed computation, using PySpark, its Python API - core data structures and operations.\n",
    "   \n",
    "1. [**Submitting Spark Jobs**](../spark/spark-submitting.ipynb)<br>\n",
    "   How to submit jobs to a Spark cluster for batch processing.\n",
    "   \n",
    "1. [**Spark and Structured Data**](../spark/spark-structured-data.ipynb)<br>\n",
    "   Working with structured data in Spark.\n",
    "   \n",
    "\n"
   ]
  },
  {
   "cell_type": "markdown",
   "metadata": {},
   "source": [
    "### Exercises\n",
    "\n",
    "1. [**Excercise: Museums of France**](../exercises/exercise-museums.ipynb)<br>\n",
    "    An exercise with a clear task, requiring you to apply the learnings from the course.\n",
    "   \n",
    "1. [**Excercise: Counting Bigrams**](../spark/spark-exercise-bigrams.ipynb)<br>\n",
    "    Using Spark to count bigrams in big text data.\n"
   ]
  },
  {
   "cell_type": "markdown",
   "metadata": {},
   "source": [
    "### Exercises: Solution Examples\n",
    "\n",
    "1. [**Excercise Solution: Museums of France**](../exercises/exercise-museums-solution.ipynb)<br>\n",
    "   \n",
    "1. [**Spark Exercise Solutions**](../exercises/spark-exercise-solutions.ipynb)\n"
   ]
  },
  {
   "cell_type": "markdown",
   "metadata": {},
   "source": [
    "### Additional Resources\n",
    "\n",
    "- [**Test Notebook**](../jupyter/test.ipynb)<br>\n",
    "    Verify that your Python stack is working.\n",
    "\n",
    "- [**Jupyter Cheat Sheet**](../jupyter/cheatsheet.ipynb)<br>\n",
    "    Some useful commands for Jupyter Notebook, mostly optional.\n",
    "    \n",
    "- [**Spark Test Notebook**](../spark/spark-test.ipynb)<br>\n",
    "    Verify that your PySpark stack is working."
   ]
  },
  {
   "cell_type": "markdown",
   "metadata": {},
   "source": [
    "---\n",
    "_This notebook is licensed under a [Creative Commons Attribution 4.0 International License (CC BY 4.0)](https://creativecommons.org/licenses/by/4.0/). Copyright © 2018 [Point 8 GmbH](https://point-8.de)_"
   ]
  }
 ],
 "metadata": {
  "kernelspec": {
   "display_name": "Python 3",
   "language": "python",
   "name": "python3"
  },
  "language_info": {
   "codemirror_mode": {
    "name": "ipython",
    "version": 3
   },
   "file_extension": ".py",
   "mimetype": "text/x-python",
   "name": "python",
   "nbconvert_exporter": "python",
   "pygments_lexer": "ipython3",
   "version": "3.6.7"
  }
 },
 "nbformat": 4,
 "nbformat_minor": 2
}
