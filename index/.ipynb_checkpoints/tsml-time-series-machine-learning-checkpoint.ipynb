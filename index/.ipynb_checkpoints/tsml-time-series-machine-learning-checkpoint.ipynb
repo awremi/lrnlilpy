{
 "cells": [
  {
   "cell_type": "markdown",
   "metadata": {},
   "source": [
    "# Machine Learning on Time Series\n",
    "\n"
   ]
  },
  {
   "cell_type": "markdown",
   "metadata": {},
   "source": [
    "## Table of Contents\n",
    "\n",
    "### Curriculum\n",
    "\n",
    "1. **[Overview](../timeseries/tsml-overview.ipynb)**<br>\n",
    "    An overview over machine learning on time series.\n",
    "\n",
    "1. **[Handling Time Series with pandas](../python/python-timeseries-pandas.ipynb)**<br>\n",
    "    Working with time series data as dataframes.\n",
    "    \n",
    "1. **Machine Learning Recap**<br>\n",
    "  \n",
    "  1. **About Classification**<br>\n",
    "      Learn about classifiers and how to measure the quality of their decisions.\n",
    "  \n",
    "  1. **Algorithm Selection and Hyperparameter Tuning**<br>\n",
    "     Select the right algorithm for the job and optimize performance.\n",
    "   \n",
    "  1. **Building ML Pipelines with `scikit-learn`**<br>\n",
    "  \n",
    "1. **TensorFlow Crash Course**<br>\n",
    "\n",
    "\n",
    "1. **[Feature Engineering on Time Series](../python/tsml-feature-engineering.ipynb)**<br>\n",
    "\n",
    "1. **[Time Series Classification](../timeseries/tsml-classification.ipynb)**<br>\n",
    "\n",
    "1. **Forecasting**\n",
    "\n",
    "    1. **[About Time Series Forecasting]()**<br>\n",
    "\n",
    "    1. **[LSTM Network for Time Series Forecasting](../timeseries/tsml-lstm.ipynb)**<br>\n",
    "        We use an LSTM neural network to forecast a time series."
   ]
  },
  {
   "cell_type": "markdown",
   "metadata": {},
   "source": [
    "### Additional Resources\n",
    "\n",
    "- [**Python Test Notebook**](../jupyter/test.ipynb)<br>\n",
    "    Verify that your Python stack is working.\n",
    "\n",
    "   \n",
    "- [**Jupyter Cheat Sheet**](../jupyter/cheatsheet.ipynb)<br>\n",
    "    Some useful commands for Jupyter Notebook, mostly optional."
   ]
  },
  {
   "cell_type": "markdown",
   "metadata": {},
   "source": [
    "---\n",
    "_This notebook is licensed under a [Creative Commons Attribution 4.0 International License (CC BY 4.0)](https://creativecommons.org/licenses/by/4.0/). Copyright © 2018 [Point 8 GmbH](https://point-8.de)_"
   ]
  }
 ],
 "metadata": {
  "kernelspec": {
   "display_name": "Python 3",
   "language": "python",
   "name": "python3"
  },
  "language_info": {
   "codemirror_mode": {
    "name": "ipython",
    "version": 3
   },
   "file_extension": ".py",
   "mimetype": "text/x-python",
   "name": "python",
   "nbconvert_exporter": "python",
   "pygments_lexer": "ipython3",
   "version": "3.6.7"
  }
 },
 "nbformat": 4,
 "nbformat_minor": 2
}
