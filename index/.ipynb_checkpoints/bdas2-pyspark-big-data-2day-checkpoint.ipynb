{
 "cells": [
  {
   "cell_type": "markdown",
   "metadata": {},
   "source": [
    "# (Big) Data Analysis with Python and PySpark [BDAPS2]\n",
    "\n",
    "This course takes you all the way to the ability to process and analyze data of any size. Starting from first steps Python programming, we then cover basic data analysis methods and Python tools for applying them. For truly big data sets, we teach how to harness the computing power of a cluster via PySpark."
   ]
  },
  {
   "cell_type": "markdown",
   "metadata": {},
   "source": [
    "## Table of Contents\n",
    "\n",
    "### Curriculum\n",
    "\n",
    "1. [**Python Basics**](../python/python-basics.ipynb)<br>\n",
    "    Learn the basics of the Python programming language.\n",
    "    \n",
    "1. [**Efficient Computing with numpy**](../python/python-scientific-numpy.ipynb)<br>\n",
    "    Apply the `numpy` library to compute efficiently with large amounts of data.\n",
    "    \n",
    "1. [**Data Handling with pandas**](../python/python-data-handling-pandas.ipynb)<br>\n",
    "    Learn to work with tabular data, supported by the `pandas` library.\n",
    "\n",
    "1. [**Plotting with matplotlib**](../python/python-plotting.ipynb)<br>\n",
    "    Visualize data with plots, using functions of `matplotlib`.\n",
    "\n",
    "1. [**Introduction to Statistics**](../stats/stats-basics.ipynb)<br>\n",
    "    First steps with statistics concepts needed for data analysis.\n",
    "\n",
    "1. [**Distributed Computing**]()<br>\n",
    "   What is a cluster, and when do we need one?\n",
    "   \n",
    "1. [**Spark Fundamentals**](../spark/spark-fundamentals.ipynb)<br>\n",
    "   An overview of Spark - a framework for programming distributed computation, using PySpark, its Python API - core data structures and operations.\n",
    "   \n",
    "1. [**Spark SQL and Data Frames**]()<br>\n",
    "   Working with structured data in Spark.\n",
    "   \n",
    "1. [**Outlook: Machine Learning with PySpark and MLlib**]()<br>"
   ]
  },
  {
   "cell_type": "markdown",
   "metadata": {},
   "source": [
    "### Exercises\n",
    "\n",
    "1. [**Excercise: Museums of France**](../exercises/exercise-museums.ipynb)<br>\n",
    "    An exercise with a clear task, requiring you to apply the learnings from the course.\n",
    "   \n",
    "1. [**Excercise: Titanic**](../exercises/exercise-titanic.ipynb)<br>\n",
    "    An open-ended exercise to practice answering questions with data.\n",
    "\n",
    "1. [**Exercise: Counting Bigrams in Wikipedia**]()<br>\n",
    "    Apply the fundamentals of Spark programming to analyze large amounts of text.\n"
   ]
  },
  {
   "cell_type": "markdown",
   "metadata": {},
   "source": [
    "### Additional Resources\n",
    "\n",
    "- [**Test Notebook**](../jupyter/test.ipynb)<br>\n",
    "    Verify that your Python stack is working.\n",
    "   \n",
    "- [**Jupyter Cheat Sheet**](../jupyter/cheatsheet.ipynb)<br>\n",
    "    Some useful commands for Jupyter Notebook, mostly optional."
   ]
  },
  {
   "cell_type": "markdown",
   "metadata": {},
   "source": [
    "---\n",
    "_This notebook is licensed under a [Creative Commons Attribution 4.0 International License (CC BY 4.0)](https://creativecommons.org/licenses/by/4.0/). Copyright © 2018 [Point 8 GmbH](https://point-8.de)_"
   ]
  }
 ],
 "metadata": {
  "kernelspec": {
   "display_name": "Python 3",
   "language": "python",
   "name": "python3"
  },
  "language_info": {
   "codemirror_mode": {
    "name": "ipython",
    "version": 3
   },
   "file_extension": ".py",
   "mimetype": "text/x-python",
   "name": "python",
   "nbconvert_exporter": "python",
   "pygments_lexer": "ipython3",
   "version": "3.6.4"
  }
 },
 "nbformat": 4,
 "nbformat_minor": 2
}
