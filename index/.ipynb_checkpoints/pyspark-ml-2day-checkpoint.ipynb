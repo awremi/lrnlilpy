{
 "cells": [
  {
   "cell_type": "markdown",
   "metadata": {},
   "source": [
    "**WIP: Remove this bei Zeiten**\n",
    "\n",
    "Ressources\n",
    "- https://github.com/awantik/pyspark-tutorial/wiki/Machine-Learning-with-PySpark"
   ]
  },
  {
   "cell_type": "markdown",
   "metadata": {},
   "source": [
    "# Applied machine learning with PySpark\n",
    "\n"
   ]
  },
  {
   "cell_type": "markdown",
   "metadata": {},
   "source": [
    "Starting where the _<python+spark-intro>_[+ Link] course led us, this 2-day course will prepare you with all the essentials needed to prepare, train, and evaluate machine learning models using the PySpark API on big data sets. Designed as hands-on workshops, you will successfuly navigate through the shallow waters and cliffs around Ml insland ;) _(please rephrase)_"
   ]
  },
  {
   "cell_type": "markdown",
   "metadata": {},
   "source": [
    "## Table of Contents\n",
    "\n",
    "### Curriculum\n",
    "\n",
    "1. [**Intro**](../pyspark/...)<br>\n",
    "    ...\n",
    "\n",
    "1. [**A refresher: the PySpark API**](../pyspark/...)<br>\n",
    "    A brief recapitulation of the Python Spark API\n",
    "\n",
    "1. [**Building machine learning models with MLlib**](../pyspark/...)<br>\n",
    "    The MLlib library, overview and possibilities --> DataFrame-based API, RDD based API \"in maintenance mode\", https://spark.apache.org/docs/latest/ml-guide.html#announcement-dataframe-based-api-is-primary-api\n",
    "\n",
    "1. [**ML pipelines**](../pyspark/...)<br>\n",
    "    The big picture: peparing data, training models, and model evaluation using pipelines\n",
    "\n",
    "1. **Binary Classification**<br>\n",
    "\n",
    "1. **Linear Regression**<br>\n",
    "\n",
    "1. **Clustering**<br>\n",
    "\n",
    "1. **Collaborative Filtering**<br>\n"
   ]
  },
  {
   "cell_type": "markdown",
   "metadata": {},
   "source": [
    "### Additional Resources\n",
    "\n",
    "- [**Test Notebook**](../jupyter/test.ipynb)<br>\n",
    "    Verify that your Python stack is working.\n",
    "   \n",
    "- [**Jupyter Cheat Sheet**](../jupyter/cheatsheet.ipynb)<br>\n",
    "    Some useful commands for Jupyter Notebook, mostly optional."
   ]
  },
  {
   "cell_type": "markdown",
   "metadata": {},
   "source": [
    "### Prerequisites\n",
    "\n",
    "- Python\n",
    "- Data Science basics\n",
    "    - Data handling\n",
    "    - Feature engineering\n",
    "    - Model preparation and training\n",
    "    - Model validation"
   ]
  },
  {
   "cell_type": "markdown",
   "metadata": {},
   "source": [
    "---\n",
    "_This notebook is licensed under a [Creative Commons Attribution 4.0 International License (CC BY 4.0)](https://creativecommons.org/licenses/by/4.0/). Copyright © 2018 [Point 8 GmbH](https://point-8.de)_"
   ]
  }
 ],
 "metadata": {
  "kernelspec": {
   "display_name": "Python 3",
   "language": "python",
   "name": "python3"
  },
  "language_info": {
   "codemirror_mode": {
    "name": "ipython",
    "version": 3
   },
   "file_extension": ".py",
   "mimetype": "text/x-python",
   "name": "python",
   "nbconvert_exporter": "python",
   "pygments_lexer": "ipython3",
   "version": "3.6.3"
  }
 },
 "nbformat": 4,
 "nbformat_minor": 2
}
