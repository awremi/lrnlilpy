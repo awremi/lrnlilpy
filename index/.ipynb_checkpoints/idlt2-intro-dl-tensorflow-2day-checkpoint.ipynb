{
 "cells": [
  {
   "cell_type": "markdown",
   "metadata": {},
   "source": [
    "# Introduction to Deep Learning with TensorFlow [IDLT2]\n",
    "\n",
    "Get started with neural networks and deep learning, applying the TensorFlow and Keras libraries.\n",
    "\n",
    "The course requires knowledge of Python programming, fundamentals of data science, data handling, and machine learning concepts like feature engineering, model training and model validation. These requirements are conveyed in [📓 Introduction to Data Science and Machine Learning with Python](dsml2-introduction-data-analysis-and-ml-2day.ipynb)\n"
   ]
  },
  {
   "cell_type": "markdown",
   "metadata": {},
   "source": [
    "## Table of Contents\n",
    "\n",
    "### Curriculum\n",
    "\n",
    "\n",
    "1. [**Our First Working Neural Network**](../dl/dl-first-example.ipynb)<br>\n",
    "   \n",
    "1. [**Neural Networks**]()<br>\n",
    "   Some theory on neural networks.\n",
    "   \n",
    "1. [**TensorFlow Fundamentals**](../dl/)<br>\n",
    "   The building blocks provided by the TensorFlow library.\n",
    "   \n",
    "1. [**Keras: A High-Level API for Building Networks**](../dl/)<br>\n",
    "\n",
    "1. [**The Training Phase**](../dl/)<br>\n",
    "\n",
    "1. [**Autoencoders**](../dl/)\n",
    "\n",
    "1. [**Image Recognition**](../dl/)\n",
    "\n",
    "1. [**TensorBoard**](../dl/)<br>\n",
    "   \n",
    "\n"
   ]
  },
  {
   "cell_type": "markdown",
   "metadata": {},
   "source": [
    "### Exercise Solutions\n"
   ]
  },
  {
   "cell_type": "markdown",
   "metadata": {},
   "source": [
    "### Additional Resources\n",
    "\n",
    "- [**Python Test Notebook**](../jupyter/test.ipynb)<br>\n",
    "    Verify that your Python stack is working.\n",
    "    \n",
    "- [**TensorFlow Test Notebook**](../)<br>\n",
    "    Verify that your TensorFlow stack is working.\n",
    "    \n",
    "- [**Jupyter Cheat Sheet**](../jupyter/cheatsheet.ipynb)<br>\n",
    "    Some useful commands for Jupyter Notebook, mostly optional."
   ]
  },
  {
   "cell_type": "markdown",
   "metadata": {},
   "source": [
    "---\n",
    "_This notebook is licensed under a [Creative Commons Attribution 4.0 International License (CC BY 4.0)](https://creativecommons.org/licenses/by/4.0/). Copyright © 2018 [Point 8 GmbH](https://point-8.de)_"
   ]
  }
 ],
 "metadata": {
  "kernelspec": {
   "display_name": "Python 3",
   "language": "python",
   "name": "python3"
  },
  "language_info": {
   "codemirror_mode": {
    "name": "ipython",
    "version": 3
   },
   "file_extension": ".py",
   "mimetype": "text/x-python",
   "name": "python",
   "nbconvert_exporter": "python",
   "pygments_lexer": "ipython3",
   "version": "3.6.5"
  }
 },
 "nbformat": 4,
 "nbformat_minor": 2
}
