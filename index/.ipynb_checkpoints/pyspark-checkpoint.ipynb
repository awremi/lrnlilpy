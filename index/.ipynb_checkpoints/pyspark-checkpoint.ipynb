{
 "cells": [
  {
   "cell_type": "markdown",
   "metadata": {},
   "source": [
    "# Big Data Analysis with PySpark\n",
    "\n",
    "This course gets you started with scaling data science methods to large amounts of data by using PySpark to control distributed computing on a cluster.\n",
    "\n",
    "The course requires basic knowledge of Python programming, fundamentals of data science, data handling, and some machine learning concepts like feature engineering, model training and model validation. These requirements are conveyed in [📓 Introduction to Data Science and Machine Learning with Python](index/introduction-data-analysis-and-ML-2day.ipynb)\n"
   ]
  },
  {
   "cell_type": "markdown",
   "metadata": {},
   "source": [
    "## Table of Contents\n",
    "\n",
    "### Curriculum\n",
    "\n",
    "\n",
    "1. [**Distributed Computing**]()<br>\n",
    "   What is a cluster, and when do we need one?\n",
    "   \n",
    "1. [**Spark Fundamentals**](../spark/spark-fundamentals.ipynb)<br>\n",
    "   An overview of Spark - a framework for programming distributed computation, using PySpark, its Python API - core data structures and operations.\n",
    "   \n",
    "1. [**Spark SQL and Data Frames**]()<br>\n",
    "   Working with structured data in Spark.\n",
    "   \n",
    "1. [**Machine Learning with Spark**]()<br>\n",
    "   \n",
    "   1. [**Overview**]()\n",
    "   \n",
    "   1. [**MLlib**]()\n",
    "   \n",
    "   1. [**Example: Binary Classification**]()\n",
    "   \n",
    "   1. [**Example: Linear Regression**]()\n",
    "   \n",
    "   1. [**Example: Clustering**]()\n",
    "   \n",
    "   1. [**Example: Collaborative Filtering**]()\n",
    "   \n",
    "   \n",
    "\n",
    "### Exercises\n",
    "\n",
    "1. [**Exercise: PageRank**]()?\n"
   ]
  },
  {
   "cell_type": "markdown",
   "metadata": {},
   "source": [
    "### Additional Resources\n",
    "\n",
    "- [**Test Notebook**](../jupyter/test.ipynb)<br>\n",
    "    Verify that your Python stack is working.\n",
    "   \n",
    "- [**Jupyter Cheat Sheet**](../jupyter/cheatsheet.ipynb)<br>\n",
    "    Some useful commands for Jupyter Notebook, mostly optional."
   ]
  },
  {
   "cell_type": "markdown",
   "metadata": {},
   "source": [
    "---\n",
    "_This notebook is licensed under a [Creative Commons Attribution 4.0 International License (CC BY 4.0)](https://creativecommons.org/licenses/by/4.0/). Copyright © 2018 [Point 8 GmbH](https://point-8.de)_"
   ]
  }
 ],
 "metadata": {
  "kernelspec": {
   "display_name": "Python 3",
   "language": "python",
   "name": "python3"
  },
  "language_info": {
   "codemirror_mode": {
    "name": "ipython",
    "version": 3
   },
   "file_extension": ".py",
   "mimetype": "text/x-python",
   "name": "python",
   "nbconvert_exporter": "python",
   "pygments_lexer": "ipython3",
   "version": "3.6.4"
  }
 },
 "nbformat": 4,
 "nbformat_minor": 2
}
