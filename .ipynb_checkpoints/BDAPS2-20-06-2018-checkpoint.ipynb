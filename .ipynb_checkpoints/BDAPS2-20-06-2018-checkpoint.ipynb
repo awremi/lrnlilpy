{
 "cells": [
  {
   "cell_type": "markdown",
   "metadata": {
    "slideshow": {
     "slide_type": "slide"
    }
   },
   "source": [
    "![](graphics/PySpark.png)\n",
    "\n",
    "# (Big) Data Analysis with Python and PySpark\n",
    "\n",
    "**_\"This course gets you started with scaling data science methods to large amounts of data by using PySpark to control distributed computing on a cluster.\"_**\n",
    "\n",
    "### [Point 8 GmbH](https://point-8.de/) für [ExperTeach Gesellschaft für Netzwerkkompetenz mbH](https://www.experteach.eu/de/)\n",
    "\n",
    "**Ort,Zeit:** Düsseldorf, 20./21.6.2018<br>\n",
    "**Trainer:** [Dr. Christian Staudt, Data Scientist](http://clstaudt.me/) - E-Mail: mail@clstaudt.me - Twitter: [@C_L_Staudt](https://twitter.com/C_L_Staudt) <br>\n",
    "\n",
    "--------------\n",
    "\n",
    "Dieser Kurs ist Teil unseres \"Kursbaukastens\" **_Data Science 101_** - Technical Trainings im Bereich Datenanalyse, von den Grundlagen der Programmierung bis hin zu State-of-the-Art Machine Learning.\n",
    "\n",
    "**Weitere Kurse aus _Data Science 101_** z.B.:\n",
    "- [📓 Introduction to Data Analysis with Python (1 Tag)](index/dap1-introduction-data-analysis-1day.ipynb)\n",
    "- [📓 Introduction Data Science and Machine Learning (2-3 Tage)](index/dsml2-introduction-data-analysis-and-ml-2day.ipynb)\n",
    "- [📓 Machine Learning with PySpark (2 Tage)](index/mls2-pyspark-machine-learning-2day.ipynb)\n",
    "\n",
    "\n",
    "- weitere **ExperTeach Kurse im Bereich [Digitalisierung, Industrie 4.0 & IoT](https://www.experteach.eu/de/training/experteach-networking/industrie-4.0-und-iot/)**\n",
    "\n",
    "---------------"
   ]
  },
  {
   "cell_type": "markdown",
   "metadata": {},
   "source": [
    "## Kursmaterialien und interaktive Übungen\n",
    "\n",
    "- **Jupyter Notebook Server** unter **[training1.point-8.de](https://training1.point-8.de)** und **[training2.point-8.de](https://training2.point-8.de)**\n",
    "- Logins pro Server: Benutzername & Passwort: `user1`, `user2`, ..., `user7`\n",
    "-------------------"
   ]
  },
  {
   "cell_type": "markdown",
   "metadata": {},
   "source": [
    "## [📓 -> zum Inhaltsverzeichnis](index/bdaps2-pyspark-big-data-2day.ipynb)"
   ]
  }
 ],
 "metadata": {
  "kernelspec": {
   "display_name": "Python 3",
   "language": "python",
   "name": "python3"
  },
  "language_info": {
   "codemirror_mode": {
    "name": "ipython",
    "version": 3
   },
   "file_extension": ".py",
   "mimetype": "text/x-python",
   "name": "python",
   "nbconvert_exporter": "python",
   "pygments_lexer": "ipython3",
   "version": "3.6.5"
  }
 },
 "nbformat": 4,
 "nbformat_minor": 2
}
