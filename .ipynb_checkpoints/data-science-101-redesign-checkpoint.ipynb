{
 "cells": [
  {
   "cell_type": "markdown",
   "metadata": {},
   "source": [
    "# Data Science 101\n",
    "\n",
    "\n",
    "![](data-science-101-concept.jpg)"
   ]
  },
  {
   "cell_type": "markdown",
   "metadata": {},
   "source": [
    "## Data Analysis with Python [DAP2]\n",
    "\n",
    "A 2-day intensive course covering the essentials for getting started with data analysis in Python. From the Python programming language to an ecosystem of powerful tools for data handling, analysis and visualization.\n",
    "\n",
    "- **Level**: Beginner\n",
    "- **Duration**: 2 day\n",
    "- **Index notebook**: [📓 Start course]()"
   ]
  },
  {
   "cell_type": "markdown",
   "metadata": {},
   "source": [
    "## Machine Learning with Python [MLP2]\n",
    "\n",
    "A 2-day intensive course enabling the participants to build machine learning applications with Python and the scikit-learn framework. We work on typical machine learning cases using hands-on examples.\n",
    "\n",
    "- **Level**: Intermediate\n",
    "- **Duration**: 2 days\n",
    "- **Index notebook**: [📓 Start course]()"
   ]
  },
  {
   "cell_type": "markdown",
   "metadata": {},
   "source": [
    "## Big Data Analysis with PySpark [BDAS1]\n",
    "\n",
    "This course gets you started with scaling data analysis methods to large amounts of data, using PySpark to control distributed computing on a cluster.\n",
    "\n",
    "- **Level**: Intermediate\n",
    "- **Duration**: 1 day\n",
    "- **Index notebook**: [📓 Start course]()"
   ]
  },
  {
   "cell_type": "markdown",
   "metadata": {},
   "source": [
    "## Machine Learning with PySpark [MLS2]\n",
    "\n",
    "We introduce machine learning and equip our toolbox with PySpark's ML library to efficiently train models on large amounts of data.\n",
    "\n",
    "- **Level**: Advanced\n",
    "- **Duration**: 2 days\n",
    "- **Index notebook**: [📓 Start course](index/mls2-pyspark-machine-learning-2day.ipynb)"
   ]
  },
  {
   "cell_type": "markdown",
   "metadata": {},
   "source": [
    "## Deep Learning with TensorFlow [DLT2]\n",
    "\n",
    "Get started with neural networks and deep learning, applying the TensorFlow and Keras libraries.\n",
    "\n",
    "- **Level**: Advanced\n",
    "- **Duration**: 2 days\n",
    "\n",
    "- **Index notebook**: [📓 Start course](index/dlt2-intro-dl-tensorflow-2day.ipynb)"
   ]
  },
  {
   "cell_type": "markdown",
   "metadata": {},
   "source": [
    "---\n",
    "_This notebook is licensed under a [Creative Commons Attribution 4.0 International License (CC BY 4.0)](https://creativecommons.org/licenses/by/4.0/). Copyright © 2018 [Point 8 GmbH](https://point-8.de)_"
   ]
  }
 ],
 "metadata": {
  "kernelspec": {
   "display_name": "Python 3",
   "language": "python",
   "name": "python3"
  },
  "language_info": {
   "codemirror_mode": {
    "name": "ipython",
    "version": 3
   },
   "file_extension": ".py",
   "mimetype": "text/x-python",
   "name": "python",
   "nbconvert_exporter": "python",
   "pygments_lexer": "ipython3",
   "version": "3.6.7"
  }
 },
 "nbformat": 4,
 "nbformat_minor": 2
}
