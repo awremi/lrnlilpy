{
 "cells": [
  {
   "cell_type": "markdown",
   "metadata": {},
   "source": [
    "# Machine Learning - Data Science und künstliche Intelligenz [**KIML**]\n",
    "\n",
    "## [Point 8 GmbH](https://point-8.de/) für [ExperTeach Gesellschaft für Netzwerkkompetenz mbH](https://www.experteach.eu/de/)\n",
    "**Ort/Zeit:** Dietzenbach/Frankfurt - 05.06.-07.06.18<br>\n",
    "**Trainer:** Dr. Julian von der Ecken<br>\n",
    "**Kurs:** *\"Machine Learning - Data Science und künstliche Intelligenz\"* ([Onlinekursbeschreibung](https://www.experteach.eu/de/training/experteach-networking/industrie-4.0-und-iot/machine-learning-und-k%C3%BCnstliche-intelligenz/kiml.html))<br>\n",
    "<br>\n",
    "**Nächste/weitere Kurse:**\n",
    "* [*\"Machine Learning - Data Science und künstliche Intelligenz\"*](https://www.experteach.eu/de/training/experteach-networking/industrie-4.0-und-iot/machine-learning-und-k%C3%BCnstliche-intelligenz/kiml.html):\n",
    "        - 17.-19.09.18 (garantiert) & 19.-21.12.18 (beide Dietzenbach/Frankfurt)\n",
    "        - weitere Kurse und Standorte gerne auf Anfrage\n",
    "* [*\"Machine Learning Hands-on Workshop\"*](https://www.experteach.eu/de/training/experteach-networking/industrie-4.0-und-iot/machine-learning-und-k%C3%BCnstliche-intelligenz/mlws.html): \n",
    "        - 11.07.-12.07.18 & 08.10.-09.10.18 (beide Dietzenbach/Frankfurt)\n",
    "* weitere Spezialtrainings mit Point 8: z.B. [*\"Machine Learning with PySpark\"*](index/mls2-pyspark-machine-learning-2day.ipynb) oder [*\"(Big) Data Analysis with Python and PySpark\"*](index/bdaps2-pyspark-big-data-2day.ipynb)\n",
    "* weitere ExperTeach Kurse im Bereich [Digitalisierung, Industrie 4.0 & IoT](https://www.experteach.eu/de/training/experteach-networking/industrie-4.0-und-iot/)"
   ]
  },
  {
   "cell_type": "markdown",
   "metadata": {},
   "source": [
    "## Table of Contents\n",
    "\n",
    "The aim of this workshop is to provide you with the basic knowledge and skills needed to get started with data analysis and machine learning using Python. We will dig in the Python programming language, try relevant libraries and discuss relevant strategies. On sample data sets we will deepen our knowledge and build up our own machine learning pipeline. In addition we compare different methods and algorithms on some generated data.\n",
    "\n",
    "### Curriculum\n",
    "\n",
    "1. [**Machine Learning Run-Through**](ml/ml-workflow-with-iris.ipynb) <br>\n",
    "    Using a simple example data set we will explore the general machine learning workflow.\n",
    "    \n",
    "2. [**Python Basics**](python/python-basics.ipynb)<br>\n",
    "    Learn the basics of the Python programming language.\n",
    "        \n",
    "3. [**Efficient Computing with numpy**](python/python-scientific-numpy.ipynb)<br>\n",
    "    Apply the `numpy` library to compute efficiently with large amounts of data.\n",
    "\n",
    "4. [**Data Handling with pandas**](python/python-data-handling-pandas.ipynb)<br>\n",
    "    Learn to work with tabular data, supported by the `pandas` library.\n",
    "\n",
    "5. [**Plotting with matplotlib**](python/python-plotting.ipynb)<br>\n",
    "    Visualize data with plots, using functions of `matplotlib`.\n",
    "\n",
    "6. [**Introduction to Statistics**](stats/stats-basics.ipynb)<br>\n",
    "    First steps with statistics concepts needed for data analysis.\n",
    "\n",
    "7. [**Fitting**](stats/stats-fitting-long.ipynb)<br>\n",
    "    General idea of probability distributions, fitting a model to your data and what can go wrong.\n",
    "\n",
    "8. **Machine Learning Deep Dive**<br>\n",
    "    Using a test data set learn and explore the machine learning workflow step by step.\n",
    "    - [Part 1](ml/ml-workflow-marbles-part-1.ipynb): Start with data import, data preparation, data exploration and feature selection/engineering.\n",
    "    - [Part 2-basics](ml/ml-workflow-marbles-part-2-only-basic-validation.ipynb): How to set up a ML model, train it and perform an initial validation.\n",
    "    - [Part 2](ml/ml-workflow-marbles-part-2.ipynb): How to set up a ML model, train it and perform an exhaustive validation and performance test on the trained model.\n",
    "    - [Part 3](ml/ml-workflow-marbles-part-3-exercises.ipynb): It's your Go! Who can get the best classifier?\n",
    "    - [Unsupervised learning](ml/ml-marbles-unsupervised-learning.ipynb): What about unsupervised learning on the data set?\n",
    "    \n",
    "9. [**ML Compendium**](ml/ml-compendium.ipynb)<br>\n",
    "    Using some generated data sets compare the performance of different machine learning algorithms."
   ]
  },
  {
   "cell_type": "markdown",
   "metadata": {},
   "source": [
    "### Exercises\n",
    "\n",
    "Feel free to use this test data sets and notebooks for further exploration and deepening of your new skills. You can find more machine learning data sets online at [UC Irvine Machine Learning Repository](https://archive.ics.uci.edu/ml/index.php).\n",
    "\n",
    "1. [**Excercise: Museums of France**](exercises/exercise-museums.ipynb)<br>\n",
    "    An exercise with a clear task, requiring you to apply the learnings from the course.\n",
    "   \n",
    "2. [**Excercise: Titanic**](exercises/exercise-titanic.ipynb)<br>\n",
    "    An open-ended exercise to practice answering questions with data."
   ]
  },
  {
   "cell_type": "markdown",
   "metadata": {},
   "source": [
    "### Additional Resources\n",
    "\n",
    "- [**Test Notebook**](jupyter/test.ipynb)<br>\n",
    "    Verify that your Python stack is working.\n",
    "\n",
    "- [**Jupyter Cheat Sheet**](jupyter/cheatsheet.ipynb)<br>\n",
    "    Some useful commands for Jupyter Notebook, mostly optional."
   ]
  },
  {
   "cell_type": "markdown",
   "metadata": {},
   "source": [
    "---\n",
    "_This notebook is licensed under a [Creative Commons Attribution 4.0 International License (CC BY 4.0)](https://creativecommons.org/licenses/by/4.0/). Copyright © 2018 [Point 8 GmbH](https://point-8.de)_"
   ]
  }
 ],
 "metadata": {
  "kernelspec": {
   "display_name": "Python 3",
   "language": "python",
   "name": "python3"
  },
  "language_info": {
   "codemirror_mode": {
    "name": "ipython",
    "version": 3
   },
   "file_extension": ".py",
   "mimetype": "text/x-python",
   "name": "python",
   "nbconvert_exporter": "python",
   "pygments_lexer": "ipython3",
   "version": "3.6.5"
  }
 },
 "nbformat": 4,
 "nbformat_minor": 2
}
