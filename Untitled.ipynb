{
 "cells": [
  {
   "cell_type": "code",
   "execution_count": 6,
   "id": "thick-telescope",
   "metadata": {},
   "outputs": [],
   "source": [
    "import sqlite3\n",
    "dbcon = sqlite3.connect(\"geburtstage.db\")\n",
    "dbcur = dbcon.cursor()\n",
    "\n",
    "dbsql = \"\"\"\n",
    "CREATE TABLE IF NOT EXISTS personen (\n",
    "vorname VARCHAR(20), \n",
    "nachname VARCHAR(30), \n",
    "geburtstag DATE\n",
    ");\"\"\"\n",
    "\n",
    "dbcur.execute(dbsql)\n",
    "\n",
    "dbcon.commit()\n",
    "\n",
    "dbcon.close()"
   ]
  },
  {
   "cell_type": "code",
   "execution_count": 11,
   "id": "affected-medium",
   "metadata": {},
   "outputs": [],
   "source": [
    "dbcon = sqlite3.connect(\"geburtstage.db\")\n",
    "dbcur = dbcon.cursor()\n",
    "\n",
    "cont = [('Georg Wilhelm Friedrich', 'Hegel', '27.08.1770'), \n",
    "        ('Johann Christian Friedrich', 'Hölderlin', '20.03.1770'), \n",
    "        ('Rudolf Ludwig Carl', 'Virchow', '13.10.1821')]\n",
    "dbcur.executemany(\n",
    "    \"\"\"\n",
    "    INSERT INTO personen\n",
    "    VALUES(?,?,?)\n",
    "    \"\"\",cont\n",
    ")\n",
    "\n",
    "dbcon.commit()\n"
   ]
  },
  {
   "cell_type": "code",
   "execution_count": 12,
   "id": "sophisticated-encyclopedia",
   "metadata": {},
   "outputs": [
    {
     "name": "stdout",
     "output_type": "stream",
     "text": [
      "[('Georg Wilhelm Friedrich', 'Hegel', '27.08.1770'), ('Johann Christian Friedrich', 'Hölderlin', '20.03.1770'), ('Rudolf Ludwig Carl', 'Virchow', '13.10.1821')]\n"
     ]
    }
   ],
   "source": [
    "dbcon = sqlite3.connect(\"geburtstage.db\")\n",
    "dbcur = dbcon.cursor()\n",
    "\n",
    "dbsql = \"\"\"\n",
    "SELECT * FROM personen;\n",
    "\"\"\"\n",
    "\n",
    "dbcur.execute(dbsql)\n",
    "\n",
    "cont = dbcur.fetchall()\n",
    "\n",
    "print(cont)"
   ]
  },
  {
   "cell_type": "code",
   "execution_count": null,
   "id": "otherwise-knife",
   "metadata": {},
   "outputs": [],
   "source": []
  }
 ],
 "metadata": {
  "kernelspec": {
   "display_name": "Python 3",
   "language": "python",
   "name": "python3"
  },
  "language_info": {
   "codemirror_mode": {
    "name": "ipython",
    "version": 3
   },
   "file_extension": ".py",
   "mimetype": "text/x-python",
   "name": "python",
   "nbconvert_exporter": "python",
   "pygments_lexer": "ipython3",
   "version": "3.7.10"
  }
 },
 "nbformat": 4,
 "nbformat_minor": 5
}
