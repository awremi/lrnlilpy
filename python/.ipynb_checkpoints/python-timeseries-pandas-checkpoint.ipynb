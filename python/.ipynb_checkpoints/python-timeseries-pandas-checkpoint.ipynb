{
 "cells": [
  {
   "cell_type": "markdown",
   "metadata": {},
   "source": [
    "# Handling Time Series with Pandas"
   ]
  },
  {
   "cell_type": "markdown",
   "metadata": {},
   "source": [
    "A **time series** is made up of data points that are **indexed in time order**. Since this is just a special type of data frame, `pandas` has very good support for working with time series data."
   ]
  },
  {
   "cell_type": "code",
   "execution_count": 1,
   "metadata": {},
   "outputs": [],
   "source": [
    "%matplotlib inline"
   ]
  },
  {
   "cell_type": "code",
   "execution_count": 2,
   "metadata": {},
   "outputs": [],
   "source": [
    "import pandas\n",
    "import seaborn\n",
    "import matplotlib.pyplot as plt"
   ]
  },
  {
   "cell_type": "code",
   "execution_count": 3,
   "metadata": {},
   "outputs": [],
   "source": [
    "seaborn.set_style(\"ticks\")\n",
    "plt.rcParams[\"axes.grid\"] = True\n",
    "plt.rcParams[\"figure.figsize\"] = (15, 5)"
   ]
  },
  {
   "cell_type": "markdown",
   "metadata": {},
   "source": [
    "## Example: The Bitcoin Price Over Time"
   ]
  },
  {
   "cell_type": "markdown",
   "metadata": {},
   "source": [
    "Due to varying interest and hype, the price of Bitcoin (BTC) is extremely volatile. Clearly, understanding trends or even predicting future values of this time series could pay off - let's see what we can find out."
   ]
  },
  {
   "cell_type": "code",
   "execution_count": 4,
   "metadata": {},
   "outputs": [],
   "source": [
    "data_path = \"../.assets/data/bitcoin/BTC_USD Bitfinex Historical Data.csv\""
   ]
  },
  {
   "cell_type": "code",
   "execution_count": 5,
   "metadata": {},
   "outputs": [],
   "source": [
    "data = pandas.read_csv(data_path)"
   ]
  },
  {
   "cell_type": "code",
   "execution_count": 6,
   "metadata": {},
   "outputs": [
    {
     "data": {
      "text/html": [
       "<div>\n",
       "<style scoped>\n",
       "    .dataframe tbody tr th:only-of-type {\n",
       "        vertical-align: middle;\n",
       "    }\n",
       "\n",
       "    .dataframe tbody tr th {\n",
       "        vertical-align: top;\n",
       "    }\n",
       "\n",
       "    .dataframe thead th {\n",
       "        text-align: right;\n",
       "    }\n",
       "</style>\n",
       "<table border=\"1\" class=\"dataframe\">\n",
       "  <thead>\n",
       "    <tr style=\"text-align: right;\">\n",
       "      <th></th>\n",
       "      <th>Date</th>\n",
       "      <th>Price</th>\n",
       "      <th>Open</th>\n",
       "      <th>High</th>\n",
       "      <th>Low</th>\n",
       "      <th>Vol.</th>\n",
       "      <th>Change %</th>\n",
       "    </tr>\n",
       "  </thead>\n",
       "  <tbody>\n",
       "    <tr>\n",
       "      <th>0</th>\n",
       "      <td>Sep 19, 2018</td>\n",
       "      <td>6,288.5</td>\n",
       "      <td>6,330.8</td>\n",
       "      <td>6,364.9</td>\n",
       "      <td>6,257.1</td>\n",
       "      <td>14.60K</td>\n",
       "      <td>-0.86%</td>\n",
       "    </tr>\n",
       "    <tr>\n",
       "      <th>1</th>\n",
       "      <td>Sep 18, 2018</td>\n",
       "      <td>6,342.8</td>\n",
       "      <td>6,243.0</td>\n",
       "      <td>6,384.0</td>\n",
       "      <td>6,229.2</td>\n",
       "      <td>15.93K</td>\n",
       "      <td>1.42%</td>\n",
       "    </tr>\n",
       "    <tr>\n",
       "      <th>2</th>\n",
       "      <td>Sep 17, 2018</td>\n",
       "      <td>6,254.2</td>\n",
       "      <td>6,506.1</td>\n",
       "      <td>6,532.8</td>\n",
       "      <td>6,205.1</td>\n",
       "      <td>23.54K</td>\n",
       "      <td>-3.76%</td>\n",
       "    </tr>\n",
       "    <tr>\n",
       "      <th>3</th>\n",
       "      <td>Sep 16, 2018</td>\n",
       "      <td>6,498.5</td>\n",
       "      <td>6,512.8</td>\n",
       "      <td>6,517.8</td>\n",
       "      <td>6,384.5</td>\n",
       "      <td>8.73K</td>\n",
       "      <td>-0.23%</td>\n",
       "    </tr>\n",
       "    <tr>\n",
       "      <th>4</th>\n",
       "      <td>Sep 15, 2018</td>\n",
       "      <td>6,513.6</td>\n",
       "      <td>6,480.1</td>\n",
       "      <td>6,568.9</td>\n",
       "      <td>6,473.6</td>\n",
       "      <td>8.35K</td>\n",
       "      <td>0.44%</td>\n",
       "    </tr>\n",
       "  </tbody>\n",
       "</table>\n",
       "</div>"
      ],
      "text/plain": [
       "           Date    Price     Open     High      Low    Vol. Change %\n",
       "0  Sep 19, 2018  6,288.5  6,330.8  6,364.9  6,257.1  14.60K   -0.86%\n",
       "1  Sep 18, 2018  6,342.8  6,243.0  6,384.0  6,229.2  15.93K    1.42%\n",
       "2  Sep 17, 2018  6,254.2  6,506.1  6,532.8  6,205.1  23.54K   -3.76%\n",
       "3  Sep 16, 2018  6,498.5  6,512.8  6,517.8  6,384.5   8.73K   -0.23%\n",
       "4  Sep 15, 2018  6,513.6  6,480.1  6,568.9  6,473.6   8.35K    0.44%"
      ]
     },
     "execution_count": 6,
     "metadata": {},
     "output_type": "execute_result"
    }
   ],
   "source": [
    "data.head()"
   ]
  },
  {
   "cell_type": "code",
   "execution_count": 7,
   "metadata": {},
   "outputs": [
    {
     "data": {
      "text/plain": [
       "Date        object\n",
       "Price       object\n",
       "Open        object\n",
       "High        object\n",
       "Low         object\n",
       "Vol.        object\n",
       "Change %    object\n",
       "dtype: object"
      ]
     },
     "execution_count": 7,
     "metadata": {},
     "output_type": "execute_result"
    }
   ],
   "source": [
    "data.dtypes"
   ]
  },
  {
   "cell_type": "markdown",
   "metadata": {},
   "source": [
    "By default, pandas has read all fields as strings (`numpy` datatype `object`). There is however a special efficient datatype to represent timestamps: `datetime64`. Our first step in every time series analysis should be to identify the time column, convert it to `datetime64` and make it the **index** of the dataframe. In `pandas`, a time series is simply a `pandas.DataFrame` or `pandas.Series` with a `pandas.DateTimeIndex`:"
   ]
  },
  {
   "cell_type": "code",
   "execution_count": 8,
   "metadata": {},
   "outputs": [],
   "source": [
    "data = pandas.read_csv(data_path, parse_dates=[\"Date\"])"
   ]
  },
  {
   "cell_type": "code",
   "execution_count": 9,
   "metadata": {},
   "outputs": [
    {
     "data": {
      "text/plain": [
       "Date        datetime64[ns]\n",
       "Price               object\n",
       "Open                object\n",
       "High                object\n",
       "Low                 object\n",
       "Vol.                object\n",
       "Change %            object\n",
       "dtype: object"
      ]
     },
     "execution_count": 9,
     "metadata": {},
     "output_type": "execute_result"
    }
   ],
   "source": [
    "data.dtypes"
   ]
  },
  {
   "cell_type": "code",
   "execution_count": 10,
   "metadata": {},
   "outputs": [
    {
     "data": {
      "text/html": [
       "<div>\n",
       "<style scoped>\n",
       "    .dataframe tbody tr th:only-of-type {\n",
       "        vertical-align: middle;\n",
       "    }\n",
       "\n",
       "    .dataframe tbody tr th {\n",
       "        vertical-align: top;\n",
       "    }\n",
       "\n",
       "    .dataframe thead th {\n",
       "        text-align: right;\n",
       "    }\n",
       "</style>\n",
       "<table border=\"1\" class=\"dataframe\">\n",
       "  <thead>\n",
       "    <tr style=\"text-align: right;\">\n",
       "      <th></th>\n",
       "      <th>Date</th>\n",
       "      <th>Price</th>\n",
       "      <th>Open</th>\n",
       "      <th>High</th>\n",
       "      <th>Low</th>\n",
       "      <th>Vol.</th>\n",
       "      <th>Change %</th>\n",
       "    </tr>\n",
       "  </thead>\n",
       "  <tbody>\n",
       "    <tr>\n",
       "      <th>0</th>\n",
       "      <td>2018-09-19</td>\n",
       "      <td>6,288.5</td>\n",
       "      <td>6,330.8</td>\n",
       "      <td>6,364.9</td>\n",
       "      <td>6,257.1</td>\n",
       "      <td>14.60K</td>\n",
       "      <td>-0.86%</td>\n",
       "    </tr>\n",
       "    <tr>\n",
       "      <th>1</th>\n",
       "      <td>2018-09-18</td>\n",
       "      <td>6,342.8</td>\n",
       "      <td>6,243.0</td>\n",
       "      <td>6,384.0</td>\n",
       "      <td>6,229.2</td>\n",
       "      <td>15.93K</td>\n",
       "      <td>1.42%</td>\n",
       "    </tr>\n",
       "    <tr>\n",
       "      <th>2</th>\n",
       "      <td>2018-09-17</td>\n",
       "      <td>6,254.2</td>\n",
       "      <td>6,506.1</td>\n",
       "      <td>6,532.8</td>\n",
       "      <td>6,205.1</td>\n",
       "      <td>23.54K</td>\n",
       "      <td>-3.76%</td>\n",
       "    </tr>\n",
       "    <tr>\n",
       "      <th>3</th>\n",
       "      <td>2018-09-16</td>\n",
       "      <td>6,498.5</td>\n",
       "      <td>6,512.8</td>\n",
       "      <td>6,517.8</td>\n",
       "      <td>6,384.5</td>\n",
       "      <td>8.73K</td>\n",
       "      <td>-0.23%</td>\n",
       "    </tr>\n",
       "    <tr>\n",
       "      <th>4</th>\n",
       "      <td>2018-09-15</td>\n",
       "      <td>6,513.6</td>\n",
       "      <td>6,480.1</td>\n",
       "      <td>6,568.9</td>\n",
       "      <td>6,473.6</td>\n",
       "      <td>8.35K</td>\n",
       "      <td>0.44%</td>\n",
       "    </tr>\n",
       "  </tbody>\n",
       "</table>\n",
       "</div>"
      ],
      "text/plain": [
       "        Date    Price     Open     High      Low    Vol. Change %\n",
       "0 2018-09-19  6,288.5  6,330.8  6,364.9  6,257.1  14.60K   -0.86%\n",
       "1 2018-09-18  6,342.8  6,243.0  6,384.0  6,229.2  15.93K    1.42%\n",
       "2 2018-09-17  6,254.2  6,506.1  6,532.8  6,205.1  23.54K   -3.76%\n",
       "3 2018-09-16  6,498.5  6,512.8  6,517.8  6,384.5   8.73K   -0.23%\n",
       "4 2018-09-15  6,513.6  6,480.1  6,568.9  6,473.6   8.35K    0.44%"
      ]
     },
     "execution_count": 10,
     "metadata": {},
     "output_type": "execute_result"
    }
   ],
   "source": [
    "data.head()"
   ]
  },
  {
   "cell_type": "code",
   "execution_count": 11,
   "metadata": {},
   "outputs": [],
   "source": [
    "data = data.set_index(\"Date\")"
   ]
  },
  {
   "cell_type": "code",
   "execution_count": 12,
   "metadata": {},
   "outputs": [
    {
     "data": {
      "text/plain": [
       "DatetimeIndex(['2018-09-19', '2018-09-18', '2018-09-17', '2018-09-16',\n",
       "               '2018-09-15', '2018-09-14', '2018-09-13', '2018-09-12',\n",
       "               '2018-09-11', '2018-09-10',\n",
       "               ...\n",
       "               '2014-08-28', '2014-08-27', '2014-08-26', '2014-08-25',\n",
       "               '2014-08-24', '2014-08-23', '2014-08-22', '2014-08-21',\n",
       "               '2014-08-20', '2014-08-19'],\n",
       "              dtype='datetime64[ns]', name='Date', length=1478, freq=None)"
      ]
     },
     "execution_count": 12,
     "metadata": {},
     "output_type": "execute_result"
    }
   ],
   "source": [
    "data.index"
   ]
  },
  {
   "cell_type": "code",
   "execution_count": 13,
   "metadata": {},
   "outputs": [
    {
     "data": {
      "text/html": [
       "<div>\n",
       "<style scoped>\n",
       "    .dataframe tbody tr th:only-of-type {\n",
       "        vertical-align: middle;\n",
       "    }\n",
       "\n",
       "    .dataframe tbody tr th {\n",
       "        vertical-align: top;\n",
       "    }\n",
       "\n",
       "    .dataframe thead th {\n",
       "        text-align: right;\n",
       "    }\n",
       "</style>\n",
       "<table border=\"1\" class=\"dataframe\">\n",
       "  <thead>\n",
       "    <tr style=\"text-align: right;\">\n",
       "      <th></th>\n",
       "      <th>Price</th>\n",
       "      <th>Open</th>\n",
       "      <th>High</th>\n",
       "      <th>Low</th>\n",
       "      <th>Vol.</th>\n",
       "      <th>Change %</th>\n",
       "    </tr>\n",
       "    <tr>\n",
       "      <th>Date</th>\n",
       "      <th></th>\n",
       "      <th></th>\n",
       "      <th></th>\n",
       "      <th></th>\n",
       "      <th></th>\n",
       "      <th></th>\n",
       "    </tr>\n",
       "  </thead>\n",
       "  <tbody>\n",
       "    <tr>\n",
       "      <th>2018-09-19</th>\n",
       "      <td>6,288.5</td>\n",
       "      <td>6,330.8</td>\n",
       "      <td>6,364.9</td>\n",
       "      <td>6,257.1</td>\n",
       "      <td>14.60K</td>\n",
       "      <td>-0.86%</td>\n",
       "    </tr>\n",
       "    <tr>\n",
       "      <th>2018-09-18</th>\n",
       "      <td>6,342.8</td>\n",
       "      <td>6,243.0</td>\n",
       "      <td>6,384.0</td>\n",
       "      <td>6,229.2</td>\n",
       "      <td>15.93K</td>\n",
       "      <td>1.42%</td>\n",
       "    </tr>\n",
       "    <tr>\n",
       "      <th>2018-09-17</th>\n",
       "      <td>6,254.2</td>\n",
       "      <td>6,506.1</td>\n",
       "      <td>6,532.8</td>\n",
       "      <td>6,205.1</td>\n",
       "      <td>23.54K</td>\n",
       "      <td>-3.76%</td>\n",
       "    </tr>\n",
       "    <tr>\n",
       "      <th>2018-09-16</th>\n",
       "      <td>6,498.5</td>\n",
       "      <td>6,512.8</td>\n",
       "      <td>6,517.8</td>\n",
       "      <td>6,384.5</td>\n",
       "      <td>8.73K</td>\n",
       "      <td>-0.23%</td>\n",
       "    </tr>\n",
       "    <tr>\n",
       "      <th>2018-09-15</th>\n",
       "      <td>6,513.6</td>\n",
       "      <td>6,480.1</td>\n",
       "      <td>6,568.9</td>\n",
       "      <td>6,473.6</td>\n",
       "      <td>8.35K</td>\n",
       "      <td>0.44%</td>\n",
       "    </tr>\n",
       "  </tbody>\n",
       "</table>\n",
       "</div>"
      ],
      "text/plain": [
       "              Price     Open     High      Low    Vol. Change %\n",
       "Date                                                           \n",
       "2018-09-19  6,288.5  6,330.8  6,364.9  6,257.1  14.60K   -0.86%\n",
       "2018-09-18  6,342.8  6,243.0  6,384.0  6,229.2  15.93K    1.42%\n",
       "2018-09-17  6,254.2  6,506.1  6,532.8  6,205.1  23.54K   -3.76%\n",
       "2018-09-16  6,498.5  6,512.8  6,517.8  6,384.5   8.73K   -0.23%\n",
       "2018-09-15  6,513.6  6,480.1  6,568.9  6,473.6   8.35K    0.44%"
      ]
     },
     "execution_count": 13,
     "metadata": {},
     "output_type": "execute_result"
    }
   ],
   "source": [
    "data.head()"
   ]
  },
  {
   "cell_type": "markdown",
   "metadata": {},
   "source": [
    "Let's also get the index sorted:"
   ]
  },
  {
   "cell_type": "code",
   "execution_count": 14,
   "metadata": {},
   "outputs": [
    {
     "data": {
      "text/plain": [
       "False"
      ]
     },
     "execution_count": 14,
     "metadata": {},
     "output_type": "execute_result"
    }
   ],
   "source": [
    "data.index.is_monotonic"
   ]
  },
  {
   "cell_type": "code",
   "execution_count": 15,
   "metadata": {},
   "outputs": [],
   "source": [
    "data = data.sort_index()"
   ]
  },
  {
   "cell_type": "code",
   "execution_count": 16,
   "metadata": {},
   "outputs": [
    {
     "data": {
      "text/plain": [
       "True"
      ]
     },
     "execution_count": 16,
     "metadata": {},
     "output_type": "execute_result"
    }
   ],
   "source": [
    "data.index.is_monotonic"
   ]
  },
  {
   "cell_type": "markdown",
   "metadata": {},
   "source": [
    "The `pandas.DateTimeIndex` can be used to access data points by time. The `pandas.DataFrame.loc` indexer accepts strings representing time in many formats. For example, getting the data points from January 2018 looks like this..."
   ]
  },
  {
   "cell_type": "code",
   "execution_count": 17,
   "metadata": {},
   "outputs": [
    {
     "data": {
      "text/html": [
       "<div>\n",
       "<style scoped>\n",
       "    .dataframe tbody tr th:only-of-type {\n",
       "        vertical-align: middle;\n",
       "    }\n",
       "\n",
       "    .dataframe tbody tr th {\n",
       "        vertical-align: top;\n",
       "    }\n",
       "\n",
       "    .dataframe thead th {\n",
       "        text-align: right;\n",
       "    }\n",
       "</style>\n",
       "<table border=\"1\" class=\"dataframe\">\n",
       "  <thead>\n",
       "    <tr style=\"text-align: right;\">\n",
       "      <th></th>\n",
       "      <th>Price</th>\n",
       "      <th>Open</th>\n",
       "      <th>High</th>\n",
       "      <th>Low</th>\n",
       "      <th>Vol.</th>\n",
       "      <th>Change %</th>\n",
       "    </tr>\n",
       "    <tr>\n",
       "      <th>Date</th>\n",
       "      <th></th>\n",
       "      <th></th>\n",
       "      <th></th>\n",
       "      <th></th>\n",
       "      <th></th>\n",
       "      <th></th>\n",
       "    </tr>\n",
       "  </thead>\n",
       "  <tbody>\n",
       "    <tr>\n",
       "      <th>2018-01-01</th>\n",
       "      <td>13,354.0</td>\n",
       "      <td>13,794.0</td>\n",
       "      <td>13,893.0</td>\n",
       "      <td>12,787.0</td>\n",
       "      <td>29.54K</td>\n",
       "      <td>-3.23%</td>\n",
       "    </tr>\n",
       "    <tr>\n",
       "      <th>2018-01-02</th>\n",
       "      <td>14,709.8</td>\n",
       "      <td>13,448.0</td>\n",
       "      <td>15,300.0</td>\n",
       "      <td>12,810.0</td>\n",
       "      <td>56.18K</td>\n",
       "      <td>10.15%</td>\n",
       "    </tr>\n",
       "    <tr>\n",
       "      <th>2018-01-03</th>\n",
       "      <td>15,155.0</td>\n",
       "      <td>14,713.0</td>\n",
       "      <td>15,428.0</td>\n",
       "      <td>14,522.0</td>\n",
       "      <td>38.35K</td>\n",
       "      <td>3.03%</td>\n",
       "    </tr>\n",
       "    <tr>\n",
       "      <th>2018-01-04</th>\n",
       "      <td>15,160.0</td>\n",
       "      <td>15,150.0</td>\n",
       "      <td>15,390.0</td>\n",
       "      <td>14,064.0</td>\n",
       "      <td>46.47K</td>\n",
       "      <td>0.03%</td>\n",
       "    </tr>\n",
       "    <tr>\n",
       "      <th>2018-01-05</th>\n",
       "      <td>16,917.0</td>\n",
       "      <td>15,159.0</td>\n",
       "      <td>17,101.0</td>\n",
       "      <td>14,769.0</td>\n",
       "      <td>54.63K</td>\n",
       "      <td>11.59%</td>\n",
       "    </tr>\n",
       "    <tr>\n",
       "      <th>2018-01-06</th>\n",
       "      <td>17,161.0</td>\n",
       "      <td>16,911.0</td>\n",
       "      <td>17,252.0</td>\n",
       "      <td>16,251.0</td>\n",
       "      <td>29.61K</td>\n",
       "      <td>1.44%</td>\n",
       "    </tr>\n",
       "    <tr>\n",
       "      <th>2018-01-07</th>\n",
       "      <td>16,196.0</td>\n",
       "      <td>17,163.0</td>\n",
       "      <td>17,176.0</td>\n",
       "      <td>15,726.0</td>\n",
       "      <td>30.84K</td>\n",
       "      <td>-5.62%</td>\n",
       "    </tr>\n",
       "    <tr>\n",
       "      <th>2018-01-08</th>\n",
       "      <td>14,930.0</td>\n",
       "      <td>16,216.0</td>\n",
       "      <td>16,279.0</td>\n",
       "      <td>13,760.0</td>\n",
       "      <td>64.95K</td>\n",
       "      <td>-7.82%</td>\n",
       "    </tr>\n",
       "    <tr>\n",
       "      <th>2018-01-09</th>\n",
       "      <td>14,423.0</td>\n",
       "      <td>14,902.0</td>\n",
       "      <td>15,355.0</td>\n",
       "      <td>14,122.0</td>\n",
       "      <td>43.44K</td>\n",
       "      <td>-3.40%</td>\n",
       "    </tr>\n",
       "    <tr>\n",
       "      <th>2018-01-10</th>\n",
       "      <td>14,896.0</td>\n",
       "      <td>14,426.0</td>\n",
       "      <td>14,896.0</td>\n",
       "      <td>13,338.0</td>\n",
       "      <td>57.33K</td>\n",
       "      <td>3.28%</td>\n",
       "    </tr>\n",
       "    <tr>\n",
       "      <th>2018-01-11</th>\n",
       "      <td>13,266.0</td>\n",
       "      <td>14,895.0</td>\n",
       "      <td>14,949.8</td>\n",
       "      <td>12,639.0</td>\n",
       "      <td>71.70K</td>\n",
       "      <td>-10.94%</td>\n",
       "    </tr>\n",
       "    <tr>\n",
       "      <th>2018-01-12</th>\n",
       "      <td>13,783.0</td>\n",
       "      <td>13,248.0</td>\n",
       "      <td>14,095.0</td>\n",
       "      <td>12,778.0</td>\n",
       "      <td>37.42K</td>\n",
       "      <td>3.90%</td>\n",
       "    </tr>\n",
       "    <tr>\n",
       "      <th>2018-01-13</th>\n",
       "      <td>14,191.0</td>\n",
       "      <td>13,794.0</td>\n",
       "      <td>14,580.0</td>\n",
       "      <td>13,760.0</td>\n",
       "      <td>29.01K</td>\n",
       "      <td>2.96%</td>\n",
       "    </tr>\n",
       "    <tr>\n",
       "      <th>2018-01-14</th>\n",
       "      <td>13,558.0</td>\n",
       "      <td>14,190.0</td>\n",
       "      <td>14,391.0</td>\n",
       "      <td>12,874.3</td>\n",
       "      <td>35.60K</td>\n",
       "      <td>-4.46%</td>\n",
       "    </tr>\n",
       "    <tr>\n",
       "      <th>2018-01-15</th>\n",
       "      <td>13,575.0</td>\n",
       "      <td>13,558.0</td>\n",
       "      <td>14,350.0</td>\n",
       "      <td>13,307.0</td>\n",
       "      <td>33.46K</td>\n",
       "      <td>0.13%</td>\n",
       "    </tr>\n",
       "    <tr>\n",
       "      <th>2018-01-16</th>\n",
       "      <td>11,072.0</td>\n",
       "      <td>13,594.0</td>\n",
       "      <td>13,604.0</td>\n",
       "      <td>9,949.4</td>\n",
       "      <td>131.86K</td>\n",
       "      <td>-18.44%</td>\n",
       "    </tr>\n",
       "    <tr>\n",
       "      <th>2018-01-17</th>\n",
       "      <td>11,082.0</td>\n",
       "      <td>11,059.0</td>\n",
       "      <td>11,490.0</td>\n",
       "      <td>9,231.1</td>\n",
       "      <td>132.23K</td>\n",
       "      <td>0.09%</td>\n",
       "    </tr>\n",
       "    <tr>\n",
       "      <th>2018-01-18</th>\n",
       "      <td>11,045.0</td>\n",
       "      <td>11,101.0</td>\n",
       "      <td>11,881.0</td>\n",
       "      <td>10,515.0</td>\n",
       "      <td>85.24K</td>\n",
       "      <td>-0.33%</td>\n",
       "    </tr>\n",
       "    <tr>\n",
       "      <th>2018-01-19</th>\n",
       "      <td>11,476.0</td>\n",
       "      <td>11,036.0</td>\n",
       "      <td>11,879.0</td>\n",
       "      <td>10,649.0</td>\n",
       "      <td>48.55K</td>\n",
       "      <td>3.90%</td>\n",
       "    </tr>\n",
       "    <tr>\n",
       "      <th>2018-01-20</th>\n",
       "      <td>12,728.0</td>\n",
       "      <td>11,462.0</td>\n",
       "      <td>13,002.0</td>\n",
       "      <td>11,425.0</td>\n",
       "      <td>46.30K</td>\n",
       "      <td>10.91%</td>\n",
       "    </tr>\n",
       "    <tr>\n",
       "      <th>2018-01-21</th>\n",
       "      <td>11,514.0</td>\n",
       "      <td>12,732.0</td>\n",
       "      <td>12,732.0</td>\n",
       "      <td>11,020.0</td>\n",
       "      <td>53.62K</td>\n",
       "      <td>-9.54%</td>\n",
       "    </tr>\n",
       "    <tr>\n",
       "      <th>2018-01-22</th>\n",
       "      <td>10,771.0</td>\n",
       "      <td>11,519.0</td>\n",
       "      <td>11,886.0</td>\n",
       "      <td>10,009.0</td>\n",
       "      <td>66.35K</td>\n",
       "      <td>-6.45%</td>\n",
       "    </tr>\n",
       "    <tr>\n",
       "      <th>2018-01-23</th>\n",
       "      <td>10,819.0</td>\n",
       "      <td>10,770.0</td>\n",
       "      <td>11,383.0</td>\n",
       "      <td>9,901.1</td>\n",
       "      <td>63.85K</td>\n",
       "      <td>0.45%</td>\n",
       "    </tr>\n",
       "    <tr>\n",
       "      <th>2018-01-24</th>\n",
       "      <td>11,414.0</td>\n",
       "      <td>10,811.0</td>\n",
       "      <td>11,529.0</td>\n",
       "      <td>10,454.0</td>\n",
       "      <td>43.82K</td>\n",
       "      <td>5.50%</td>\n",
       "    </tr>\n",
       "    <tr>\n",
       "      <th>2018-01-25</th>\n",
       "      <td>11,146.0</td>\n",
       "      <td>11,402.0</td>\n",
       "      <td>11,723.0</td>\n",
       "      <td>10,857.0</td>\n",
       "      <td>34.44K</td>\n",
       "      <td>-2.35%</td>\n",
       "    </tr>\n",
       "    <tr>\n",
       "      <th>2018-01-26</th>\n",
       "      <td>11,070.0</td>\n",
       "      <td>11,144.0</td>\n",
       "      <td>11,647.0</td>\n",
       "      <td>10,298.0</td>\n",
       "      <td>56.75K</td>\n",
       "      <td>-0.68%</td>\n",
       "    </tr>\n",
       "    <tr>\n",
       "      <th>2018-01-27</th>\n",
       "      <td>11,461.0</td>\n",
       "      <td>11,068.0</td>\n",
       "      <td>11,683.0</td>\n",
       "      <td>10,822.0</td>\n",
       "      <td>34.40K</td>\n",
       "      <td>3.53%</td>\n",
       "    </tr>\n",
       "    <tr>\n",
       "      <th>2018-01-28</th>\n",
       "      <td>11,839.0</td>\n",
       "      <td>11,455.1</td>\n",
       "      <td>12,181.0</td>\n",
       "      <td>11,398.0</td>\n",
       "      <td>29.62K</td>\n",
       "      <td>3.30%</td>\n",
       "    </tr>\n",
       "    <tr>\n",
       "      <th>2018-01-29</th>\n",
       "      <td>11,212.0</td>\n",
       "      <td>11,836.0</td>\n",
       "      <td>11,957.0</td>\n",
       "      <td>11,074.0</td>\n",
       "      <td>25.65K</td>\n",
       "      <td>-5.30%</td>\n",
       "    </tr>\n",
       "    <tr>\n",
       "      <th>2018-01-30</th>\n",
       "      <td>10,175.0</td>\n",
       "      <td>11,215.0</td>\n",
       "      <td>11,250.0</td>\n",
       "      <td>9,864.9</td>\n",
       "      <td>61.28K</td>\n",
       "      <td>-9.25%</td>\n",
       "    </tr>\n",
       "    <tr>\n",
       "      <th>2018-01-31</th>\n",
       "      <td>10,284.0</td>\n",
       "      <td>10,170.0</td>\n",
       "      <td>10,411.0</td>\n",
       "      <td>9,761.0</td>\n",
       "      <td>43.23K</td>\n",
       "      <td>1.07%</td>\n",
       "    </tr>\n",
       "  </tbody>\n",
       "</table>\n",
       "</div>"
      ],
      "text/plain": [
       "               Price      Open      High       Low     Vol. Change %\n",
       "Date                                                                \n",
       "2018-01-01  13,354.0  13,794.0  13,893.0  12,787.0   29.54K   -3.23%\n",
       "2018-01-02  14,709.8  13,448.0  15,300.0  12,810.0   56.18K   10.15%\n",
       "2018-01-03  15,155.0  14,713.0  15,428.0  14,522.0   38.35K    3.03%\n",
       "2018-01-04  15,160.0  15,150.0  15,390.0  14,064.0   46.47K    0.03%\n",
       "2018-01-05  16,917.0  15,159.0  17,101.0  14,769.0   54.63K   11.59%\n",
       "2018-01-06  17,161.0  16,911.0  17,252.0  16,251.0   29.61K    1.44%\n",
       "2018-01-07  16,196.0  17,163.0  17,176.0  15,726.0   30.84K   -5.62%\n",
       "2018-01-08  14,930.0  16,216.0  16,279.0  13,760.0   64.95K   -7.82%\n",
       "2018-01-09  14,423.0  14,902.0  15,355.0  14,122.0   43.44K   -3.40%\n",
       "2018-01-10  14,896.0  14,426.0  14,896.0  13,338.0   57.33K    3.28%\n",
       "2018-01-11  13,266.0  14,895.0  14,949.8  12,639.0   71.70K  -10.94%\n",
       "2018-01-12  13,783.0  13,248.0  14,095.0  12,778.0   37.42K    3.90%\n",
       "2018-01-13  14,191.0  13,794.0  14,580.0  13,760.0   29.01K    2.96%\n",
       "2018-01-14  13,558.0  14,190.0  14,391.0  12,874.3   35.60K   -4.46%\n",
       "2018-01-15  13,575.0  13,558.0  14,350.0  13,307.0   33.46K    0.13%\n",
       "2018-01-16  11,072.0  13,594.0  13,604.0   9,949.4  131.86K  -18.44%\n",
       "2018-01-17  11,082.0  11,059.0  11,490.0   9,231.1  132.23K    0.09%\n",
       "2018-01-18  11,045.0  11,101.0  11,881.0  10,515.0   85.24K   -0.33%\n",
       "2018-01-19  11,476.0  11,036.0  11,879.0  10,649.0   48.55K    3.90%\n",
       "2018-01-20  12,728.0  11,462.0  13,002.0  11,425.0   46.30K   10.91%\n",
       "2018-01-21  11,514.0  12,732.0  12,732.0  11,020.0   53.62K   -9.54%\n",
       "2018-01-22  10,771.0  11,519.0  11,886.0  10,009.0   66.35K   -6.45%\n",
       "2018-01-23  10,819.0  10,770.0  11,383.0   9,901.1   63.85K    0.45%\n",
       "2018-01-24  11,414.0  10,811.0  11,529.0  10,454.0   43.82K    5.50%\n",
       "2018-01-25  11,146.0  11,402.0  11,723.0  10,857.0   34.44K   -2.35%\n",
       "2018-01-26  11,070.0  11,144.0  11,647.0  10,298.0   56.75K   -0.68%\n",
       "2018-01-27  11,461.0  11,068.0  11,683.0  10,822.0   34.40K    3.53%\n",
       "2018-01-28  11,839.0  11,455.1  12,181.0  11,398.0   29.62K    3.30%\n",
       "2018-01-29  11,212.0  11,836.0  11,957.0  11,074.0   25.65K   -5.30%\n",
       "2018-01-30  10,175.0  11,215.0  11,250.0   9,864.9   61.28K   -9.25%\n",
       "2018-01-31  10,284.0  10,170.0  10,411.0   9,761.0   43.23K    1.07%"
      ]
     },
     "execution_count": 17,
     "metadata": {},
     "output_type": "execute_result"
    }
   ],
   "source": [
    "data.loc[\"2018-01\"]"
   ]
  },
  {
   "cell_type": "markdown",
   "metadata": {},
   "source": [
    "... or like this:"
   ]
  },
  {
   "cell_type": "code",
   "execution_count": 18,
   "metadata": {},
   "outputs": [
    {
     "data": {
      "text/html": [
       "<div>\n",
       "<style scoped>\n",
       "    .dataframe tbody tr th:only-of-type {\n",
       "        vertical-align: middle;\n",
       "    }\n",
       "\n",
       "    .dataframe tbody tr th {\n",
       "        vertical-align: top;\n",
       "    }\n",
       "\n",
       "    .dataframe thead th {\n",
       "        text-align: right;\n",
       "    }\n",
       "</style>\n",
       "<table border=\"1\" class=\"dataframe\">\n",
       "  <thead>\n",
       "    <tr style=\"text-align: right;\">\n",
       "      <th></th>\n",
       "      <th>Price</th>\n",
       "      <th>Open</th>\n",
       "      <th>High</th>\n",
       "      <th>Low</th>\n",
       "      <th>Vol.</th>\n",
       "      <th>Change %</th>\n",
       "    </tr>\n",
       "    <tr>\n",
       "      <th>Date</th>\n",
       "      <th></th>\n",
       "      <th></th>\n",
       "      <th></th>\n",
       "      <th></th>\n",
       "      <th></th>\n",
       "      <th></th>\n",
       "    </tr>\n",
       "  </thead>\n",
       "  <tbody>\n",
       "    <tr>\n",
       "      <th>2018-01-01</th>\n",
       "      <td>13,354.0</td>\n",
       "      <td>13,794.0</td>\n",
       "      <td>13,893.0</td>\n",
       "      <td>12,787.0</td>\n",
       "      <td>29.54K</td>\n",
       "      <td>-3.23%</td>\n",
       "    </tr>\n",
       "    <tr>\n",
       "      <th>2018-01-02</th>\n",
       "      <td>14,709.8</td>\n",
       "      <td>13,448.0</td>\n",
       "      <td>15,300.0</td>\n",
       "      <td>12,810.0</td>\n",
       "      <td>56.18K</td>\n",
       "      <td>10.15%</td>\n",
       "    </tr>\n",
       "    <tr>\n",
       "      <th>2018-01-03</th>\n",
       "      <td>15,155.0</td>\n",
       "      <td>14,713.0</td>\n",
       "      <td>15,428.0</td>\n",
       "      <td>14,522.0</td>\n",
       "      <td>38.35K</td>\n",
       "      <td>3.03%</td>\n",
       "    </tr>\n",
       "    <tr>\n",
       "      <th>2018-01-04</th>\n",
       "      <td>15,160.0</td>\n",
       "      <td>15,150.0</td>\n",
       "      <td>15,390.0</td>\n",
       "      <td>14,064.0</td>\n",
       "      <td>46.47K</td>\n",
       "      <td>0.03%</td>\n",
       "    </tr>\n",
       "    <tr>\n",
       "      <th>2018-01-05</th>\n",
       "      <td>16,917.0</td>\n",
       "      <td>15,159.0</td>\n",
       "      <td>17,101.0</td>\n",
       "      <td>14,769.0</td>\n",
       "      <td>54.63K</td>\n",
       "      <td>11.59%</td>\n",
       "    </tr>\n",
       "    <tr>\n",
       "      <th>2018-01-06</th>\n",
       "      <td>17,161.0</td>\n",
       "      <td>16,911.0</td>\n",
       "      <td>17,252.0</td>\n",
       "      <td>16,251.0</td>\n",
       "      <td>29.61K</td>\n",
       "      <td>1.44%</td>\n",
       "    </tr>\n",
       "    <tr>\n",
       "      <th>2018-01-07</th>\n",
       "      <td>16,196.0</td>\n",
       "      <td>17,163.0</td>\n",
       "      <td>17,176.0</td>\n",
       "      <td>15,726.0</td>\n",
       "      <td>30.84K</td>\n",
       "      <td>-5.62%</td>\n",
       "    </tr>\n",
       "    <tr>\n",
       "      <th>2018-01-08</th>\n",
       "      <td>14,930.0</td>\n",
       "      <td>16,216.0</td>\n",
       "      <td>16,279.0</td>\n",
       "      <td>13,760.0</td>\n",
       "      <td>64.95K</td>\n",
       "      <td>-7.82%</td>\n",
       "    </tr>\n",
       "    <tr>\n",
       "      <th>2018-01-09</th>\n",
       "      <td>14,423.0</td>\n",
       "      <td>14,902.0</td>\n",
       "      <td>15,355.0</td>\n",
       "      <td>14,122.0</td>\n",
       "      <td>43.44K</td>\n",
       "      <td>-3.40%</td>\n",
       "    </tr>\n",
       "    <tr>\n",
       "      <th>2018-01-10</th>\n",
       "      <td>14,896.0</td>\n",
       "      <td>14,426.0</td>\n",
       "      <td>14,896.0</td>\n",
       "      <td>13,338.0</td>\n",
       "      <td>57.33K</td>\n",
       "      <td>3.28%</td>\n",
       "    </tr>\n",
       "    <tr>\n",
       "      <th>2018-01-11</th>\n",
       "      <td>13,266.0</td>\n",
       "      <td>14,895.0</td>\n",
       "      <td>14,949.8</td>\n",
       "      <td>12,639.0</td>\n",
       "      <td>71.70K</td>\n",
       "      <td>-10.94%</td>\n",
       "    </tr>\n",
       "    <tr>\n",
       "      <th>2018-01-12</th>\n",
       "      <td>13,783.0</td>\n",
       "      <td>13,248.0</td>\n",
       "      <td>14,095.0</td>\n",
       "      <td>12,778.0</td>\n",
       "      <td>37.42K</td>\n",
       "      <td>3.90%</td>\n",
       "    </tr>\n",
       "    <tr>\n",
       "      <th>2018-01-13</th>\n",
       "      <td>14,191.0</td>\n",
       "      <td>13,794.0</td>\n",
       "      <td>14,580.0</td>\n",
       "      <td>13,760.0</td>\n",
       "      <td>29.01K</td>\n",
       "      <td>2.96%</td>\n",
       "    </tr>\n",
       "    <tr>\n",
       "      <th>2018-01-14</th>\n",
       "      <td>13,558.0</td>\n",
       "      <td>14,190.0</td>\n",
       "      <td>14,391.0</td>\n",
       "      <td>12,874.3</td>\n",
       "      <td>35.60K</td>\n",
       "      <td>-4.46%</td>\n",
       "    </tr>\n",
       "    <tr>\n",
       "      <th>2018-01-15</th>\n",
       "      <td>13,575.0</td>\n",
       "      <td>13,558.0</td>\n",
       "      <td>14,350.0</td>\n",
       "      <td>13,307.0</td>\n",
       "      <td>33.46K</td>\n",
       "      <td>0.13%</td>\n",
       "    </tr>\n",
       "    <tr>\n",
       "      <th>2018-01-16</th>\n",
       "      <td>11,072.0</td>\n",
       "      <td>13,594.0</td>\n",
       "      <td>13,604.0</td>\n",
       "      <td>9,949.4</td>\n",
       "      <td>131.86K</td>\n",
       "      <td>-18.44%</td>\n",
       "    </tr>\n",
       "    <tr>\n",
       "      <th>2018-01-17</th>\n",
       "      <td>11,082.0</td>\n",
       "      <td>11,059.0</td>\n",
       "      <td>11,490.0</td>\n",
       "      <td>9,231.1</td>\n",
       "      <td>132.23K</td>\n",
       "      <td>0.09%</td>\n",
       "    </tr>\n",
       "    <tr>\n",
       "      <th>2018-01-18</th>\n",
       "      <td>11,045.0</td>\n",
       "      <td>11,101.0</td>\n",
       "      <td>11,881.0</td>\n",
       "      <td>10,515.0</td>\n",
       "      <td>85.24K</td>\n",
       "      <td>-0.33%</td>\n",
       "    </tr>\n",
       "    <tr>\n",
       "      <th>2018-01-19</th>\n",
       "      <td>11,476.0</td>\n",
       "      <td>11,036.0</td>\n",
       "      <td>11,879.0</td>\n",
       "      <td>10,649.0</td>\n",
       "      <td>48.55K</td>\n",
       "      <td>3.90%</td>\n",
       "    </tr>\n",
       "    <tr>\n",
       "      <th>2018-01-20</th>\n",
       "      <td>12,728.0</td>\n",
       "      <td>11,462.0</td>\n",
       "      <td>13,002.0</td>\n",
       "      <td>11,425.0</td>\n",
       "      <td>46.30K</td>\n",
       "      <td>10.91%</td>\n",
       "    </tr>\n",
       "    <tr>\n",
       "      <th>2018-01-21</th>\n",
       "      <td>11,514.0</td>\n",
       "      <td>12,732.0</td>\n",
       "      <td>12,732.0</td>\n",
       "      <td>11,020.0</td>\n",
       "      <td>53.62K</td>\n",
       "      <td>-9.54%</td>\n",
       "    </tr>\n",
       "    <tr>\n",
       "      <th>2018-01-22</th>\n",
       "      <td>10,771.0</td>\n",
       "      <td>11,519.0</td>\n",
       "      <td>11,886.0</td>\n",
       "      <td>10,009.0</td>\n",
       "      <td>66.35K</td>\n",
       "      <td>-6.45%</td>\n",
       "    </tr>\n",
       "    <tr>\n",
       "      <th>2018-01-23</th>\n",
       "      <td>10,819.0</td>\n",
       "      <td>10,770.0</td>\n",
       "      <td>11,383.0</td>\n",
       "      <td>9,901.1</td>\n",
       "      <td>63.85K</td>\n",
       "      <td>0.45%</td>\n",
       "    </tr>\n",
       "    <tr>\n",
       "      <th>2018-01-24</th>\n",
       "      <td>11,414.0</td>\n",
       "      <td>10,811.0</td>\n",
       "      <td>11,529.0</td>\n",
       "      <td>10,454.0</td>\n",
       "      <td>43.82K</td>\n",
       "      <td>5.50%</td>\n",
       "    </tr>\n",
       "    <tr>\n",
       "      <th>2018-01-25</th>\n",
       "      <td>11,146.0</td>\n",
       "      <td>11,402.0</td>\n",
       "      <td>11,723.0</td>\n",
       "      <td>10,857.0</td>\n",
       "      <td>34.44K</td>\n",
       "      <td>-2.35%</td>\n",
       "    </tr>\n",
       "    <tr>\n",
       "      <th>2018-01-26</th>\n",
       "      <td>11,070.0</td>\n",
       "      <td>11,144.0</td>\n",
       "      <td>11,647.0</td>\n",
       "      <td>10,298.0</td>\n",
       "      <td>56.75K</td>\n",
       "      <td>-0.68%</td>\n",
       "    </tr>\n",
       "    <tr>\n",
       "      <th>2018-01-27</th>\n",
       "      <td>11,461.0</td>\n",
       "      <td>11,068.0</td>\n",
       "      <td>11,683.0</td>\n",
       "      <td>10,822.0</td>\n",
       "      <td>34.40K</td>\n",
       "      <td>3.53%</td>\n",
       "    </tr>\n",
       "    <tr>\n",
       "      <th>2018-01-28</th>\n",
       "      <td>11,839.0</td>\n",
       "      <td>11,455.1</td>\n",
       "      <td>12,181.0</td>\n",
       "      <td>11,398.0</td>\n",
       "      <td>29.62K</td>\n",
       "      <td>3.30%</td>\n",
       "    </tr>\n",
       "    <tr>\n",
       "      <th>2018-01-29</th>\n",
       "      <td>11,212.0</td>\n",
       "      <td>11,836.0</td>\n",
       "      <td>11,957.0</td>\n",
       "      <td>11,074.0</td>\n",
       "      <td>25.65K</td>\n",
       "      <td>-5.30%</td>\n",
       "    </tr>\n",
       "    <tr>\n",
       "      <th>2018-01-30</th>\n",
       "      <td>10,175.0</td>\n",
       "      <td>11,215.0</td>\n",
       "      <td>11,250.0</td>\n",
       "      <td>9,864.9</td>\n",
       "      <td>61.28K</td>\n",
       "      <td>-9.25%</td>\n",
       "    </tr>\n",
       "    <tr>\n",
       "      <th>2018-01-31</th>\n",
       "      <td>10,284.0</td>\n",
       "      <td>10,170.0</td>\n",
       "      <td>10,411.0</td>\n",
       "      <td>9,761.0</td>\n",
       "      <td>43.23K</td>\n",
       "      <td>1.07%</td>\n",
       "    </tr>\n",
       "  </tbody>\n",
       "</table>\n",
       "</div>"
      ],
      "text/plain": [
       "               Price      Open      High       Low     Vol. Change %\n",
       "Date                                                                \n",
       "2018-01-01  13,354.0  13,794.0  13,893.0  12,787.0   29.54K   -3.23%\n",
       "2018-01-02  14,709.8  13,448.0  15,300.0  12,810.0   56.18K   10.15%\n",
       "2018-01-03  15,155.0  14,713.0  15,428.0  14,522.0   38.35K    3.03%\n",
       "2018-01-04  15,160.0  15,150.0  15,390.0  14,064.0   46.47K    0.03%\n",
       "2018-01-05  16,917.0  15,159.0  17,101.0  14,769.0   54.63K   11.59%\n",
       "2018-01-06  17,161.0  16,911.0  17,252.0  16,251.0   29.61K    1.44%\n",
       "2018-01-07  16,196.0  17,163.0  17,176.0  15,726.0   30.84K   -5.62%\n",
       "2018-01-08  14,930.0  16,216.0  16,279.0  13,760.0   64.95K   -7.82%\n",
       "2018-01-09  14,423.0  14,902.0  15,355.0  14,122.0   43.44K   -3.40%\n",
       "2018-01-10  14,896.0  14,426.0  14,896.0  13,338.0   57.33K    3.28%\n",
       "2018-01-11  13,266.0  14,895.0  14,949.8  12,639.0   71.70K  -10.94%\n",
       "2018-01-12  13,783.0  13,248.0  14,095.0  12,778.0   37.42K    3.90%\n",
       "2018-01-13  14,191.0  13,794.0  14,580.0  13,760.0   29.01K    2.96%\n",
       "2018-01-14  13,558.0  14,190.0  14,391.0  12,874.3   35.60K   -4.46%\n",
       "2018-01-15  13,575.0  13,558.0  14,350.0  13,307.0   33.46K    0.13%\n",
       "2018-01-16  11,072.0  13,594.0  13,604.0   9,949.4  131.86K  -18.44%\n",
       "2018-01-17  11,082.0  11,059.0  11,490.0   9,231.1  132.23K    0.09%\n",
       "2018-01-18  11,045.0  11,101.0  11,881.0  10,515.0   85.24K   -0.33%\n",
       "2018-01-19  11,476.0  11,036.0  11,879.0  10,649.0   48.55K    3.90%\n",
       "2018-01-20  12,728.0  11,462.0  13,002.0  11,425.0   46.30K   10.91%\n",
       "2018-01-21  11,514.0  12,732.0  12,732.0  11,020.0   53.62K   -9.54%\n",
       "2018-01-22  10,771.0  11,519.0  11,886.0  10,009.0   66.35K   -6.45%\n",
       "2018-01-23  10,819.0  10,770.0  11,383.0   9,901.1   63.85K    0.45%\n",
       "2018-01-24  11,414.0  10,811.0  11,529.0  10,454.0   43.82K    5.50%\n",
       "2018-01-25  11,146.0  11,402.0  11,723.0  10,857.0   34.44K   -2.35%\n",
       "2018-01-26  11,070.0  11,144.0  11,647.0  10,298.0   56.75K   -0.68%\n",
       "2018-01-27  11,461.0  11,068.0  11,683.0  10,822.0   34.40K    3.53%\n",
       "2018-01-28  11,839.0  11,455.1  12,181.0  11,398.0   29.62K    3.30%\n",
       "2018-01-29  11,212.0  11,836.0  11,957.0  11,074.0   25.65K   -5.30%\n",
       "2018-01-30  10,175.0  11,215.0  11,250.0   9,864.9   61.28K   -9.25%\n",
       "2018-01-31  10,284.0  10,170.0  10,411.0   9,761.0   43.23K    1.07%"
      ]
     },
     "execution_count": 18,
     "metadata": {},
     "output_type": "execute_result"
    }
   ],
   "source": [
    "data.loc[\"January 2018\"]"
   ]
  },
  {
   "cell_type": "markdown",
   "metadata": {},
   "source": [
    "Let's also fix the data types. Clearly, the price should be a floating point number:"
   ]
  },
  {
   "cell_type": "code",
   "execution_count": 19,
   "metadata": {},
   "outputs": [],
   "source": [
    "data[\"Price\"] = data[\"Price\"].str.replace(\",\", \"\").astype(\"float\")"
   ]
  },
  {
   "cell_type": "code",
   "execution_count": 20,
   "metadata": {},
   "outputs": [
    {
     "data": {
      "text/html": [
       "<div>\n",
       "<style scoped>\n",
       "    .dataframe tbody tr th:only-of-type {\n",
       "        vertical-align: middle;\n",
       "    }\n",
       "\n",
       "    .dataframe tbody tr th {\n",
       "        vertical-align: top;\n",
       "    }\n",
       "\n",
       "    .dataframe thead th {\n",
       "        text-align: right;\n",
       "    }\n",
       "</style>\n",
       "<table border=\"1\" class=\"dataframe\">\n",
       "  <thead>\n",
       "    <tr style=\"text-align: right;\">\n",
       "      <th></th>\n",
       "      <th>Price</th>\n",
       "      <th>Open</th>\n",
       "      <th>High</th>\n",
       "      <th>Low</th>\n",
       "      <th>Vol.</th>\n",
       "      <th>Change %</th>\n",
       "    </tr>\n",
       "    <tr>\n",
       "      <th>Date</th>\n",
       "      <th></th>\n",
       "      <th></th>\n",
       "      <th></th>\n",
       "      <th></th>\n",
       "      <th></th>\n",
       "      <th></th>\n",
       "    </tr>\n",
       "  </thead>\n",
       "  <tbody>\n",
       "    <tr>\n",
       "      <th>2014-08-19</th>\n",
       "      <td>490.3</td>\n",
       "      <td>470.0</td>\n",
       "      <td>498.0</td>\n",
       "      <td>470.0</td>\n",
       "      <td>1.43K</td>\n",
       "      <td>2.53%</td>\n",
       "    </tr>\n",
       "    <tr>\n",
       "      <th>2014-08-20</th>\n",
       "      <td>517.0</td>\n",
       "      <td>492.1</td>\n",
       "      <td>525.0</td>\n",
       "      <td>471.7</td>\n",
       "      <td>1.15K</td>\n",
       "      <td>5.44%</td>\n",
       "    </tr>\n",
       "    <tr>\n",
       "      <th>2014-08-21</th>\n",
       "      <td>515.9</td>\n",
       "      <td>515.6</td>\n",
       "      <td>529.0</td>\n",
       "      <td>510.0</td>\n",
       "      <td>1.52K</td>\n",
       "      <td>-0.21%</td>\n",
       "    </tr>\n",
       "    <tr>\n",
       "      <th>2014-08-22</th>\n",
       "      <td>515.6</td>\n",
       "      <td>518.4</td>\n",
       "      <td>521.5</td>\n",
       "      <td>502.0</td>\n",
       "      <td>0.79K</td>\n",
       "      <td>-0.06%</td>\n",
       "    </tr>\n",
       "    <tr>\n",
       "      <th>2014-08-23</th>\n",
       "      <td>500.1</td>\n",
       "      <td>510.5</td>\n",
       "      <td>511.6</td>\n",
       "      <td>499.0</td>\n",
       "      <td>0.91K</td>\n",
       "      <td>-2.99%</td>\n",
       "    </tr>\n",
       "  </tbody>\n",
       "</table>\n",
       "</div>"
      ],
      "text/plain": [
       "            Price   Open   High    Low   Vol. Change %\n",
       "Date                                                  \n",
       "2014-08-19  490.3  470.0  498.0  470.0  1.43K    2.53%\n",
       "2014-08-20  517.0  492.1  525.0  471.7  1.15K    5.44%\n",
       "2014-08-21  515.9  515.6  529.0  510.0  1.52K   -0.21%\n",
       "2014-08-22  515.6  518.4  521.5  502.0  0.79K   -0.06%\n",
       "2014-08-23  500.1  510.5  511.6  499.0  0.91K   -2.99%"
      ]
     },
     "execution_count": 20,
     "metadata": {},
     "output_type": "execute_result"
    }
   ],
   "source": [
    "data.head()"
   ]
  },
  {
   "cell_type": "markdown",
   "metadata": {},
   "source": [
    "We can plot the values of a time series using the known `pandas` methods:"
   ]
  },
  {
   "cell_type": "code",
   "execution_count": 21,
   "metadata": {},
   "outputs": [
    {
     "data": {
      "text/plain": [
       "<matplotlib.axes._subplots.AxesSubplot at 0x10932d668>"
      ]
     },
     "execution_count": 21,
     "metadata": {},
     "output_type": "execute_result"
    },
    {
     "data": {
      "image/png": "[encoded data removed]",
      "text/plain": [
       "<Figure size 1080x360 with 1 Axes>"
      ]
     },
     "metadata": {},
     "output_type": "display_data"
    }
   ],
   "source": [
    "data[\"Price\"].plot(kind=\"line\")"
   ]
  },
  {
   "cell_type": "markdown",
   "metadata": {},
   "source": [
    "## Smoothing"
   ]
  },
  {
   "cell_type": "markdown",
   "metadata": {},
   "source": [
    "Often, one would like to look at a smoother version of the time series to identify trends rather than random noise. Smoothing can be done in various ways, for example by **resampling** it to a new frequency: Here we convert daily data points to weekly data points by taking the median of the values of each week. Notice how this is done by chaining the `resample` and `median` method calls, and how this works pretty much like the `groupby` method we have already seen."
   ]
  },
  {
   "cell_type": "code",
   "execution_count": 22,
   "metadata": {},
   "outputs": [
    {
     "data": {
      "text/plain": [
       "<matplotlib.axes._subplots.AxesSubplot at 0x1a1c5d6358>"
      ]
     },
     "execution_count": 22,
     "metadata": {},
     "output_type": "execute_result"
    },
    {
     "data": {
      "image/png": "[encoded data removed]",
      "text/plain": [
       "<Figure size 1080x360 with 1 Axes>"
      ]
     },
     "metadata": {},
     "output_type": "display_data"
    }
   ],
   "source": [
    "data[\"Price\"].resample('1w').median().plot(kind=\"line\")"
   ]
  },
  {
   "cell_type": "markdown",
   "metadata": {},
   "source": [
    "Another way to obtain a smoother time series is applying a **[moving average](https://en.wikipedia.org/wiki/Moving_average)** operation:"
   ]
  },
  {
   "cell_type": "code",
   "execution_count": 23,
   "metadata": {},
   "outputs": [
    {
     "data": {
      "text/plain": [
       "<matplotlib.axes._subplots.AxesSubplot at 0x1a1c65a400>"
      ]
     },
     "execution_count": 23,
     "metadata": {},
     "output_type": "execute_result"
    },
    {
     "data": {
      "image/png": "[encoded data removed]",
      "text/plain": [
       "<Figure size 1080x360 with 1 Axes>"
      ]
     },
     "metadata": {},
     "output_type": "display_data"
    }
   ],
   "source": [
    "data[\"Price\"].plot(kind=\"line\")"
   ]
  },
  {
   "cell_type": "code",
   "execution_count": 24,
   "metadata": {},
   "outputs": [
    {
     "data": {
      "text/plain": [
       "<matplotlib.axes._subplots.AxesSubplot at 0x1a1c5b07f0>"
      ]
     },
     "execution_count": 24,
     "metadata": {},
     "output_type": "execute_result"
    },
    {
     "data": {
      "image/png": "[encoded data removed]",
      "text/plain": [
       "<Figure size 1080x360 with 1 Axes>"
      ]
     },
     "metadata": {},
     "output_type": "display_data"
    }
   ],
   "source": [
    "data[\"Price\"].rolling(50).mean().plot(kind=\"line\")"
   ]
  },
  {
   "cell_type": "markdown",
   "metadata": {},
   "source": [
    "What we did here is move a window of size 50 values over the time series and build a new time series from the mean of the 50 values in the window."
   ]
  },
  {
   "cell_type": "code",
   "execution_count": 25,
   "metadata": {},
   "outputs": [
    {
     "data": {
      "text/plain": [
       "Date\n",
       "2014-08-19        NaN\n",
       "2014-08-20        NaN\n",
       "2014-08-21        NaN\n",
       "2014-08-22        NaN\n",
       "2014-08-23        NaN\n",
       "2014-08-24        NaN\n",
       "2014-08-25        NaN\n",
       "2014-08-26        NaN\n",
       "2014-08-27        NaN\n",
       "2014-08-28        NaN\n",
       "2014-08-29        NaN\n",
       "2014-08-30        NaN\n",
       "2014-08-31        NaN\n",
       "2014-09-01        NaN\n",
       "2014-09-02        NaN\n",
       "2014-09-03        NaN\n",
       "2014-09-04        NaN\n",
       "2014-09-05        NaN\n",
       "2014-09-06        NaN\n",
       "2014-09-07        NaN\n",
       "2014-09-08        NaN\n",
       "2014-09-09        NaN\n",
       "2014-09-10        NaN\n",
       "2014-09-11        NaN\n",
       "2014-09-12        NaN\n",
       "2014-09-13        NaN\n",
       "2014-09-14        NaN\n",
       "2014-09-15        NaN\n",
       "2014-09-16        NaN\n",
       "2014-09-17        NaN\n",
       "2014-09-18        NaN\n",
       "2014-09-19        NaN\n",
       "2014-09-20        NaN\n",
       "2014-09-21        NaN\n",
       "2014-09-22        NaN\n",
       "2014-09-23        NaN\n",
       "2014-09-24        NaN\n",
       "2014-09-25        NaN\n",
       "2014-09-26        NaN\n",
       "2014-09-27        NaN\n",
       "2014-09-28        NaN\n",
       "2014-09-29        NaN\n",
       "2014-09-30        NaN\n",
       "2014-10-01        NaN\n",
       "2014-10-02        NaN\n",
       "2014-10-03        NaN\n",
       "2014-10-04        NaN\n",
       "2014-10-05        NaN\n",
       "2014-10-06        NaN\n",
       "2014-10-07    445.742\n",
       "2014-10-08    442.936\n",
       "Name: Price, dtype: float64"
      ]
     },
     "execution_count": 25,
     "metadata": {},
     "output_type": "execute_result"
    }
   ],
   "source": [
    "data[\"Price\"].rolling(50).mean().head(51)"
   ]
  },
  {
   "cell_type": "markdown",
   "metadata": {},
   "source": [
    "## Cleanup"
   ]
  },
  {
   "cell_type": "markdown",
   "metadata": {},
   "source": [
    "### Missing Values"
   ]
  },
  {
   "cell_type": "markdown",
   "metadata": {},
   "source": [
    "### Inferring Frequency"
   ]
  },
  {
   "cell_type": "markdown",
   "metadata": {},
   "source": [
    "---\n",
    "_This notebook is licensed under a [Creative Commons Attribution 4.0 International License (CC BY 4.0)](https://creativecommons.org/licenses/by/4.0/). Copyright © 2019 [Point 8 GmbH](https://point-8.de)_"
   ]
  }
 ],
 "metadata": {
  "kernelspec": {
   "display_name": "Python 3",
   "language": "python",
   "name": "python3"
  },
  "language_info": {
   "codemirror_mode": {
    "name": "ipython",
    "version": 3
   },
   "file_extension": ".py",
   "mimetype": "text/x-python",
   "name": "python",
   "nbconvert_exporter": "python",
   "pygments_lexer": "ipython3",
   "version": "3.6.7"
  }
 },
 "nbformat": 4,
 "nbformat_minor": 2
}
