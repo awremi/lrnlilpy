{
 "cells": [
  {
   "cell_type": "markdown",
   "metadata": {},
   "source": [
    "# Plotting and Data Visualization\n",
    "\n",
    "A picture is worth a thousand words. While exploring an unknow data set the visualisation of data is a powerful way to more understanding and an important part of data science.\n",
    "\n",
    "The Python ecosystem includes several low and high level plotting/visualization libraries. The most feature-complete and popular one is [**matplotlib**](https://matplotlib.org). Among the alternatives are [**bokeh**](https://bokeh.pydata.org/en/latest/) and [**plotly**](https://plot.ly/python/), focusing on interactive visualizations.\n",
    "\n",
    "Libraries like [**seaborn**](http://seaborn.pydata.org) are built on matplotlib and provide a high-level interface for visual data analysis. The [**pandas**](http://pandas.pydata.org/) library also provides a more high-level plotting interface that uses matplotlib.\n"
   ]
  },
  {
   "cell_type": "code",
   "execution_count": null,
   "metadata": {},
   "outputs": [],
   "source": [
    "import pandas as pd\n",
    "import numpy as np\n",
    "import matplotlib as mpl\n",
    "import matplotlib.pyplot as plt\n",
    "import seaborn"
   ]
  },
  {
   "cell_type": "markdown",
   "metadata": {},
   "source": [
    "To show the plots inline in the notebook we set:\n"
   ]
  },
  {
   "cell_type": "code",
   "execution_count": null,
   "metadata": {},
   "outputs": [],
   "source": [
    "%matplotlib inline"
   ]
  },
  {
   "cell_type": "markdown",
   "metadata": {},
   "source": [
    "Here we configure some settings for the following plots:"
   ]
  },
  {
   "cell_type": "code",
   "execution_count": null,
   "metadata": {},
   "outputs": [],
   "source": [
    "seaborn.set_style(\"ticks\")\n",
    "plt.rcParams['figure.figsize'] = (16.0, 6.0)\n",
    "plt.rcParams['axes.grid'] = True"
   ]
  },
  {
   "cell_type": "markdown",
   "metadata": {},
   "source": [
    "#### Load the dataset\n",
    "The data set is of roughly 5000 different white wine samples ([Wine Quality Data Set](https://archive.ics.uci.edu/ml/datasets/wine+quality)). The different columns are chemical and physical characteristics. In addition a quality score is given."
   ]
  },
  {
   "cell_type": "code",
   "execution_count": null,
   "metadata": {},
   "outputs": [],
   "source": [
    "WINE_COLOR = 'red'\n",
    "df = pd.read_csv(f'../.assets/data/winequality/{WINE_COLOR}.csv.zip', sep=';')"
   ]
  },
  {
   "cell_type": "code",
   "execution_count": null,
   "metadata": {},
   "outputs": [],
   "source": [
    "df.head()"
   ]
  },
  {
   "cell_type": "markdown",
   "metadata": {},
   "source": [
    "_Note:_  [Documentation of the data set and additional information](https://files.point-8.de/trainings/data-science-101/wine-quality/INFO.md)"
   ]
  },
  {
   "cell_type": "markdown",
   "metadata": {},
   "source": [
    "## Types of Plots"
   ]
  },
  {
   "cell_type": "markdown",
   "metadata": {},
   "source": [
    "### Bar Chart\n",
    "\n",
    "As a first example we will check how the wine quality is distributed. To do so we use a **bar chart**, because we have discrete values to denote the wine quality."
   ]
  },
  {
   "cell_type": "code",
   "execution_count": null,
   "metadata": {},
   "outputs": [],
   "source": [
    "df[\"quality\"].value_counts().sort_index().plot(kind=\"bar\")  "
   ]
  },
  {
   "cell_type": "markdown",
   "metadata": {},
   "source": [
    "## Box plot\n",
    "\n",
    "A nice option to visualize the statistical distribution of a data set are [**box plots**](https://matplotlib.org/api/_as_gen/matplotlib.pyplot.boxplot.html). The _box_ itself includes by definition the central 50% of the data. Thereby, the box includes all data point from the 0.25-quantile (Q1) to the 0.75-quantile (Q3). Its length is called _interquantile range_ (IQR). In blue we see the **median** (Q2, 0.5-quantile), the **mean** ist the dotted line. The length of two _whiskers_ is 1.5 times the extent of the box: median $\\pm$ 1.5xIQR. The whisker allways ends on the last data point laying in the range of a whisker. All data lying outside of the whisker edges can be classifyied as outliers (marked by `x`)."
   ]
  },
  {
   "cell_type": "code",
   "execution_count": null,
   "metadata": {},
   "outputs": [],
   "source": [
    "df[\"pH\"].plot(kind=\"box\")"
   ]
  },
  {
   "cell_type": "code",
   "execution_count": null,
   "metadata": {},
   "outputs": [],
   "source": [
    "df[\"total sulfur dioxide\"].plot(kind=\"box\")"
   ]
  },
  {
   "cell_type": "markdown",
   "metadata": {},
   "source": [
    "Note that until now we have only called methods of `pandas` - they provide a high-level interface to the most commonly used plots. In many cases, we can get the visualizations we want by passing the right parameters to these high level methods. \n",
    "\n",
    "However, if we want more customized plots, we might have to go down one level and call `matplotlib` directly. This is what we see in the example below: Showing the distribution of all variables visualised as box plots and combined in a single plot."
   ]
  },
  {
   "cell_type": "code",
   "execution_count": null,
   "metadata": {},
   "outputs": [],
   "source": [
    "fig, axes = plt.subplots(nrows=1, ncols=df.columns.size)\n",
    "for idx, c in enumerate(df.columns):\n",
    "    axes[idx].boxplot(df[c], \n",
    "                      showmeans=True, \n",
    "                      meanline=True, \n",
    "                      whis=1.5, \n",
    "                      labels=[c], \n",
    "                      flierprops = {'color': 'silver', 'alpha': 0.1, 'marker': 'x'});\n",
    "plt.tight_layout()    "
   ]
  },
  {
   "cell_type": "markdown",
   "metadata": {},
   "source": [
    "## Histogram\n",
    "\n",
    "Another possibility to visualize the distribution of data is the [**histogram**](https://matplotlib.org/api/_as_gen/matplotlib.pyplot.hist.html). In this case we have a continuous range of pH values, and want to visualize how the wines are distributed over this range. Each data point is added to it's associated value range (**bin**). The height of each bar corresponds to the number of entries per bin."
   ]
  },
  {
   "cell_type": "code",
   "execution_count": null,
   "metadata": {},
   "outputs": [],
   "source": [
    "df[\"pH\"].hist(bins=30)\n",
    "plt.title(\"pH values\")"
   ]
  },
  {
   "cell_type": "markdown",
   "metadata": {},
   "source": [
    "## Violin plot\n",
    "\n",
    "Another interesting option for showing distributions is the [**violin plot**](https://matplotlib.org/devdocs/api/_as_gen/matplotlib.pyplot.violinplot.html). It can be thought of as a combination of box plot and histogram. "
   ]
  },
  {
   "cell_type": "code",
   "execution_count": null,
   "metadata": {},
   "outputs": [],
   "source": [
    "seaborn.violinplot(\n",
    "    x=df[\"alcohol\"],\n",
    "    title=\"distribution of alcohol content\",\n",
    ")"
   ]
  },
  {
   "cell_type": "markdown",
   "metadata": {},
   "source": [
    "## Scatter plot\n",
    "\n",
    "To put the distributions of two variables in relation, we can use [**scatter plots**](https://matplotlib.org/api/_as_gen/matplotlib.pyplot.scatter.html). Here we compare how the residual sugar concentration behaves in comparison to the volumentric alcohol concentration."
   ]
  },
  {
   "cell_type": "code",
   "execution_count": null,
   "metadata": {},
   "outputs": [],
   "source": [
    "df.plot(\n",
    "    kind=\"scatter\", \n",
    "    x=\"alcohol\", \n",
    "    y=\"residual sugar\",\n",
    "    title=\"Alcohol Content vs Residual Sugar\"\n",
    ")"
   ]
  },
  {
   "cell_type": "markdown",
   "metadata": {},
   "source": [
    "## 2d-histogram (_Heatmap_)\n",
    "\n",
    "Alternatively, we can visualize the point density using a [**2-dimensional histogram**](https://matplotlib.org/api/_as_gen/matplotlib.pyplot.hist2d.html) (also called **heatmap**). The value range is again divided into discrete bins. The number of entries per bin is visualized using a [color map](https://matplotlib.org/users/colormaps.html) (_cmap_). The name heatmap indicates, that (depending on the color scheme) areas with more data are visualised as \"hotter\"."
   ]
  },
  {
   "cell_type": "code",
   "execution_count": null,
   "metadata": {},
   "outputs": [],
   "source": [
    "hist, x_axis, y_axis = np.histogram2d(\n",
    "    x=df[\"residual sugar\"], \n",
    "    y=df[\"alcohol\"],\n",
    "    bins=10\n",
    ")"
   ]
  },
  {
   "cell_type": "code",
   "execution_count": null,
   "metadata": {},
   "outputs": [],
   "source": []
  },
  {
   "cell_type": "code",
   "execution_count": null,
   "metadata": {},
   "outputs": [],
   "source": [
    "hist_df = pd.DataFrame(\n",
    "    hist, \n",
    "    index=np.round(x_axis[1:], 2), \n",
    "    columns=np.round(y_axis[1:], 2),\n",
    ")\n",
    "hist_df"
   ]
  },
  {
   "cell_type": "code",
   "execution_count": null,
   "metadata": {},
   "outputs": [],
   "source": []
  },
  {
   "cell_type": "code",
   "execution_count": null,
   "metadata": {},
   "outputs": [],
   "source": [
    "plt.figure(figsize=(8,6))\n",
    "plt.title(\"distribution: residual sugar vs alcohol content\")\n",
    "seaborn.heatmap(\n",
    "    data=hist_df,\n",
    "    cmap=\"viridis\",\n",
    ")\n"
   ]
  },
  {
   "cell_type": "markdown",
   "metadata": {},
   "source": [
    "## Interactive Plots"
   ]
  },
  {
   "cell_type": "markdown",
   "metadata": {},
   "source": [
    "In some data analysis applications, the ability to explore the plots interactively is helpful - think about interactive dashboards. `plotly` is a library that is similar in its functionality to `matplolib`, only that it outputs interactive plots."
   ]
  },
  {
   "cell_type": "code",
   "execution_count": null,
   "metadata": {},
   "outputs": [],
   "source": [
    "import plotly.graph_objs\n",
    "from plotly.offline import iplot, init_notebook_mode\n",
    "init_notebook_mode(connected=True)"
   ]
  },
  {
   "cell_type": "markdown",
   "metadata": {},
   "source": [
    "### Bar Chart\n",
    "\n",
    "This example is analogous to the bar chart example above. With `plotly` however, we get interactivity:"
   ]
  },
  {
   "cell_type": "code",
   "execution_count": null,
   "metadata": {},
   "outputs": [],
   "source": [
    "histogram = df[\"quality\"].value_counts().sort_index()\n",
    "\n",
    "barchart = plotly.graph_objs.Bar(\n",
    "    x=histogram.index,\n",
    "    y=histogram\n",
    ")\n",
    "\n",
    "layout = plotly.graph_objs.Layout(title=\"distribution of quality\", autosize=True)\n",
    "figure = plotly.graph_objs.Figure(data=[barchart], layout=layout)\n",
    "\n",
    "iplot(figure_or_data=figure)"
   ]
  },
  {
   "cell_type": "markdown",
   "metadata": {},
   "source": [
    "### Box Plot"
   ]
  },
  {
   "cell_type": "code",
   "execution_count": null,
   "metadata": {},
   "outputs": [],
   "source": [
    "layout = plotly.graph_objs.Layout(\n",
    "    title=\"boxplots\", \n",
    "    autosize=True\n",
    ")\n",
    "\n",
    "figure = plotly.graph_objs.Figure(\n",
    "    data=[\n",
    "        plotly.graph_objs.Box(\n",
    "            y=df[\"pH\"],\n",
    "            name=\"pH\"\n",
    "        ),\n",
    "        plotly.graph_objs.Box(\n",
    "            y=df[\"total sulfur dioxide\"],\n",
    "            name=\"total sulfur dioxide\"\n",
    "        ),        \n",
    "    ], \n",
    "    layout=layout\n",
    ")\n",
    "\n",
    "iplot(figure_or_data=figure)"
   ]
  },
  {
   "cell_type": "markdown",
   "metadata": {},
   "source": [
    "## Scatter Plot"
   ]
  },
  {
   "cell_type": "code",
   "execution_count": null,
   "metadata": {},
   "outputs": [],
   "source": [
    "layout = plotly.graph_objs.Layout(\n",
    "    title=\"scatterplot: alcohol vs residual sugar\", \n",
    "    autosize=True,\n",
    "    xaxis={\"title\": \"alcohol\"},\n",
    "    yaxis={\"title\": \"residual sugar\"}\n",
    ")\n",
    "\n",
    "figure = plotly.graph_objs.Figure(\n",
    "    data=[\n",
    "        plotly.graph_objs.Scatter(\n",
    "            x=df[\"alcohol\"],\n",
    "            y=df[\"residual sugar\"],\n",
    "            mode=\"markers\"\n",
    "        )        \n",
    "    ], \n",
    "    layout=layout\n",
    ")\n",
    "\n",
    "iplot(figure_or_data=figure)"
   ]
  },
  {
   "cell_type": "markdown",
   "metadata": {},
   "source": [
    "---\n",
    "_This notebook is licensed under a [Creative Commons Attribution 4.0 International License (CC BY 4.0)](https://creativecommons.org/licenses/by/4.0/). Copyright © 2019 [Point 8 GmbH](https://point-8.de)_"
   ]
  }
 ],
 "metadata": {
  "kernelspec": {
   "display_name": "Python 3",
   "language": "python",
   "name": "python3"
  },
  "language_info": {
   "codemirror_mode": {
    "name": "ipython",
    "version": 3
   },
   "file_extension": ".py",
   "mimetype": "text/x-python",
   "name": "python",
   "nbconvert_exporter": "python",
   "pygments_lexer": "ipython3",
   "version": "3.6.7"
  }
 },
 "nbformat": 4,
 "nbformat_minor": 2
}
