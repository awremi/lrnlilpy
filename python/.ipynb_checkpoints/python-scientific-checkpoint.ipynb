{
 "cells": [
  {
   "cell_type": "markdown",
   "metadata": {},
   "source": [
    "# Scientific Computing in Python\n",
    "\n",
    "Unter **Scientific Computing** oder _wissenschaftliches Rechnen_ in Python fallen Verfahren und Methoden um arithmetische, numerische oder statistische Aufgaben zu lösen.\n",
    "\n",
    "Natürlich lassen sich viele der Aufgaben auch mit der Python Standardbibliothek abbilden. Es gibt jedoch spezielle Bibliotheken, die das meiste, was man benötigt, bereits effizient und einfach nutzbar implementiert haben.\n",
    "\n",
    "\n",
    "Die für uns wichtigstens Bibliotheken sind [**NumPy**](http://www.numpy.org) und [**pandas**](https://pandas.pydata.org)."
   ]
  },
  {
   "cell_type": "markdown",
   "metadata": {},
   "source": [
    "## Import von Bibliotheken\n",
    "\n",
    "Möchte man auf Funktionen und Datentypen aus Bibliotheken zurück greifen, müssen diese in das aktuelle Python-Script oder Jupyter-Notebook importiert werden. Benötigt man z.B. die Funktion `sqrt()`, um eine Wurzel zu ziehen, muss diese aus der `math` Bibliothekt (oder Paket wie man in Python sagt) geladen werden. Das geschieht ganz einfach mit einem **`import`** Statement:\n",
    "\n",
    "```python\n",
    ">>> import math\n",
    ">>> math.sqrt(4)\n",
    "2.0\n",
    "```\n",
    "\n",
    "Möchte man sich beim möglicherweise wiederholten Aufrufen der Funktion das `math.` sparen, kann man die Funktion auch explizit importieren.\n",
    "\n",
    "```python\n",
    ">>> from math import sqrt\n",
    ">>> sqrt(4)\n",
    "2.0\n",
    "```\n",
    "\n",
    "Teilweise ist es auch nützlich importierte Pakete mit einer Abkürzung zu versehen\n",
    "\n",
    "```python\n",
    ">>> import math as m\n",
    ">>> m.sqrt(4)\n",
    "2.0\n",
    "```\n",
    "\n",
    "oder aber explizit die Funktion.\n",
    "\n",
    "```python\n",
    ">>> from math import sqrt as wurzel\n",
    ">>> wurzel(4)\n",
    "2.0\n",
    "```\n",
    "\n",
    "Man sollte es sich jedoch niemals so einfach machen und schreiben:\n",
    "\n",
    "```python\n",
    ">>> from math import *\n",
    "```\n",
    "\n",
    "Das funktioniert zwar und importiert alle Funktionen aus `math`, ist aber sicher schlechter Stil und birgt einige Gefahren."
   ]
  },
  {
   "cell_type": "markdown",
   "metadata": {},
   "source": [
    "## numpy\n",
    "\n",
    "Die Bibliothek **NumPy** stellt Datenstrukturen und Funktionen zur effizienten Handhabung von Vektoren, Matrizen oder großen multidimensionalen Arrays zur Verfügung. Da numpy intern an vielen Stellen auf vorkompilierten Code zurückgreift, sind die Operationen deutlich schneller als man es in einer interpretierten Sprache erwarten würde.\n",
    "\n",
    "Die wesentliche Struktur ist das numpy-Array. Es enthält (anders als Python-Listen) nur Elemente des gleichen Typs und in den meisten Fällen sind dies Zahlen."
   ]
  },
  {
   "cell_type": "code",
   "execution_count": 1,
   "metadata": {},
   "outputs": [],
   "source": [
    "# Importieren wir also das numpy Paket. Da wir es häufig benutzten, kürzen wir es ab.\n",
    "import numpy as np"
   ]
  },
  {
   "cell_type": "code",
   "execution_count": 2,
   "metadata": {},
   "outputs": [
    {
     "data": {
      "text/plain": [
       "array([1, 2, 3, 4, 5])"
      ]
     },
     "execution_count": 2,
     "metadata": {},
     "output_type": "execute_result"
    }
   ],
   "source": [
    "np.array([1, 2, 3, 4, 5])  # Ein array aus einer Liste"
   ]
  },
  {
   "cell_type": "code",
   "execution_count": 3,
   "metadata": {},
   "outputs": [
    {
     "data": {
      "text/plain": [
       "array([0, 1, 2, 3, 4, 5, 6, 7, 8, 9])"
      ]
     },
     "execution_count": 3,
     "metadata": {},
     "output_type": "execute_result"
    }
   ],
   "source": [
    "np.arange(10)"
   ]
  },
  {
   "cell_type": "code",
   "execution_count": 4,
   "metadata": {},
   "outputs": [
    {
     "data": {
      "text/plain": [
       "array([[ 0,  1,  2,  3,  4],\n",
       "       [ 5,  6,  7,  8,  9],\n",
       "       [10, 11, 12, 13, 14]])"
      ]
     },
     "execution_count": 4,
     "metadata": {},
     "output_type": "execute_result"
    }
   ],
   "source": [
    "np.arange(15).reshape(3, 5)"
   ]
  },
  {
   "cell_type": "code",
   "execution_count": 5,
   "metadata": {},
   "outputs": [
    {
     "data": {
      "text/plain": [
       "array([[ 0.,  0.,  0.,  0.,  0.],\n",
       "       [ 0.,  0.,  0.,  0.,  0.],\n",
       "       [ 0.,  0.,  0.,  0.,  0.]])"
      ]
     },
     "execution_count": 5,
     "metadata": {},
     "output_type": "execute_result"
    }
   ],
   "source": [
    "np.zeros((3, 5))"
   ]
  },
  {
   "cell_type": "markdown",
   "metadata": {},
   "source": [
    "### Array-Operationen\n",
    "\n",
    "Schauen wir uns also mal zwei 2x2 Matrizen bzw. (2, 2)-Arrays an und was wir damit machen können."
   ]
  },
  {
   "cell_type": "code",
   "execution_count": 6,
   "metadata": {},
   "outputs": [
    {
     "name": "stdout",
     "output_type": "stream",
     "text": [
      "[[1 1]\n",
      " [0 1]]\n",
      "[[2 0]\n",
      " [3 4]]\n"
     ]
    }
   ],
   "source": [
    "A = np.array([[1, 1], [0, 1]])\n",
    "B = np.array([[2, 0], [3, 4]])\n",
    "print(A)\n",
    "print(B)"
   ]
  },
  {
   "cell_type": "code",
   "execution_count": 7,
   "metadata": {},
   "outputs": [
    {
     "data": {
      "text/plain": [
       "array([[2, 0],\n",
       "       [0, 4]])"
      ]
     },
     "execution_count": 7,
     "metadata": {},
     "output_type": "execute_result"
    }
   ],
   "source": [
    "# Produkt der Elemente\n",
    "A * B"
   ]
  },
  {
   "cell_type": "code",
   "execution_count": 8,
   "metadata": {},
   "outputs": [
    {
     "data": {
      "text/plain": [
       "array([[5, 4],\n",
       "       [3, 4]])"
      ]
     },
     "execution_count": 8,
     "metadata": {},
     "output_type": "execute_result"
    }
   ],
   "source": [
    "# Matrixprodukt\n",
    "A.dot(B)"
   ]
  },
  {
   "cell_type": "markdown",
   "metadata": {},
   "source": [
    "### numpy-Funktionen\n",
    "\n",
    "Ihre wirkliche Stärke spielen numpy-Arrays aber erst im Zusammenspiel mit den numpy-Funktionen aus."
   ]
  },
  {
   "cell_type": "code",
   "execution_count": 9,
   "metadata": {},
   "outputs": [
    {
     "name": "stdout",
     "output_type": "stream",
     "text": [
      "[[ 0  1  2  3  4]\n",
      " [ 5  6  7  8  9]\n",
      " [10 11 12 13 14]]\n"
     ]
    }
   ],
   "source": [
    "C = np.arange(15).reshape(3, 5)\n",
    "print(C)"
   ]
  },
  {
   "cell_type": "code",
   "execution_count": 10,
   "metadata": {},
   "outputs": [
    {
     "data": {
      "text/plain": [
       "105"
      ]
     },
     "execution_count": 10,
     "metadata": {},
     "output_type": "execute_result"
    }
   ],
   "source": [
    "# Summe aller Elemente\n",
    "C.sum()"
   ]
  },
  {
   "cell_type": "code",
   "execution_count": 11,
   "metadata": {},
   "outputs": [
    {
     "data": {
      "text/plain": [
       "array([15, 18, 21, 24, 27])"
      ]
     },
     "execution_count": 11,
     "metadata": {},
     "output_type": "execute_result"
    }
   ],
   "source": [
    "# Summe über jede Spalte\n",
    "C.sum(axis=0)"
   ]
  },
  {
   "cell_type": "code",
   "execution_count": 12,
   "metadata": {},
   "outputs": [
    {
     "data": {
      "text/plain": [
       "array([ 0,  5, 10])"
      ]
     },
     "execution_count": 12,
     "metadata": {},
     "output_type": "execute_result"
    }
   ],
   "source": [
    "# Minimum über jede Zeile\n",
    "C.min(axis=1)"
   ]
  },
  {
   "cell_type": "code",
   "execution_count": 13,
   "metadata": {},
   "outputs": [
    {
     "data": {
      "text/plain": [
       "array([  0,   1,   3,   6,  10,  15,  21,  28,  36,  45,  55,  66,  78,\n",
       "        91, 105])"
      ]
     },
     "execution_count": 13,
     "metadata": {},
     "output_type": "execute_result"
    }
   ],
   "source": [
    "# Kumulative Summe\n",
    "C.cumsum()"
   ]
  },
  {
   "cell_type": "markdown",
   "metadata": {},
   "source": [
    "### np.random\n",
    "\n",
    "Numpy beinhaltet auch umfangreiche Funktionalität um Zufallszahlen zu erzeugen:"
   ]
  },
  {
   "cell_type": "code",
   "execution_count": 14,
   "metadata": {},
   "outputs": [
    {
     "data": {
      "text/plain": [
       "array([[ 0.6218916 ,  0.15562807,  0.58938345],\n",
       "       [ 0.9992025 ,  0.30345319,  0.49754544]])"
      ]
     },
     "execution_count": 14,
     "metadata": {},
     "output_type": "execute_result"
    }
   ],
   "source": [
    "np.random.random((2, 3))"
   ]
  },
  {
   "cell_type": "markdown",
   "metadata": {},
   "source": [
    "### Statistik mit numpy"
   ]
  },
  {
   "cell_type": "code",
   "execution_count": 15,
   "metadata": {},
   "outputs": [],
   "source": [
    "D = np.random.random((2, 3))"
   ]
  },
  {
   "cell_type": "code",
   "execution_count": 16,
   "metadata": {},
   "outputs": [
    {
     "name": "stdout",
     "output_type": "stream",
     "text": [
      "[[ 0.44610496  0.12020712  0.26314532]\n",
      " [ 0.74691537  0.35012105  0.92369709]]\n"
     ]
    }
   ],
   "source": [
    "print(D)"
   ]
  },
  {
   "cell_type": "code",
   "execution_count": 17,
   "metadata": {},
   "outputs": [
    {
     "data": {
      "text/plain": [
       "0.4750318175283022"
      ]
     },
     "execution_count": 17,
     "metadata": {},
     "output_type": "execute_result"
    }
   ],
   "source": [
    "# arithmetisches Mittel\n",
    "np.mean(D)"
   ]
  },
  {
   "cell_type": "code",
   "execution_count": 18,
   "metadata": {},
   "outputs": [
    {
     "data": {
      "text/plain": [
       "0.27762597917501836"
      ]
     },
     "execution_count": 18,
     "metadata": {},
     "output_type": "execute_result"
    }
   ],
   "source": [
    "# Standardabweichung\n",
    "np.std(D)"
   ]
  },
  {
   "cell_type": "code",
   "execution_count": 19,
   "metadata": {},
   "outputs": [
    {
     "data": {
      "text/plain": [
       "0.077076184312887736"
      ]
     },
     "execution_count": 19,
     "metadata": {},
     "output_type": "execute_result"
    }
   ],
   "source": [
    "# Varianz\n",
    "np.var(D)"
   ]
  },
  {
   "cell_type": "code",
   "execution_count": 20,
   "metadata": {},
   "outputs": [
    {
     "data": {
      "text/plain": [
       "array([[ 0.02668583,  0.02982607],\n",
       "       [ 0.02982607,  0.08628116]])"
      ]
     },
     "execution_count": 20,
     "metadata": {},
     "output_type": "execute_result"
    }
   ],
   "source": [
    "# Covarianzmatrix\n",
    "np.cov(D)"
   ]
  },
  {
   "cell_type": "markdown",
   "metadata": {},
   "source": [
    "### Performance-Vergleich\n",
    "\n",
    "zwischen Python-Listen und Operationen, die auf numpy aufbauen:"
   ]
  },
  {
   "cell_type": "code",
   "execution_count": 21,
   "metadata": {},
   "outputs": [],
   "source": [
    "E = np.random.random(1000)"
   ]
  },
  {
   "cell_type": "code",
   "execution_count": 22,
   "metadata": {},
   "outputs": [
    {
     "name": "stdout",
     "output_type": "stream",
     "text": [
      "106 µs ± 2.81 µs per loop (mean ± std. dev. of 10 runs, 10000 loops each)\n"
     ]
    }
   ],
   "source": [
    "%%timeit -r 10\n",
    "sum(E) / len(E)"
   ]
  },
  {
   "cell_type": "code",
   "execution_count": 23,
   "metadata": {},
   "outputs": [
    {
     "name": "stdout",
     "output_type": "stream",
     "text": [
      "9.2 µs ± 971 ns per loop (mean ± std. dev. of 10 runs, 100000 loops each)\n"
     ]
    }
   ],
   "source": [
    "%%timeit -r 10\n",
    "np.mean(E)"
   ]
  },
  {
   "cell_type": "markdown",
   "metadata": {},
   "source": [
    "## pandas\n",
    "\n",
    "Während numpy seinen Fokus auf die breite Unterstützung von numerischen Operationen auf multidimensionalen Array-Strukturen legt, steht die Datenanalyse im Mittelpunkt von **pandas**.\n",
    "\n",
    "Aufbauend auf numpy und mit starken Anlehnungen an aus [**R**](https://www.r-project.org) bekannte Datenstrukturen wie den `DataFrame`, bietet pandas viele nützliche Funktionen zur Datenanalyse.\n",
    "\n",
    "Wie gehabt importieren wir pandas zunächst und können dann damit arbeiten. Ebenfalls importieren wir die Bibliothek `kiml`, die einige speziell für unseren Kurs nützliche Helfer bereit hält."
   ]
  },
  {
   "cell_type": "code",
   "execution_count": 24,
   "metadata": {},
   "outputs": [
    {
     "ename": "ModuleNotFoundError",
     "evalue": "No module named 'kiml'",
     "output_type": "error",
     "traceback": [
      "\u001b[0;31m---------------------------------------------------------------------------\u001b[0m",
      "\u001b[0;31mModuleNotFoundError\u001b[0m                       Traceback (most recent call last)",
      "\u001b[0;32m<ipython-input-24-2e305de6c7bd>\u001b[0m in \u001b[0;36m<module>\u001b[0;34m()\u001b[0m\n\u001b[1;32m      4\u001b[0m \u001b[0;31m# Aus dem `kiml` Paket laden wir die Hilfsfunktion `vinho_verde`,\u001b[0m\u001b[0;34m\u001b[0m\u001b[0;34m\u001b[0m\u001b[0m\n\u001b[1;32m      5\u001b[0m \u001b[0;31m# die uns später ein Beispieldatensatz zur Vefügung stellt.\u001b[0m\u001b[0;34m\u001b[0m\u001b[0;34m\u001b[0m\u001b[0m\n\u001b[0;32m----> 6\u001b[0;31m \u001b[0;32mfrom\u001b[0m \u001b[0mkiml\u001b[0m\u001b[0;34m.\u001b[0m\u001b[0mdata\u001b[0m \u001b[0;32mimport\u001b[0m \u001b[0mvinho_verde\u001b[0m\u001b[0;34m\u001b[0m\u001b[0m\n\u001b[0m",
      "\u001b[0;31mModuleNotFoundError\u001b[0m: No module named 'kiml'"
     ]
    }
   ],
   "source": [
    "# Auch pandas kürzen wir ab\n",
    "import pandas as pd\n",
    "\n",
    "# Aus dem `kiml` Paket laden wir die Hilfsfunktion `vinho_verde`,\n",
    "# die uns später ein Beispieldatensatz zur Vefügung stellt.\n",
    "from kiml.data import vinho_verde"
   ]
  },
  {
   "cell_type": "markdown",
   "metadata": {},
   "source": [
    "### Der pandas.DataFrame\n",
    "Der [**pandas.DataFrame**](https://pandas.pydata.org/pandas-docs/stable/generated/pandas.DataFrame.html) wird uns durch den kompletten Kurs begleiten."
   ]
  },
  {
   "cell_type": "code",
   "execution_count": null,
   "metadata": {},
   "outputs": [],
   "source": [
    "dates = pd.date_range('20170101', periods=6)\n",
    "values = np.random.random((6,4))"
   ]
  },
  {
   "cell_type": "code",
   "execution_count": null,
   "metadata": {},
   "outputs": [],
   "source": [
    "# DataFrame aus zwei Listen bzw. Arrays. \n",
    "# Die 'dates' werden dem 'index' zugeordnen und die 'colums' benennen wir manuell.\n",
    "pd.DataFrame(data=values, index=dates, columns=['A', 'B', 'C', 'D'])"
   ]
  },
  {
   "cell_type": "code",
   "execution_count": null,
   "metadata": {},
   "outputs": [],
   "source": [
    "# Definition eines Dictionary\n",
    "values = {\n",
    "    'A': 1.0,\n",
    "    'B': 'python',\n",
    "    'C': np.random.random(6)\n",
    "}"
   ]
  },
  {
   "cell_type": "code",
   "execution_count": null,
   "metadata": {},
   "outputs": [],
   "source": [
    "# DataFrame aus dem Dictionary und den vorigen 'dates'\n",
    "pd.DataFrame(data=values, index=dates)"
   ]
  },
  {
   "cell_type": "markdown",
   "metadata": {},
   "source": [
    "### Vinho Verde\n",
    "\n",
    "Laden wir einmal einen Beispieldatensatz und schauen uns an, was sich daraus mit pandas machen lässt. Der Datensatz enthält rund 5000 Stichproben von Weinen. Verschiedene chemisch-physikalische Größen z.B. pH-Wert, Zucker- und Säuregehalt sind enthalten, sowie ein aus einem Expertenfeedback gewonnenes Qualitätsmaß."
   ]
  },
  {
   "cell_type": "code",
   "execution_count": null,
   "metadata": {},
   "outputs": [],
   "source": [
    "# Der Datensatz kommt aus dem zuvor geladenen 'kiml.data' Paket.\n",
    "df = vinho_verde()"
   ]
  },
  {
   "cell_type": "code",
   "execution_count": null,
   "metadata": {},
   "outputs": [],
   "source": [
    "# Der Datensatz enthält für 4898 Stichproben jeweils 12 Größen.\n",
    "df.shape"
   ]
  },
  {
   "cell_type": "code",
   "execution_count": null,
   "metadata": {},
   "outputs": [],
   "source": [
    "# Die oberen 5 Zeilen anzeigen bzw. mit `.tail()` unteren Zeilen.\n",
    "df.head(5)"
   ]
  },
  {
   "cell_type": "code",
   "execution_count": null,
   "metadata": {},
   "outputs": [],
   "source": [
    "# Anders als in unserem Beispiel zuvor haben wir hier einen numerischen Index.\n",
    "df.index"
   ]
  },
  {
   "cell_type": "code",
   "execution_count": null,
   "metadata": {},
   "outputs": [],
   "source": [
    "# Die Spalten enthalten die folgenden Größen:\n",
    "df.columns"
   ]
  },
  {
   "cell_type": "code",
   "execution_count": null,
   "metadata": {},
   "outputs": [],
   "source": [
    "# Mit `.describe()` bekommen wir eine statistische Zusammenfassung:\n",
    "df.describe()"
   ]
  },
  {
   "cell_type": "code",
   "execution_count": null,
   "metadata": {},
   "outputs": [],
   "source": [
    "# Wir können den Datensatz neu sortieren.\n",
    "df.sort_values(by='pH', ascending=False).head(5)"
   ]
  },
  {
   "cell_type": "code",
   "execution_count": null,
   "metadata": {
    "scrolled": false
   },
   "outputs": [],
   "source": [
    "# Wir können uns einzelne Spalten anschauen.\n",
    "df[['fixed acidity', 'citric acid', 'quality']].head()"
   ]
  },
  {
   "cell_type": "code",
   "execution_count": null,
   "metadata": {
    "scrolled": true
   },
   "outputs": [],
   "source": [
    "# Uns die möglichen Einträge einer Spalte ansehen.\n",
    "pd.unique(df['quality'])"
   ]
  },
  {
   "cell_type": "code",
   "execution_count": null,
   "metadata": {},
   "outputs": [],
   "source": [
    "# Diese sortieren, gruppieren und zählen:\n",
    "df.groupby('quality')['quality'].count()"
   ]
  },
  {
   "cell_type": "code",
   "execution_count": null,
   "metadata": {},
   "outputs": [],
   "source": [
    "# Wir können die Daten filtern\n",
    "df[df['alcohol'] > 10.0].head()"
   ]
  },
  {
   "cell_type": "code",
   "execution_count": null,
   "metadata": {},
   "outputs": [],
   "source": [
    "# Und alles hintereinander anwenden.\n",
    "df[df['alcohol'] > 10.0].sort_values(by='alcohol', ascending=False).head()"
   ]
  },
  {
   "cell_type": "code",
   "execution_count": null,
   "metadata": {},
   "outputs": [],
   "source": [
    "# Probieren Sie es aus\n",
    "\n",
    "\n",
    "\n",
    "\n",
    "\n"
   ]
  }
 ],
 "metadata": {
  "kernelspec": {
   "display_name": "Python 3",
   "language": "python",
   "name": "python3"
  }
 },
 "nbformat": 4,
 "nbformat_minor": 2
}
