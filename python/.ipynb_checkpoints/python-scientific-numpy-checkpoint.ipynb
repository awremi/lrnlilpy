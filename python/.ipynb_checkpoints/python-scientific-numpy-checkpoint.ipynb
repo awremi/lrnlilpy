{
 "cells": [
  {
   "cell_type": "markdown",
   "metadata": {},
   "source": [
    "# Basic Scientific Computing in Python with NumPy\n",
    "\n",
    "**Scientfic Computing** in Python includes especially arithmetical, numerical and statistical operations and methods, often on large amounts of data.\n",
    "\n",
    "Most of the task are feasible using standard Python libraries (or packages). But there are specialised libraries for most data science purposes, which are efficiently implemented and easy to use. Furthermore, a broad online documentation is available with examples.\n",
    "\n",
    "One of the most import libary is [**NumPy**](http://www.numpy.org), which includes numerical computing with powerful numerical arrays objects and routines to manipulate them. A broadly used and more advanced library for scientific computing is [**SciPy**](https://www.scipy.org/), which is built on NumPy."
   ]
  },
  {
   "cell_type": "markdown",
   "metadata": {},
   "source": [
    "## Import of libraries\n",
    "\n",
    "To include functions, classes or data types from libraries, they have to be imported to the respective Python script or Jupyter notebook. The following example shows how to include the standard library for mathematical operations [**math**](https://docs.python.org/3.0/library/math.html)."
   ]
  },
  {
   "cell_type": "code",
   "execution_count": null,
   "metadata": {},
   "outputs": [],
   "source": [
    "import math"
   ]
  },
  {
   "cell_type": "markdown",
   "metadata": {},
   "source": [
    "All functions of the libary can be called from now on by using `math.` as prefix. The square root is given with the `sqrt()`-function as:"
   ]
  },
  {
   "cell_type": "code",
   "execution_count": null,
   "metadata": {},
   "outputs": [],
   "source": [
    "math.sqrt(4)"
   ]
  },
  {
   "cell_type": "markdown",
   "metadata": {},
   "source": [
    "It is possible to introduce an abbreviation for a single library to reduce programming effort. \n",
    "In addition, it is possible to import only single functions, which are directly callable without the leading library name."
   ]
  },
  {
   "cell_type": "code",
   "execution_count": null,
   "metadata": {},
   "outputs": [],
   "source": [
    "import math as m\n",
    "m.sqrt(4)"
   ]
  },
  {
   "cell_type": "code",
   "execution_count": null,
   "metadata": {},
   "outputs": [],
   "source": [
    "from math import sqrt\n",
    "sqrt(4)"
   ]
  },
  {
   "cell_type": "code",
   "execution_count": null,
   "metadata": {},
   "outputs": [],
   "source": [
    "from math import sqrt as squareroot\n",
    "squareroot(4)"
   ]
  },
  {
   "cell_type": "markdown",
   "metadata": {},
   "source": [
    "It is not recommended to import all functions of a library by"
   ]
  },
  {
   "cell_type": "code",
   "execution_count": null,
   "metadata": {},
   "outputs": [],
   "source": [
    "from math import *"
   ]
  },
  {
   "cell_type": "markdown",
   "metadata": {},
   "source": [
    "as for example in the later programming process affiliation or assigned names will be unknown or unclear. "
   ]
  },
  {
   "cell_type": "markdown",
   "metadata": {},
   "source": [
    "## numpy\n",
    "\n",
    "The [**NumPy**](http://www.numpy.org/) library includes different data types and functions for efficient handling of vectors, matrices and multidimensional arrays. This is allowed by using precompiled code internally, which improves speed. \n",
    "\n",
    "The most important data type is the **numpy array**. Like a list, it is a collection of objects. These objects are, however, all of the same data type so that they can be stored and processed more efficiently in memory. Some examples are given below."
   ]
  },
  {
   "cell_type": "code",
   "execution_count": null,
   "metadata": {},
   "outputs": [],
   "source": [
    "# Numpy is imported with it common abbreviation\n",
    "import numpy as np"
   ]
  },
  {
   "cell_type": "code",
   "execution_count": null,
   "metadata": {
    "scrolled": true
   },
   "outputs": [],
   "source": [
    "# Array of a list; data type is called numpy.ndarray\n",
    "np.array([1, 2, 3, 4, 5])  "
   ]
  },
  {
   "cell_type": "code",
   "execution_count": null,
   "metadata": {},
   "outputs": [],
   "source": [
    "# Innitializes an array of ten integers from 0 to 9\n",
    "np.arange(10) "
   ]
  },
  {
   "cell_type": "code",
   "execution_count": null,
   "metadata": {},
   "outputs": [],
   "source": [
    "# Shape given array to a (3x5)-array\n",
    "np.arange(15).reshape(3, 5) "
   ]
  },
  {
   "cell_type": "code",
   "execution_count": null,
   "metadata": {
    "scrolled": true
   },
   "outputs": [],
   "source": [
    "# Create (3x5)-array filled with zero\n",
    "np.zeros((3, 5)) "
   ]
  },
  {
   "cell_type": "code",
   "execution_count": null,
   "metadata": {},
   "outputs": [],
   "source": [
    "# Checking for type of variable\n",
    "x=[0,1,2,3]\n",
    "y=np.array(x)\n",
    "print(f'x is of type: {type(x)}')\n",
    "print(f'y is of type: {type(y)}')"
   ]
  },
  {
   "cell_type": "code",
   "execution_count": null,
   "metadata": {},
   "outputs": [],
   "source": [
    "# Basic operations are applied elementwise\n",
    "print(y+y)\n",
    "print(y*3)"
   ]
  },
  {
   "cell_type": "markdown",
   "metadata": {},
   "source": [
    "There are many efficient operations to combine arrays. Lists or arrays can be combined ([`stacked`](https://docs.scipy.org/doc/numpy/reference/generated/numpy.stack.html)) to a new array. The respective axis can be chosen."
   ]
  },
  {
   "cell_type": "code",
   "execution_count": null,
   "metadata": {},
   "outputs": [],
   "source": [
    "x = [1,2,3,4,5]\n",
    "y = np.array([6,7,8,9,10])\n",
    "\n",
    "# Stack by\n",
    "np.stack((x, y), axis=0)"
   ]
  },
  {
   "cell_type": "code",
   "execution_count": null,
   "metadata": {},
   "outputs": [],
   "source": [
    "np.stack((x, y), axis=1)"
   ]
  },
  {
   "cell_type": "markdown",
   "metadata": {},
   "source": [
    "### Performance comparison\n",
    "\n",
    "Many things that are possible with numpy arrays can also be achieved with Python's built-in collections - like lists. The difference lies in the performance. When doing scientific computing and data analysis on large amounts of data, you don't want the overhead that comes with the great flexibility and ease of use of these data types. \n",
    "\n",
    "Let's measure the difference: The [**timeit**](https://docs.python.org/2/library/timeit.html) allows measuring execution time of small code snippets. We measure how long it takes to calculate the square of the numbers from 0 to 1 million."
   ]
  },
  {
   "cell_type": "code",
   "execution_count": null,
   "metadata": {},
   "outputs": [],
   "source": [
    "values = range(int(1e6))"
   ]
  },
  {
   "cell_type": "code",
   "execution_count": null,
   "metadata": {},
   "outputs": [],
   "source": [
    "%timeit -n 5 [i**2 for i in values]"
   ]
  },
  {
   "cell_type": "code",
   "execution_count": null,
   "metadata": {
    "scrolled": true
   },
   "outputs": [],
   "source": [
    "array = np.arange(int(1e6))\n",
    "%timeit -n 5 array**2"
   ]
  },
  {
   "cell_type": "markdown",
   "metadata": {},
   "source": [
    "The example above shows how we can achieve the same result much faster by not only replacing a list with a numpy array, but also by avoiding an explicit loop in Python. What happens under the hood is that numpy performs the calculation not in the Python interpreter, but with much faster compiled code written in C. So numpy lets you use highly optimized code without having to leave Python for C - and trust us, you probably don't want to do that."
   ]
  },
  {
   "cell_type": "markdown",
   "metadata": {},
   "source": [
    "### Selecting Elements\n",
    "\n",
    "Elements in an array can be selected efficiently by their position (or index) in the array. This is possible with single elements, ranges or applying Boolean operations."
   ]
  },
  {
   "cell_type": "code",
   "execution_count": null,
   "metadata": {},
   "outputs": [],
   "source": [
    "# Queries in 1d\n",
    "numbers_1d = np.array([0,1,2,3,4,5])"
   ]
  },
  {
   "cell_type": "code",
   "execution_count": null,
   "metadata": {
    "scrolled": false
   },
   "outputs": [],
   "source": [
    "print(numbers_1d)\n",
    "print(numbers_1d[0])\n",
    "print(numbers_1d[0:3])\n",
    "print(numbers_1d[-3:-1])\n",
    "print(numbers_1d[1:])\n",
    "print(numbers_1d[:3])"
   ]
  },
  {
   "cell_type": "code",
   "execution_count": null,
   "metadata": {},
   "outputs": [],
   "source": [
    "# Using Boolean operations for selection\n",
    "high = numbers_1d > 3\n",
    "print(high)\n",
    "print(numbers_1d[high])\n",
    "print(numbers_1d[numbers_1d > 3])"
   ]
  },
  {
   "cell_type": "code",
   "execution_count": null,
   "metadata": {},
   "outputs": [],
   "source": [
    "# Queries in 2d\n",
    "numbers_2d = np.array([(0,1,2,3,4),(5,6,7,8,9)])"
   ]
  },
  {
   "cell_type": "code",
   "execution_count": null,
   "metadata": {},
   "outputs": [],
   "source": [
    "print(numbers_2d)\n",
    "print(numbers_2d[0])\n",
    "print(numbers_2d[0:])"
   ]
  },
  {
   "cell_type": "code",
   "execution_count": null,
   "metadata": {},
   "outputs": [],
   "source": [
    "print(numbers_2d[1:])\n",
    "print(numbers_2d[1,:])"
   ]
  },
  {
   "cell_type": "code",
   "execution_count": null,
   "metadata": {},
   "outputs": [],
   "source": [
    "print(numbers_2d[:1])\n",
    "print(numbers_2d[:,1])"
   ]
  },
  {
   "cell_type": "code",
   "execution_count": null,
   "metadata": {},
   "outputs": [],
   "source": [
    "# Using Boolean operations for selection\n",
    "print(numbers_2d[numbers_2d>4])"
   ]
  },
  {
   "cell_type": "markdown",
   "metadata": {},
   "source": [
    "### Array Operations\n",
    "\n",
    "This is an example for a 2x2 matrix or (2, 2)-array to show different kinds of multiplication."
   ]
  },
  {
   "cell_type": "code",
   "execution_count": null,
   "metadata": {},
   "outputs": [],
   "source": [
    "# Initialize\n",
    "A = np.array([[1, 1], [0, 1]])\n",
    "B = np.array([[2, 0], [3, 4]])\n",
    "print(A)\n",
    "print(B)"
   ]
  },
  {
   "cell_type": "code",
   "execution_count": null,
   "metadata": {},
   "outputs": [],
   "source": [
    "# element-wise multiplication\n",
    "A * B"
   ]
  },
  {
   "cell_type": "code",
   "execution_count": null,
   "metadata": {},
   "outputs": [],
   "source": [
    "# Matrix product\n",
    "A.dot(B)"
   ]
  },
  {
   "cell_type": "markdown",
   "metadata": {},
   "source": [
    "### Numpy functions\n",
    "\n",
    "The full power of numpy arrays is achieved in combination with numpy functions. Again, they perform operations in compiled code to be very efficient."
   ]
  },
  {
   "cell_type": "code",
   "execution_count": null,
   "metadata": {},
   "outputs": [],
   "source": [
    "C = np.arange(15).reshape(3, 5)\n",
    "print(C)"
   ]
  },
  {
   "cell_type": "code",
   "execution_count": null,
   "metadata": {},
   "outputs": [],
   "source": [
    "# Sum of all elements\n",
    "C.sum(axis=None)"
   ]
  },
  {
   "cell_type": "code",
   "execution_count": null,
   "metadata": {},
   "outputs": [],
   "source": [
    "# Sum per column (axis=0) or line (axis=1)\n",
    "C.sum(axis=0)"
   ]
  },
  {
   "cell_type": "code",
   "execution_count": null,
   "metadata": {},
   "outputs": [],
   "source": [
    "# Minimum (min) or maximum (max) per colum or line\n",
    "C.min(axis=0)"
   ]
  },
  {
   "cell_type": "code",
   "execution_count": null,
   "metadata": {
    "scrolled": true
   },
   "outputs": [],
   "source": [
    "# Cumulative sum\n",
    "C.cumsum()"
   ]
  },
  {
   "cell_type": "markdown",
   "metadata": {},
   "source": [
    "### Performance comparison"
   ]
  },
  {
   "cell_type": "code",
   "execution_count": null,
   "metadata": {},
   "outputs": [],
   "source": [
    "# list comprehension \n",
    "%timeit -n 5 values = [i for i in range(int(1e7))]; sum(values)"
   ]
  },
  {
   "cell_type": "code",
   "execution_count": null,
   "metadata": {},
   "outputs": [],
   "source": [
    "# precompiled function\n",
    "%timeit -n 5 [np.arange(int(1e7)).sum()]"
   ]
  },
  {
   "cell_type": "markdown",
   "metadata": {},
   "source": [
    "### Attention!!!\n",
    "As python uses dynamic typing the following code would overwrite the `sum`-function!\n",
    "```python\n",
    "sum = 0\n",
    "for line in C:\n",
    "    for value in line:\n",
    "        sum+= value\n",
    "```\n",
    "\n",
    "and excuting for example\n",
    "```python\n",
    "sum([1,2,4,8])\n",
    "```\n",
    "afterwards would lead to an error."
   ]
  },
  {
   "cell_type": "markdown",
   "metadata": {},
   "source": [
    "### Random numbers\n",
    "\n",
    "Besides the Python library [**random**](https://docs.python.org/3/library/random.html) there comes a bunch of functionality for creating random numbers of different types of distributions and permutations within numpy ([**numpy.random**](https://docs.scipy.org/doc/numpy/reference/routines.random.html))."
   ]
  },
  {
   "cell_type": "code",
   "execution_count": null,
   "metadata": {},
   "outputs": [],
   "source": [
    "# Random numbers between zero and one\n",
    "np.random.random((5))"
   ]
  },
  {
   "cell_type": "code",
   "execution_count": null,
   "metadata": {
    "scrolled": true
   },
   "outputs": [],
   "source": [
    "# Permutate or directly modify given array\n",
    "values = np.array([0,1,2,3,4,5])\n",
    "print(values)\n",
    "\n",
    "print(np.random.permutation(values))\n",
    "\n",
    "np.random.shuffle(values)\n",
    "print(values)"
   ]
  },
  {
   "cell_type": "code",
   "execution_count": null,
   "metadata": {},
   "outputs": [],
   "source": [
    "# Create numbers (size=1000) of a given distribution (here: normal/gaussian \n",
    "# distribution with mean of loc=5 and a width of scale=1) \n",
    "\n",
    "distribution = np.random.normal(5,1,1000)"
   ]
  },
  {
   "cell_type": "markdown",
   "metadata": {},
   "source": [
    "### Basic statistics with numpy\n",
    "A given (n,m)-array can be statistically analysed using numpy."
   ]
  },
  {
   "cell_type": "code",
   "execution_count": null,
   "metadata": {
    "scrolled": true
   },
   "outputs": [],
   "source": [
    "# gives the shape of the (n,m)-array\n",
    "distribution.shape"
   ]
  },
  {
   "cell_type": "code",
   "execution_count": null,
   "metadata": {},
   "outputs": [],
   "source": [
    "# Mean\n",
    "np.mean(distribution)"
   ]
  },
  {
   "cell_type": "code",
   "execution_count": null,
   "metadata": {},
   "outputs": [],
   "source": [
    "# Standard deviation\n",
    "np.std(distribution)"
   ]
  },
  {
   "cell_type": "code",
   "execution_count": null,
   "metadata": {},
   "outputs": [],
   "source": [
    "# Variance\n",
    "np.var(distribution)"
   ]
  },
  {
   "cell_type": "markdown",
   "metadata": {},
   "source": [
    "When having a multidimensional array the `axis`-parameter can also be used to apply the respective function with respect to a axis."
   ]
  },
  {
   "cell_type": "code",
   "execution_count": null,
   "metadata": {},
   "outputs": [],
   "source": [
    "# Random inegers from zero to seven of a shape of 2x3\n",
    "numbers = np.random.randint(0,7,(2, 3))"
   ]
  },
  {
   "cell_type": "code",
   "execution_count": null,
   "metadata": {
    "scrolled": true
   },
   "outputs": [],
   "source": [
    "print(numbers)"
   ]
  },
  {
   "cell_type": "code",
   "execution_count": null,
   "metadata": {},
   "outputs": [],
   "source": [
    "# Mean\n",
    "np.mean(numbers,axis=0)"
   ]
  },
  {
   "cell_type": "code",
   "execution_count": null,
   "metadata": {},
   "outputs": [],
   "source": [
    "y = np.array([0,2,5,10,20])"
   ]
  }
 ],
 "metadata": {
  "kernelspec": {
   "display_name": "Python 3",
   "language": "python",
   "name": "python3"
  },
  "language_info": {
   "codemirror_mode": {
    "name": "ipython",
    "version": 3
   },
   "file_extension": ".py",
   "mimetype": "text/x-python",
   "name": "python",
   "nbconvert_exporter": "python",
   "pygments_lexer": "ipython3",
   "version": "3.6.4"
  }
 },
 "nbformat": 4,
 "nbformat_minor": 2
}
