{
 "cells": [
  {
   "cell_type": "markdown",
   "metadata": {},
   "source": [
    "# Data Science 101"
   ]
  },
  {
   "cell_type": "markdown",
   "metadata": {},
   "source": [
    "## Introduction to Data Analysis with Python\n",
    "\n",
    "A 1-day course covering the python basics and gives and introduction to the standard tools to handle data within the python ecosystem.\n",
    "\n",
    "- **Acronym**: DAP1\n",
    "- **Level**: Beginner\n",
    "- **Duration**: 1 day\n",
    "- **Index notebook**: [📓 Start course](index/dap1-introduction-data-analysis-1day.ipynb)"
   ]
  },
  {
   "cell_type": "markdown",
   "metadata": {},
   "source": [
    "## Introduction Data Science and Machine Learning (2 days)\n",
    "\n",
    "A 2-day workshop providing you with the basic knowledge and skills needed to get started with data analysis and machine learning using Python. We will dig in the Python programming language, try relevant libraries and discuss relevant strategies. On sample data sets we will deepen our knowledge and build up our own machine learning pipeline.\n",
    "\n",
    "- **Acronym**: DSML2\n",
    "- **Level**: Beginner\n",
    "- **Duration**: 2 days\n",
    "- **Index notebook**: [📓 Start course](index/dsml2-introduction-data-analysis-and-ml-2day.ipynb)"
   ]
  },
  {
   "cell_type": "markdown",
   "metadata": {},
   "source": [
    "## Introduction Data Science and Machine Learning (3 days)\n",
    "\n",
    "A 3-day workshop providing you with the basic knowledge and skills needed to get started with data analysis and machine learning using Python. We will dig in the Python programming language, try relevant libraries and discuss relevant strategies. On sample data sets we will deepen our knowledge and build up our own machine learning pipeline.\n",
    "\n",
    "_This course supplements the 2 day course with basics on unsupervised learning and a performance comparisons of different machine learning algorithms_.\n",
    "\n",
    "- **Acronym**: KIML3\n",
    "- **Level**: Beginner\n",
    "- **Duration**: 3 days\n",
    "- **Index notebook**: [📓 Start course](index/kiml3-introduction-data-analysis-and-ml-3day.ipynb)"
   ]
  },
  {
   "cell_type": "markdown",
   "metadata": {},
   "source": [
    "## (Big) Data Analysis with Python and PySpark\n",
    "\n",
    "This course gets you started with scaling data science methods to large amounts of data by using PySpark to control distributed computing on a cluster.\n",
    "\n",
    "- **Acronym**: BDAPS3\n",
    "- **Level**: Beginner\n",
    "- **Duration**: 3 days\n",
    "- **Index notebook**: [📓 Start course](index/bdaps3-pyspark-big-data-3day.ipynb)"
   ]
  },
  {
   "cell_type": "markdown",
   "metadata": {},
   "source": [
    "## Machine Learning with PySpark\n",
    "\n",
    "We introduce machine learning and equip our toolbox with PySpark's ML library to efficiently train models on large amounts of data.\n",
    "\n",
    "- **Acronym**: MLS2\n",
    "- **Level**: Intermediate\n",
    "- **Duration**: 2 days\n",
    "- **Index notebook**: [📓 Start course](index/mls2-pyspark-machine-learning-2day.ipynb)"
   ]
  },
  {
   "cell_type": "markdown",
   "metadata": {},
   "source": [
    "---\n",
    "_This notebook is licensed under a [Creative Commons Attribution 4.0 International License (CC BY 4.0)](https://creativecommons.org/licenses/by/4.0/). Copyright © 2018 [Point 8 GmbH](https://point-8.de)_"
   ]
  }
 ],
 "metadata": {
  "kernelspec": {
   "display_name": "Python 3",
   "language": "python",
   "name": "python3"
  },
  "language_info": {
   "codemirror_mode": {
    "name": "ipython",
    "version": 3
   },
   "file_extension": ".py",
   "mimetype": "text/x-python",
   "name": "python",
   "nbconvert_exporter": "python",
   "pygments_lexer": "ipython3",
   "version": "3.7.6"
  }
 },
 "nbformat": 4,
 "nbformat_minor": 2
}
