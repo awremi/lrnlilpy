{
 "cells": [
  {
   "cell_type": "markdown",
   "metadata": {},
   "source": [
    "# A Simple Machine Learning Pipeline with Spark"
   ]
  },
  {
   "cell_type": "markdown",
   "metadata": {},
   "source": [
    "In this example we are going to build a simple predictive model using machine learning. We are going to revisit the Titanic passenger list data set, and use it to train a classifier that tries to determine whether a passenger survived the disaster, based on the person's attributes in the passenger list. This is obviously an educational example using small data, but a similar sequence of steps can be applied to solve real-world predictive analytics tasks on large amounts of distributed data. "
   ]
  },
  {
   "cell_type": "markdown",
   "metadata": {},
   "source": [
    "## Preamble"
   ]
  },
  {
   "cell_type": "code",
   "execution_count": 1,
   "metadata": {},
   "outputs": [],
   "source": [
    "%matplotlib inline"
   ]
  },
  {
   "cell_type": "code",
   "execution_count": 2,
   "metadata": {},
   "outputs": [],
   "source": [
    "import findspark\n",
    "findspark.init()\n",
    "import pyspark"
   ]
  },
  {
   "cell_type": "markdown",
   "metadata": {},
   "source": [
    "## Loading the Data"
   ]
  },
  {
   "cell_type": "code",
   "execution_count": 3,
   "metadata": {},
   "outputs": [],
   "source": [
    "data_path = \"../.assets/data/titanic/titanic.csv\""
   ]
  },
  {
   "cell_type": "code",
   "execution_count": 4,
   "metadata": {},
   "outputs": [
    {
     "name": "stdout",
     "output_type": "stream",
     "text": [
      "PassengerId,Survived,Pclass,Name,Sex,Age,SibSp,Parch,Ticket,Fare,Cabin,Embarked\n",
      "1,0,3,\"Braund, Mr. Owen Harris\",male,22,1,0,A/5 21171,7.25,,S\n",
      "2,1,1,\"Cumings, Mrs. John Bradley (Florence Briggs Thayer)\",female,38,1,0,PC 17599,71.2833,C85,C\n",
      "3,1,3,\"Heikkinen, Miss. Laina\",female,26,0,0,STON/O2. 3101282,7.925,,S\n",
      "4,1,1,\"Futrelle, Mrs. Jacques Heath (Lily May Peel)\",female,35,1,0,113803,53.1,C123,S\n",
      "5,0,3,\"Allen, Mr. William Henry\",male,35,0,0,373450,8.05,,S\n",
      "6,0,3,\"Moran, Mr. James\",male,,0,0,330877,8.4583,,Q\n",
      "7,0,1,\"McCarthy, Mr. Timothy J\",male,54,0,0,17463,51.8625,E46,S\n",
      "8,0,3,\"Palsson, Master. Gosta Leonard\",male,2,3,1,349909,21.075,,S\n",
      "9,1,3,\"Johnson, Mrs. Oscar W (Elisabeth Vilhelmina Berg)\",female,27,0,2,347742,11.1333,,S\n"
     ]
    }
   ],
   "source": [
    "!head {data_path}"
   ]
  },
  {
   "cell_type": "markdown",
   "metadata": {},
   "source": [
    "... and always keep the documentation close for reference:"
   ]
  },
  {
   "cell_type": "code",
   "execution_count": 2,
   "metadata": {},
   "outputs": [
    {
     "name": "stdout",
     "output_type": "stream",
     "text": [
      "Data Dictionary\n",
      "\n",
      "Variable\tDefinition\tKey\n",
      "survival \tSurvival \t0 = No, 1 = Yes\n",
      "pclass \t    Ticket class \t1 = 1st, 2 = 2nd, 3 = 3rd\n",
      "sex \t    Sex \t\n",
      "Age \t    Age in years \t\n",
      "sibsp \t    # of siblings / spouses aboard the Titanic \t\n",
      "parch \t    # of parents / children aboard the Titanic \t\n",
      "ticket \t    Ticket number \t\n",
      "fare \t    Passenger fare \t\n",
      "cabin \t    Cabin number \t\n",
      "embarked \tPort of Embarkation \tC = Cherbourg, Q = Queenstown, S = Southampton\n",
      "\n",
      "\n",
      "Variable Notes\n",
      "\n",
      "pclass: A proxy for socio-economic status (SES)\n",
      "1st = Upper\n",
      "2nd = Middle\n",
      "3rd = Lower\n",
      "\n",
      "age: Age is fractional if less than 1. If the age is estimated, is it in the form of xx.5\n",
      "\n",
      "sibsp: The dataset defines family relations in this way...\n",
      "Sibling = brother, sister, stepbrother, stepsister\n",
      "Spouse = husband, wife (mistresses and fiancés were ignored)\n",
      "\n",
      "parch: The dataset defines family relations in this way...\n",
      "Parent = mother, father\n",
      "Child = daughter, son, stepdaughter, stepson\n",
      "Some children travelled only with a nanny, therefore parch=0 for them."
     ]
    }
   ],
   "source": [
    "!cat ../.assets/data/titanic/titanic-documentation.txt"
   ]
  },
  {
   "cell_type": "markdown",
   "metadata": {},
   "source": [
    "\n",
    "\n",
    "After creating a `SparkSession`, we read the contents of the .csv file into a DataFrame. For that we also need to define its schema."
   ]
  },
  {
   "cell_type": "code",
   "execution_count": 5,
   "metadata": {},
   "outputs": [],
   "source": [
    "spark = pyspark.sql.SparkSession \\\n",
    "    .builder \\\n",
    "    .appName(\"TitanicClassifier\") \\\n",
    "    .getOrCreate()\n"
   ]
  },
  {
   "cell_type": "code",
   "execution_count": 6,
   "metadata": {},
   "outputs": [],
   "source": [
    "from pyspark.sql.types import StructType, StructField, DoubleType, IntegerType, StringType\n",
    "\n",
    "schema = StructType([\n",
    "             StructField('PassengerId', StringType()),\n",
    "             StructField('Survived', IntegerType()),\n",
    "             StructField('Pclass', IntegerType()),\n",
    "             StructField('Name', StringType()),\n",
    "             StructField('Sex', StringType()),\n",
    "             StructField('Age', IntegerType()),\n",
    "             StructField('SibSp', IntegerType()),\n",
    "             StructField('Parch', IntegerType()),\n",
    "             StructField('Ticket', StringType()),\n",
    "             StructField('Fare', DoubleType()),\n",
    "             StructField('Cabin', StringType()),\n",
    "             StructField('Embarked', StringType())\n",
    "        ])\n"
   ]
  },
  {
   "cell_type": "code",
   "execution_count": 7,
   "metadata": {},
   "outputs": [],
   "source": [
    "data = spark.read.csv(data_path, header=True, schema=schema)\n"
   ]
  },
  {
   "cell_type": "code",
   "execution_count": 8,
   "metadata": {},
   "outputs": [
    {
     "name": "stdout",
     "output_type": "stream",
     "text": [
      "+-----------+--------+------+--------------------+------+---+-----+-----+----------------+-------+-----+--------+\n",
      "|PassengerId|Survived|Pclass|                Name|   Sex|Age|SibSp|Parch|          Ticket|   Fare|Cabin|Embarked|\n",
      "+-----------+--------+------+--------------------+------+---+-----+-----+----------------+-------+-----+--------+\n",
      "|          1|       0|     3|Braund, Mr. Owen ...|  male| 22|    1|    0|       A/5 21171|   7.25| null|       S|\n",
      "|          2|       1|     1|Cumings, Mrs. Joh...|female| 38|    1|    0|        PC 17599|71.2833|  C85|       C|\n",
      "|          3|       1|     3|Heikkinen, Miss. ...|female| 26|    0|    0|STON/O2. 3101282|  7.925| null|       S|\n",
      "|          4|       1|     1|Futrelle, Mrs. Ja...|female| 35|    1|    0|          113803|   53.1| C123|       S|\n",
      "|          5|       0|     3|Allen, Mr. Willia...|  male| 35|    0|    0|          373450|   8.05| null|       S|\n",
      "+-----------+--------+------+--------------------+------+---+-----+-----+----------------+-------+-----+--------+\n",
      "only showing top 5 rows\n",
      "\n"
     ]
    }
   ],
   "source": [
    "data.show(5)"
   ]
  },
  {
   "cell_type": "markdown",
   "metadata": {},
   "source": [
    "Also take a look at the documentation of the dataset:"
   ]
  },
  {
   "cell_type": "code",
   "execution_count": 9,
   "metadata": {},
   "outputs": [
    {
     "name": "stdout",
     "output_type": "stream",
     "text": [
      "Data Dictionary\n",
      "\n",
      "Variable\tDefinition\tKey\n",
      "survival \tSurvival \t0 = No, 1 = Yes\n",
      "pclass \t    Ticket class \t1 = 1st, 2 = 2nd, 3 = 3rd\n",
      "sex \t    Sex \t\n",
      "Age \t    Age in years \t\n",
      "sibsp \t    # of siblings / spouses aboard the Titanic \t\n",
      "parch \t    # of parents / children aboard the Titanic \t\n",
      "ticket \t    Ticket number \t\n",
      "fare \t    Passenger fare \t\n",
      "cabin \t    Cabin number \t\n",
      "embarked \tPort of Embarkation \tC = Cherbourg, Q = Queenstown, S = Southampton\n",
      "\n",
      "\n",
      "Variable Notes\n",
      "\n",
      "pclass: A proxy for socio-economic status (SES)\n",
      "1st = Upper\n",
      "2nd = Middle\n",
      "3rd = Lower\n",
      "\n",
      "age: Age is fractional if less than 1. If the age is estimated, is it in the form of xx.5\n",
      "\n",
      "sibsp: The dataset defines family relations in this way...\n",
      "Sibling = brother, sister, stepbrother, stepsister\n",
      "Spouse = husband, wife (mistresses and fiancés were ignored)\n",
      "\n",
      "parch: The dataset defines family relations in this way...\n",
      "Parent = mother, father\n",
      "Child = daughter, son, stepdaughter, stepson\n",
      "Some children travelled only with a nanny, therefore parch=0 for them."
     ]
    }
   ],
   "source": [
    "!cat ../.assets/data/titanic/titanic-documentation.txt"
   ]
  },
  {
   "cell_type": "markdown",
   "metadata": {},
   "source": [
    "## Machine Learning Building Blocks"
   ]
  },
  {
   "cell_type": "markdown",
   "metadata": {},
   "source": [
    "A machine learning pipeline is a sequence of processing steps or stages that leads from the raw data to the desired result, e.g. a trained model or a prediction. The [`pyspark.ml` module](https://spark.apache.org/docs/latest/ml-pipeline.html) provides an API to map this concept to code."
   ]
  },
  {
   "cell_type": "code",
   "execution_count": 10,
   "metadata": {},
   "outputs": [],
   "source": [
    "from pyspark.ml import Transformer, Estimator, Pipeline, PipelineModel"
   ]
  },
  {
   "cell_type": "markdown",
   "metadata": {},
   "source": [
    "**Transformer**"
   ]
  },
  {
   "cell_type": "markdown",
   "metadata": {},
   "source": [
    "A `Transformer` implements a method `transform()` which converts one DataFrame into another, generally by appending one or more columns. That could mean extracting features from a dataset, or performing prediction based on the given data."
   ]
  },
  {
   "cell_type": "markdown",
   "metadata": {},
   "source": [
    "**Estimator**"
   ]
  },
  {
   "cell_type": "markdown",
   "metadata": {},
   "source": [
    "An `Estimator` is a learning algorithm, any algorithm that fits or trains on data. An Estimator implements a method `fit()`, which accepts a DataFrame and produces a `Model`, which is also a `Transformer`.\n"
   ]
  },
  {
   "cell_type": "markdown",
   "metadata": {},
   "source": [
    "**Pipeline**"
   ]
  },
  {
   "cell_type": "markdown",
   "metadata": {},
   "source": [
    "A `Pipeline` is a sequence of `PipelineStage`s, which can be `Transformer`s and `Estimator`s. A `Pipeline` also behaves like a `Estimator`, finally outputting a `PipelineModel`. What happens when you call the `fit` method of a transformer is the following: For `Estimator` stages, their `fit()` method is called to produce a `Transformer` (which becomes part of the `PipelineModel`), and that Transformer’s `transform()` method is called on the DataFrame."
   ]
  },
  {
   "cell_type": "markdown",
   "metadata": {},
   "source": [
    "## Data Preprocesssing"
   ]
  },
  {
   "cell_type": "markdown",
   "metadata": {},
   "source": [
    "We want to train a classifier that predicts the target variable `Survived` - whether the passenger survived the Titanic disaster - depending on the input columns `Age`, `Fare`, `Sex` and `Embarked`. `Age` and `Fare`  contain numeric values, `Sex` and `Embarked` contain categorical values in the form of strings."
   ]
  },
  {
   "cell_type": "code",
   "execution_count": 11,
   "metadata": {},
   "outputs": [],
   "source": [
    "# select the columns used in this example\n",
    "data = data[[\"PassengerId\", \"Survived\", \"Age\", \"Fare\", \"Sex\", \"Embarked\"]]"
   ]
  },
  {
   "cell_type": "markdown",
   "metadata": {},
   "source": [
    "We note that there are a few missing values some of the columns:"
   ]
  },
  {
   "cell_type": "code",
   "execution_count": 12,
   "metadata": {},
   "outputs": [
    {
     "name": "stdout",
     "output_type": "stream",
     "text": [
      "PassengerId  :  0\n",
      "Survived  :  0\n",
      "Age  :  202\n",
      "Fare  :  0\n",
      "Sex  :  0\n",
      "Embarked  :  2\n"
     ]
    }
   ],
   "source": [
    "for col in data.columns:\n",
    "    print(col, \" : \", data.filter(f\"{col} is NULL\").count())"
   ]
  },
  {
   "cell_type": "markdown",
   "metadata": {},
   "source": [
    " There are several strategies to deal with missing values in machine learning, including replacement with dummy values, but for simplicity, we simply want to ignore a row with missing values. There are multiple ways of dropping these rows from the DataFrame. We would like to do this as a stage in a `Pipeline`, which gives us the chance to learn about how to write our own custom `Transformer`s."
   ]
  },
  {
   "cell_type": "markdown",
   "metadata": {},
   "source": [
    "### Writing Custom Transformers for Data Cleanup"
   ]
  },
  {
   "cell_type": "markdown",
   "metadata": {},
   "source": [
    "To drop rows with missing values as part of a pipeline, we write a custom transformer that performs this step. We need to subclass the `Transformer` class, and also implement a few expected attributes. (For this simple example, we don't need them to function, they just need to be there, so we set them to constant dummy values.)"
   ]
  },
  {
   "cell_type": "code",
   "execution_count": 13,
   "metadata": {},
   "outputs": [],
   "source": [
    "class NaDropper(Transformer):\n",
    "    \"\"\"\n",
    "    Drops rows with at least one not-a-number element\n",
    "    \"\"\"\n",
    "    \n",
    "    # lazy workaround - a transformer needs to have these attributes\n",
    "    # TODO: replace if needed\n",
    "    _defaultParamMap = dict()\n",
    "    _paramMap = dict()\n",
    "    _params = dict()\n",
    "    uid = 0\n",
    "\n",
    "    def __init__(self, cols=None):\n",
    "        self.cols = cols\n",
    "\n",
    "\n",
    "    def _transform(self, data):\n",
    "        dataAfterDrop = data.dropna(subset=self.cols) \n",
    "        return dataAfterDrop\n",
    "    \n",
    "    def __repr__(self):\n",
    "        \"\"\" Show a proper string representation when printing the pipeline stage\"\"\"\n",
    "        return str(type(self))\n"
   ]
  },
  {
   "cell_type": "markdown",
   "metadata": {},
   "source": [
    "We test our transformer by using it as a stage in a pipeline, which we first `fit` to the data and then use it to`transform` the data."
   ]
  },
  {
   "cell_type": "code",
   "execution_count": 14,
   "metadata": {},
   "outputs": [],
   "source": [
    "prepro_pipeline = Pipeline(stages=[NaDropper(cols=data.columns)])"
   ]
  },
  {
   "cell_type": "code",
   "execution_count": 15,
   "metadata": {},
   "outputs": [],
   "source": [
    "data_clean = prepro_pipeline.fit(data).transform(data)"
   ]
  },
  {
   "cell_type": "code",
   "execution_count": 16,
   "metadata": {},
   "outputs": [
    {
     "name": "stdout",
     "output_type": "stream",
     "text": [
      "PassengerId  :  0\n",
      "Survived  :  0\n",
      "Age  :  0\n",
      "Fare  :  0\n",
      "Sex  :  0\n",
      "Embarked  :  0\n"
     ]
    }
   ],
   "source": [
    "for col in data_clean.columns:\n",
    "    print(col, \" : \", data_clean.filter(f\"{col} is NULL\").count())"
   ]
  },
  {
   "cell_type": "markdown",
   "metadata": {},
   "source": [
    "**Exercise: Using SQLTransformer**"
   ]
  },
  {
   "cell_type": "markdown",
   "metadata": {},
   "source": [
    "As so often, there is more than one way to perform a task such as dropping missing values. The `SQLTransformer` executes arbitrary SQL statements on the DataFrame. Try applying it."
   ]
  },
  {
   "cell_type": "code",
   "execution_count": 17,
   "metadata": {},
   "outputs": [],
   "source": [
    "from pyspark.ml.feature import SQLTransformer\n",
    "# Your turn: Use SQLTransformer to drop rows with missing values \n",
    "\n"
   ]
  },
  {
   "cell_type": "markdown",
   "metadata": {},
   "source": [
    "### Encoding Categorial Attributes"
   ]
  },
  {
   "cell_type": "markdown",
   "metadata": {},
   "source": [
    "Categorial attributes in the form of strings, such as `Embarked`, need to be encoded numerically before being readable by the machine learning algorithm. Among different strategies available for this task, one of the simplest is assigning a numeric index to each categorial value. This is what the `StringIndexer` estimator does."
   ]
  },
  {
   "cell_type": "code",
   "execution_count": 18,
   "metadata": {},
   "outputs": [],
   "source": [
    "from pyspark.ml.feature import StringIndexer"
   ]
  },
  {
   "cell_type": "code",
   "execution_count": 19,
   "metadata": {},
   "outputs": [],
   "source": [
    "enc_stages = []\n",
    "enc_stages.append(StringIndexer(inputCol=\"Embarked\", outputCol=\"Embarked_encoded\"))\n",
    "enc_stages.append(StringIndexer(inputCol=\"Sex\", outputCol=\"Sex_encoded\"))"
   ]
  },
  {
   "cell_type": "code",
   "execution_count": 20,
   "metadata": {},
   "outputs": [],
   "source": [
    "data_encoded = Pipeline(stages=enc_stages).fit(data_clean).transform(data_clean)"
   ]
  },
  {
   "cell_type": "code",
   "execution_count": 21,
   "metadata": {},
   "outputs": [
    {
     "name": "stdout",
     "output_type": "stream",
     "text": [
      "+-----------+--------+---+-------+------+--------+----------------+-----------+\n",
      "|PassengerId|Survived|Age|   Fare|   Sex|Embarked|Embarked_encoded|Sex_encoded|\n",
      "+-----------+--------+---+-------+------+--------+----------------+-----------+\n",
      "|          1|       0| 22|   7.25|  male|       S|             0.0|        0.0|\n",
      "|          2|       1| 38|71.2833|female|       C|             1.0|        1.0|\n",
      "|          3|       1| 26|  7.925|female|       S|             0.0|        1.0|\n",
      "|          4|       1| 35|   53.1|female|       S|             0.0|        1.0|\n",
      "|          5|       0| 35|   8.05|  male|       S|             0.0|        0.0|\n",
      "|          7|       0| 54|51.8625|  male|       S|             0.0|        0.0|\n",
      "|          8|       0|  2| 21.075|  male|       S|             0.0|        0.0|\n",
      "|          9|       1| 27|11.1333|female|       S|             0.0|        1.0|\n",
      "|         10|       1| 14|30.0708|female|       C|             1.0|        1.0|\n",
      "|         11|       1|  4|   16.7|female|       S|             0.0|        1.0|\n",
      "|         12|       1| 58|  26.55|female|       S|             0.0|        1.0|\n",
      "|         13|       0| 20|   8.05|  male|       S|             0.0|        0.0|\n",
      "|         14|       0| 39| 31.275|  male|       S|             0.0|        0.0|\n",
      "|         15|       0| 14| 7.8542|female|       S|             0.0|        1.0|\n",
      "|         16|       1| 55|   16.0|female|       S|             0.0|        1.0|\n",
      "|         17|       0|  2| 29.125|  male|       Q|             2.0|        0.0|\n",
      "|         19|       0| 31|   18.0|female|       S|             0.0|        1.0|\n",
      "|         21|       0| 35|   26.0|  male|       S|             0.0|        0.0|\n",
      "|         22|       1| 34|   13.0|  male|       S|             0.0|        0.0|\n",
      "|         23|       1| 15| 8.0292|female|       Q|             2.0|        1.0|\n",
      "+-----------+--------+---+-------+------+--------+----------------+-----------+\n",
      "only showing top 20 rows\n",
      "\n"
     ]
    }
   ],
   "source": [
    "data_encoded.show()"
   ]
  },
  {
   "cell_type": "markdown",
   "metadata": {},
   "source": [
    "## Training the Classifier"
   ]
  },
  {
   "cell_type": "markdown",
   "metadata": {},
   "source": [
    "We can now go on to the training phase in which a machine learning algorithm ingests the training data to build a predictive model - here, a classifier that predicts yes or no for survival.\n",
    "\n",
    "Many types of classification algorithms exist, each with their own strengths and weaknesses whose discussion goes beyond the scope of this examples. A simple choice is building a single **decision tree**: "
   ]
  },
  {
   "cell_type": "code",
   "execution_count": 22,
   "metadata": {},
   "outputs": [],
   "source": [
    "from pyspark.ml.classification import DecisionTreeClassifier"
   ]
  },
  {
   "cell_type": "markdown",
   "metadata": {},
   "source": [
    "A classifier expects the target column to be named `label`, so we are going to rename `Survived` accordingly:"
   ]
  },
  {
   "cell_type": "code",
   "execution_count": 23,
   "metadata": {},
   "outputs": [],
   "source": [
    "data_encoded = data_encoded.withColumnRenamed(\"Survived\", \"label\")"
   ]
  },
  {
   "cell_type": "markdown",
   "metadata": {},
   "source": [
    "In order to evaluate classifier performance in a reliable way, we need to split our available data into a training and a test set. The latter is put aside and will be used for evaluation after training."
   ]
  },
  {
   "cell_type": "code",
   "execution_count": 24,
   "metadata": {},
   "outputs": [
    {
     "name": "stdout",
     "output_type": "stream",
     "text": [
      "+-----------+-----+---+-------+------+--------+----------------+-----------+\n",
      "|PassengerId|label|Age|   Fare|   Sex|Embarked|Embarked_encoded|Sex_encoded|\n",
      "+-----------+-----+---+-------+------+--------+----------------+-----------+\n",
      "|          1|    0| 22|   7.25|  male|       S|             0.0|        0.0|\n",
      "|          2|    1| 38|71.2833|female|       C|             1.0|        1.0|\n",
      "|          3|    1| 26|  7.925|female|       S|             0.0|        1.0|\n",
      "|          4|    1| 35|   53.1|female|       S|             0.0|        1.0|\n",
      "|          5|    0| 35|   8.05|  male|       S|             0.0|        0.0|\n",
      "|          7|    0| 54|51.8625|  male|       S|             0.0|        0.0|\n",
      "|          8|    0|  2| 21.075|  male|       S|             0.0|        0.0|\n",
      "|          9|    1| 27|11.1333|female|       S|             0.0|        1.0|\n",
      "|         10|    1| 14|30.0708|female|       C|             1.0|        1.0|\n",
      "|         11|    1|  4|   16.7|female|       S|             0.0|        1.0|\n",
      "|         12|    1| 58|  26.55|female|       S|             0.0|        1.0|\n",
      "|         13|    0| 20|   8.05|  male|       S|             0.0|        0.0|\n",
      "|         14|    0| 39| 31.275|  male|       S|             0.0|        0.0|\n",
      "|         15|    0| 14| 7.8542|female|       S|             0.0|        1.0|\n",
      "|         16|    1| 55|   16.0|female|       S|             0.0|        1.0|\n",
      "|         17|    0|  2| 29.125|  male|       Q|             2.0|        0.0|\n",
      "|         19|    0| 31|   18.0|female|       S|             0.0|        1.0|\n",
      "|         21|    0| 35|   26.0|  male|       S|             0.0|        0.0|\n",
      "|         22|    1| 34|   13.0|  male|       S|             0.0|        0.0|\n",
      "|         23|    1| 15| 8.0292|female|       Q|             2.0|        1.0|\n",
      "+-----------+-----+---+-------+------+--------+----------------+-----------+\n",
      "only showing top 20 rows\n",
      "\n"
     ]
    }
   ],
   "source": [
    "data_encoded.show()"
   ]
  },
  {
   "cell_type": "code",
   "execution_count": 25,
   "metadata": {},
   "outputs": [],
   "source": [
    "splitRatio = 0.8\n",
    "data_training, data_test = data_encoded.randomSplit([splitRatio, 1-splitRatio])"
   ]
  },
  {
   "cell_type": "code",
   "execution_count": 26,
   "metadata": {},
   "outputs": [
    {
     "name": "stdout",
     "output_type": "stream",
     "text": [
      "+-----------+-----+---+--------+------+--------+----------------+-----------+\n",
      "|PassengerId|label|Age|    Fare|   Sex|Embarked|Embarked_encoded|Sex_encoded|\n",
      "+-----------+-----+---+--------+------+--------+----------------+-----------+\n",
      "|          1|    0| 22|    7.25|  male|       S|             0.0|        0.0|\n",
      "|        100|    0| 34|    26.0|  male|       S|             0.0|        0.0|\n",
      "|        101|    0| 28|  7.8958|female|       S|             0.0|        1.0|\n",
      "|        103|    0| 21| 77.2875|  male|       S|             0.0|        0.0|\n",
      "|        104|    0| 33|  8.6542|  male|       S|             0.0|        0.0|\n",
      "|        105|    0| 37|   7.925|  male|       S|             0.0|        0.0|\n",
      "|        107|    1| 21|    7.65|female|       S|             0.0|        1.0|\n",
      "|        109|    0| 38|  7.8958|  male|       S|             0.0|        0.0|\n",
      "|         11|    1|  4|    16.7|female|       S|             0.0|        1.0|\n",
      "|        111|    0| 47|    52.0|  male|       S|             0.0|        0.0|\n",
      "|        113|    0| 22|    8.05|  male|       S|             0.0|        0.0|\n",
      "|        114|    0| 20|   9.825|female|       S|             0.0|        1.0|\n",
      "|        116|    0| 21|   7.925|  male|       S|             0.0|        0.0|\n",
      "|        118|    0| 29|    21.0|  male|       S|             0.0|        0.0|\n",
      "|        119|    0| 24|247.5208|  male|       C|             1.0|        0.0|\n",
      "|         12|    1| 58|   26.55|female|       S|             0.0|        1.0|\n",
      "|        120|    0|  2|  31.275|female|       S|             0.0|        1.0|\n",
      "|        126|    1| 12| 11.2417|  male|       C|             1.0|        0.0|\n",
      "|        128|    1| 24|  7.1417|  male|       S|             0.0|        0.0|\n",
      "|         13|    0| 20|    8.05|  male|       S|             0.0|        0.0|\n",
      "+-----------+-----+---+--------+------+--------+----------------+-----------+\n",
      "only showing top 20 rows\n",
      "\n"
     ]
    }
   ],
   "source": [
    "data_training.show()"
   ]
  },
  {
   "cell_type": "code",
   "execution_count": 27,
   "metadata": {},
   "outputs": [
    {
     "name": "stdout",
     "output_type": "stream",
     "text": [
      "+-----------+-----+---+--------+------+--------+----------------+-----------+\n",
      "|PassengerId|label|Age|    Fare|   Sex|Embarked|Embarked_encoded|Sex_encoded|\n",
      "+-----------+-----+---+--------+------+--------+----------------+-----------+\n",
      "|         10|    1| 14| 30.0708|female|       C|             1.0|        1.0|\n",
      "|        106|    0| 28|  7.8958|  male|       S|             0.0|        0.0|\n",
      "|        115|    0| 17| 14.4583|female|       C|             1.0|        1.0|\n",
      "|        121|    0| 21|    73.5|  male|       S|             0.0|        0.0|\n",
      "|        125|    0| 54| 77.2875|  male|       S|             0.0|        0.0|\n",
      "|        132|    0| 20|    7.05|  male|       S|             0.0|        0.0|\n",
      "|        140|    0| 24|    79.2|  male|       C|             1.0|        0.0|\n",
      "|        152|    1| 22|    66.6|female|       S|             0.0|        1.0|\n",
      "|        171|    0| 61|    33.5|  male|       S|             0.0|        0.0|\n",
      "|        176|    0| 18|  7.8542|  male|       S|             0.0|        0.0|\n",
      "|        178|    0| 50| 28.7125|female|       C|             1.0|        1.0|\n",
      "|        179|    0| 30|    13.0|  male|       S|             0.0|        0.0|\n",
      "|        185|    1|  4|  22.025|female|       S|             0.0|        1.0|\n",
      "|        188|    1| 45|   26.55|  male|       S|             0.0|        0.0|\n",
      "|         19|    0| 31|    18.0|female|       S|             0.0|        1.0|\n",
      "|        194|    1|  3|    26.0|  male|       S|             0.0|        0.0|\n",
      "|        196|    1| 58|146.5208|female|       C|             1.0|        1.0|\n",
      "|        203|    0| 34|  6.4958|  male|       S|             0.0|        0.0|\n",
      "|        212|    1| 35|    21.0|female|       S|             0.0|        1.0|\n",
      "|        216|    1| 31| 113.275|female|       C|             1.0|        1.0|\n",
      "+-----------+-----+---+--------+------+--------+----------------+-----------+\n",
      "only showing top 20 rows\n",
      "\n"
     ]
    }
   ],
   "source": [
    "data_test.show()"
   ]
  },
  {
   "cell_type": "markdown",
   "metadata": {},
   "source": [
    "**Assembling Features & Training**\n",
    "\n",
    "In `pyspark.ml`, the learning algorithm expects all features to train on to be placed in a single column of **feature vectors**:"
   ]
  },
  {
   "cell_type": "code",
   "execution_count": 28,
   "metadata": {},
   "outputs": [],
   "source": [
    "from pyspark.ml.feature import VectorAssembler"
   ]
  },
  {
   "cell_type": "code",
   "execution_count": 29,
   "metadata": {},
   "outputs": [],
   "source": [
    "assemble_features = VectorAssembler(inputCols=[\"Age\", \"Fare\", \"Sex_encoded\", \"Embarked_encoded\"], \n",
    "                                    outputCol=\"features\")"
   ]
  },
  {
   "cell_type": "markdown",
   "metadata": {},
   "source": [
    "The last stage of the training is the ML algorithm itself. After this, we can trigger the training by calling `fit`."
   ]
  },
  {
   "cell_type": "code",
   "execution_count": 30,
   "metadata": {},
   "outputs": [],
   "source": [
    "classifier = DecisionTreeClassifier()"
   ]
  },
  {
   "cell_type": "code",
   "execution_count": 31,
   "metadata": {},
   "outputs": [],
   "source": [
    "training_stages = [assemble_features, classifier]"
   ]
  },
  {
   "cell_type": "code",
   "execution_count": 32,
   "metadata": {},
   "outputs": [],
   "source": [
    "model = Pipeline(stages=training_stages).fit(data_training)"
   ]
  },
  {
   "cell_type": "markdown",
   "metadata": {},
   "source": [
    "This yields a fitted model. In order to perform classification, we call the `transform` method of the model:"
   ]
  },
  {
   "cell_type": "code",
   "execution_count": 33,
   "metadata": {},
   "outputs": [],
   "source": [
    "predictions = model.transform(data_test)"
   ]
  },
  {
   "cell_type": "code",
   "execution_count": 34,
   "metadata": {},
   "outputs": [
    {
     "data": {
      "text/plain": [
       "DataFrame[PassengerId: string, label: int, Age: int, Fare: double, Sex: string, Embarked: string, Embarked_encoded: double, Sex_encoded: double, features: vector, rawPrediction: vector, probability: vector, prediction: double]"
      ]
     },
     "execution_count": 34,
     "metadata": {},
     "output_type": "execute_result"
    }
   ],
   "source": [
    "predictions"
   ]
  },
  {
   "cell_type": "markdown",
   "metadata": {},
   "source": [
    "The transformation has added three new columns to the DataFrame:\n",
    "\n",
    "- prediction: the predicted label\n",
    "- rawPrediction: the direct output of the classification algorithm - interpretaion may vary among algorithms\n",
    "- probability: the probability of each label"
   ]
  },
  {
   "cell_type": "code",
   "execution_count": 35,
   "metadata": {},
   "outputs": [
    {
     "name": "stdout",
     "output_type": "stream",
     "text": [
      "+-----------+----------+--------------------+-------------+\n",
      "|PassengerId|prediction|         probability|rawPrediction|\n",
      "+-----------+----------+--------------------+-------------+\n",
      "|         10|       1.0|           [0.0,1.0]|    [0.0,3.0]|\n",
      "|        106|       0.0|[0.88085106382978...| [207.0,28.0]|\n",
      "|        115|       1.0|[0.27659574468085...|  [26.0,68.0]|\n",
      "|        121|       0.0|[0.74193548387096...|   [23.0,8.0]|\n",
      "|        125|       0.0|[0.52941176470588...|  [27.0,24.0]|\n",
      "|        132|       0.0|[0.88085106382978...| [207.0,28.0]|\n",
      "|        140|       0.0|[0.74193548387096...|   [23.0,8.0]|\n",
      "|        152|       1.0|           [0.0,1.0]|   [0.0,17.0]|\n",
      "|        171|       0.0|[0.82352941176470...|   [14.0,3.0]|\n",
      "|        176|       0.0|[0.88085106382978...| [207.0,28.0]|\n",
      "|        178|       1.0|[0.27659574468085...|  [26.0,68.0]|\n",
      "|        179|       0.0|[0.88085106382978...| [207.0,28.0]|\n",
      "|        185|       1.0|[0.27659574468085...|  [26.0,68.0]|\n",
      "|        188|       0.0|[0.52941176470588...|  [27.0,24.0]|\n",
      "|         19|       1.0|[0.27659574468085...|  [26.0,68.0]|\n",
      "|        194|       1.0|         [0.25,0.75]|    [1.0,3.0]|\n",
      "|        196|       1.0|           [0.0,1.0]|   [0.0,35.0]|\n",
      "|        203|       0.0|[0.88085106382978...| [207.0,28.0]|\n",
      "|        212|       1.0|[0.27659574468085...|  [26.0,68.0]|\n",
      "|        216|       1.0|           [0.0,1.0]|   [0.0,35.0]|\n",
      "+-----------+----------+--------------------+-------------+\n",
      "only showing top 20 rows\n",
      "\n"
     ]
    }
   ],
   "source": [
    "predictions[[\"PassengerId\", \"prediction\", \"probability\", \"rawPrediction\"]].show()"
   ]
  },
  {
   "cell_type": "markdown",
   "metadata": {},
   "source": [
    "## Evaluation"
   ]
  },
  {
   "cell_type": "markdown",
   "metadata": {},
   "source": [
    "`mllib.MulticlassMetrics` implements a number of standard metrics to evaluate the performance of a classifier."
   ]
  },
  {
   "cell_type": "code",
   "execution_count": 36,
   "metadata": {},
   "outputs": [],
   "source": [
    "import pandas\n",
    "from pyspark.mllib.evaluation import MulticlassMetrics"
   ]
  },
  {
   "cell_type": "code",
   "execution_count": 37,
   "metadata": {},
   "outputs": [],
   "source": [
    "# MulticlassMetrics expects label to be of type double\n",
    "predictions = (predictions.withColumn(\"label\", predictions[\"label\"].cast(\"double\")))\n",
    "\n",
    "mm = MulticlassMetrics(predictions.select([\"label\", \"prediction\"]).rdd)\n",
    "labels = sorted(predictions.select(\"prediction\").rdd.distinct().map(lambda r: r[0]).collect())\n",
    "\n",
    "metrics = pandas.DataFrame([(label, mm.precision(label=label), mm.recall(label=label), mm.fMeasure(label=label)) for label in labels],\n",
    "                        columns=[\"label\", \"Precision\", \"Recall\", \"F1\"])"
   ]
  },
  {
   "cell_type": "code",
   "execution_count": 38,
   "metadata": {},
   "outputs": [
    {
     "data": {
      "text/html": [
       "<div>\n",
       "<style scoped>\n",
       "    .dataframe tbody tr th:only-of-type {\n",
       "        vertical-align: middle;\n",
       "    }\n",
       "\n",
       "    .dataframe tbody tr th {\n",
       "        vertical-align: top;\n",
       "    }\n",
       "\n",
       "    .dataframe thead th {\n",
       "        text-align: right;\n",
       "    }\n",
       "</style>\n",
       "<table border=\"1\" class=\"dataframe\">\n",
       "  <thead>\n",
       "    <tr style=\"text-align: right;\">\n",
       "      <th></th>\n",
       "      <th>label</th>\n",
       "      <th>Precision</th>\n",
       "      <th>Recall</th>\n",
       "      <th>F1</th>\n",
       "    </tr>\n",
       "  </thead>\n",
       "  <tbody>\n",
       "    <tr>\n",
       "      <th>0</th>\n",
       "      <td>0.0</td>\n",
       "      <td>0.925000</td>\n",
       "      <td>0.840909</td>\n",
       "      <td>0.880952</td>\n",
       "    </tr>\n",
       "    <tr>\n",
       "      <th>1</th>\n",
       "      <td>1.0</td>\n",
       "      <td>0.754386</td>\n",
       "      <td>0.877551</td>\n",
       "      <td>0.811321</td>\n",
       "    </tr>\n",
       "  </tbody>\n",
       "</table>\n",
       "</div>"
      ],
      "text/plain": [
       "   label  Precision    Recall        F1\n",
       "0    0.0   0.925000  0.840909  0.880952\n",
       "1    1.0   0.754386  0.877551  0.811321"
      ]
     },
     "execution_count": 38,
     "metadata": {},
     "output_type": "execute_result"
    }
   ],
   "source": [
    "metrics"
   ]
  },
  {
   "cell_type": "markdown",
   "metadata": {},
   "source": [
    "## Exercise: Assembling the Full Pipeline"
   ]
  },
  {
   "cell_type": "markdown",
   "metadata": {},
   "source": [
    "Let's revisit the model training workflow and implement it as a single `Pipeline` that starts from the raw data and outputs a trained model."
   ]
  },
  {
   "cell_type": "code",
   "execution_count": 39,
   "metadata": {},
   "outputs": [],
   "source": [
    "data_raw = spark.read.csv(data_path, header=True, schema=schema)\n",
    "stages = []\n",
    "# Your turn - implement the model training as a single Pipeline\n",
    "\n",
    "\n"
   ]
  },
  {
   "cell_type": "markdown",
   "metadata": {},
   "source": [
    "---\n",
    "_This notebook is licensed under a [Creative Commons Attribution 4.0 International License (CC BY 4.0)](https://creativecommons.org/licenses/by/4.0/). Copyright © 2018 [Point 8 GmbH](https://point-8.de)_"
   ]
  }
 ],
 "metadata": {
  "kernelspec": {
   "display_name": "Python 3",
   "language": "python",
   "name": "python3"
  },
  "language_info": {
   "codemirror_mode": {
    "name": "ipython",
    "version": 3
   },
   "file_extension": ".py",
   "mimetype": "text/x-python",
   "name": "python",
   "nbconvert_exporter": "python",
   "pygments_lexer": "ipython3",
   "version": "3.6.7"
  }
 },
 "nbformat": 4,
 "nbformat_minor": 2
}
