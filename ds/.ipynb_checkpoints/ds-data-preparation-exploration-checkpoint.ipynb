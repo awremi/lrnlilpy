{
 "cells": [
  {
   "cell_type": "markdown",
   "metadata": {},
   "source": [
    "# Klassifizierung von Murmeln\n",
    "\n",
    "Das Schöne an Spielzeug ist, man kann bedenkenlos darüber reden ohne gleich Geheimnisse zu verraten. Deshalb beziehen sich die folgenden Beispiele auf einen Datensatz von farbigen Glaskugeln. Die Daten bestehen aus Lichtintensitätsmessungen für rotes (**R**), grünes (**G**) und blaues (**B**) Licht bei einer Abtastrate von ca. 20 Millisekunden. Während der Messungen wurden die Kugeln in Rotation versetzt, so dass auch mehrfarbige Kugeln sinnvolle Daten liefern.\n",
    "\n",
    "Die Daten entstammen einer kleinen Maschine, deren Aufgabe es ist die Kugeln zu einem Sensor zu transportieren, Messdaten zu nehmen und anhand der ausgewerteten Daten die Kugeln zu sortieren. Für jeden Kugeltyp sind 100.000 RGB-Datenpunkte aufgenommen worden.\n",
    "\n",
    "Wir wollen uns nun mit verschiedenen Aspekten an diesem Beispiel im Detail beschäftigen:\n",
    "* Trennung von zwei oder mehr verschiedenen Klassen\n",
    "* Schwierigkeiten, die sich aus echten Messungen ergeben\n",
    "* Die Bedeutung von guten Features (Feature Engineering)\n"
   ]
  },
  {
   "cell_type": "code",
   "execution_count": 1,
   "metadata": {},
   "outputs": [
    {
     "ename": "ModuleNotFoundError",
     "evalue": "No module named 'kiml'",
     "output_type": "error",
     "traceback": [
      "\u001b[0;31m---------------------------------------------------------------------------\u001b[0m",
      "\u001b[0;31mModuleNotFoundError\u001b[0m                       Traceback (most recent call last)",
      "\u001b[0;32m<ipython-input-1-a580a2e92d55>\u001b[0m in \u001b[0;36m<module>\u001b[0;34m()\u001b[0m\n\u001b[1;32m      6\u001b[0m \u001b[0;32mfrom\u001b[0m \u001b[0mIPython\u001b[0m\u001b[0;34m.\u001b[0m\u001b[0mdisplay\u001b[0m \u001b[0;32mimport\u001b[0m \u001b[0mdisplay\u001b[0m\u001b[0;34m,\u001b[0m \u001b[0mclear_output\u001b[0m\u001b[0;34m,\u001b[0m \u001b[0mImage\u001b[0m\u001b[0;34m\u001b[0m\u001b[0m\n\u001b[1;32m      7\u001b[0m \u001b[0;34m\u001b[0m\u001b[0m\n\u001b[0;32m----> 8\u001b[0;31m \u001b[0;32mfrom\u001b[0m \u001b[0mkiml\u001b[0m\u001b[0;34m.\u001b[0m\u001b[0mdata\u001b[0m \u001b[0;32mimport\u001b[0m \u001b[0mdata_path\u001b[0m\u001b[0;34m\u001b[0m\u001b[0m\n\u001b[0m\u001b[1;32m      9\u001b[0m \u001b[0;34m\u001b[0m\u001b[0m\n\u001b[1;32m     10\u001b[0m \u001b[0mget_ipython\u001b[0m\u001b[0;34m(\u001b[0m\u001b[0;34m)\u001b[0m\u001b[0;34m.\u001b[0m\u001b[0mrun_line_magic\u001b[0m\u001b[0;34m(\u001b[0m\u001b[0;34m'matplotlib'\u001b[0m\u001b[0;34m,\u001b[0m \u001b[0;34m'inline'\u001b[0m\u001b[0;34m)\u001b[0m\u001b[0;34m\u001b[0m\u001b[0m\n",
      "\u001b[0;31mModuleNotFoundError\u001b[0m: No module named 'kiml'"
     ]
    }
   ],
   "source": [
    "import os\n",
    "import matplotlib.pyplot as plt\n",
    "import numpy as np\n",
    "import pandas as pd\n",
    "\n",
    "from IPython.display import display, clear_output, Image\n",
    "\n",
    "from kiml.data import data_path\n",
    "\n",
    "%matplotlib inline"
   ]
  },
  {
   "cell_type": "markdown",
   "metadata": {},
   "source": [
    "### Hilfsfunktion\n",
    "\n",
    "Diese Funktion erleichtert den Umgang mit den Rohdaten, die wir als nächstes direkt einlesen."
   ]
  },
  {
   "cell_type": "code",
   "execution_count": null,
   "metadata": {},
   "outputs": [],
   "source": [
    "def parse_lines(lines):\n",
    "    \"\"\" Parse string resulting from an ms_reco test case\n",
    "    \"\"\"\n",
    "    lines = lines[0][2:-2]\n",
    "    rows = [d.split(', ') for d in lines.split('), (')]\n",
    "    data = [[int(v.replace(')][(', '')) for v in r] for r in rows]\n",
    "    df = pd.DataFrame(data)[[0, 1, 2]]\n",
    "    return df"
   ]
  },
  {
   "cell_type": "markdown",
   "metadata": {},
   "source": [
    "## Einlesen der Daten\n",
    "\n",
    "Die Daten liegen in einem besonderen Format vor. Dieser Codeblock wandelt die Daten in **`pandas.DataFrame`** Objekte um."
   ]
  },
  {
   "cell_type": "code",
   "execution_count": null,
   "metadata": {},
   "outputs": [],
   "source": [
    "data = []\n",
    "\n",
    "files = [\n",
    "    'blue-white-glass.data',\n",
    "    'cyan-glass.data',\n",
    "    'glass-blue.data',\n",
    "    'glass-green.data',\n",
    "    'glass-red.data',\n",
    "    'glass-yellow.data',\n",
    "    'planet-black-blue.data',\n",
    "    'planet-green.data',\n",
    "    'planet-ocean.data',\n",
    "]\n",
    "\n",
    "dfs = []\n",
    "\n",
    "for i, f in enumerate(files):\n",
    "    print(f'Lade Datei {i}: {f}')\n",
    "    with open(os.path.join(data_path(), f'marbles/{f}'), 'r') as infile:\n",
    "        content = infile.readlines()\n",
    "        dfs.append(parse_lines(content))"
   ]
  },
  {
   "cell_type": "markdown",
   "metadata": {},
   "source": [
    "## Vorbereitung und Exploration der Daten\n",
    "Jetzt sind Sie gefragt. Wir müssen nun die Daten vorbereiten und besser kennenlernen."
   ]
  },
  {
   "cell_type": "markdown",
   "metadata": {},
   "source": [
    "### Setzen der Spaltennamen\n",
    "Akutell sind die Namen der Spalten noch nicht zugewiesen. Die Reihenfolge ist **`R`**, **`G`**, **`B`**. Aber aufgepasst: **`dfs`** ist eine Liste von **`Dataframes`**."
   ]
  },
  {
   "cell_type": "code",
   "execution_count": null,
   "metadata": {},
   "outputs": [],
   "source": [
    "for df in dfs:\n",
    "    df.columns=['R','G','B']"
   ]
  },
  {
   "cell_type": "markdown",
   "metadata": {},
   "source": [
    "### Definition eines Colorcodes\n",
    "Damit wir im Weiteren nicht durcheinander kommen, definieren wir uns die folgenden Farben mit zugehörigem Nummern von null bis acht.\n"
   ]
  },
  {
   "cell_type": "code",
   "execution_count": null,
   "metadata": {},
   "outputs": [],
   "source": [
    "plt.figure(figsize=(18,2))\n",
    "for i in range(9):\n",
    "    plt.scatter([i],[1],s=5000)\n",
    "plt.xticks(np.linspace(0,8,9))\n",
    "plt.yticks([])\n",
    "plt.show()"
   ]
  },
  {
   "cell_type": "code",
   "execution_count": null,
   "metadata": {},
   "outputs": [],
   "source": [
    "display(Image(os.path.join(data_path(), 'marbles/Murmeln.png')))"
   ]
  },
  {
   "cell_type": "markdown",
   "metadata": {},
   "source": [
    "### Data Exploration und manuelle Trennung\n",
    "#### Eigenschaften und Kennzahlen\n",
    "Schauen sich doch einmal die einzelnen Listen an. Wenn Sie nicht mehr wissen, welche Befehle interessante Eigenschaften zusammenfassen wie Länge oder Mittelwerte, dann schauen Sie nochmal in Notebook: `03-02-python-scientific`\n",
    "\n",
    "* Wieviele Einträge sind es? \n",
    "* Was sind die Zentralwerte?\n",
    "* Was sind die minimal/maximal Werte? Gibt es vielleicht Ausreißer die kompensiert werden müssen?\n",
    "* Sehen Sie bereits interessante Unterschiede zwischen den einzelnen Murmelsorten?"
   ]
  },
  {
   "cell_type": "code",
   "execution_count": null,
   "metadata": {},
   "outputs": [],
   "source": [
    "# Probieren Sie es aus\n",
    "\n",
    "\n",
    "\n"
   ]
  },
  {
   "cell_type": "markdown",
   "metadata": {},
   "source": [
    "#### Erste Plots der Daten\n",
    "Betrachten Sie einmal zwei Spalten der verschiedenen Datensätze. Sie können hier zwischen den neun Datensätzen (von 0 bis 8) wechseln. Wechseln sie auch einmal die Spalten auf den Achsen.\n"
   ]
  },
  {
   "cell_type": "code",
   "execution_count": null,
   "metadata": {},
   "outputs": [],
   "source": [
    "# Ein Kugeltyp: Wechseln Sie den Datensatz und die Spalten\n",
    "dataset = 5\n",
    "X = 'R'\n",
    "Y = 'G'\n",
    "\n",
    "plt.scatter(dfs[dataset][X], dfs[dataset][Y], s=10, alpha=0.01, color=f'C{dataset}')\n",
    "plt.title(f'{files[dataset]}')\n",
    "plt.xlabel(X)\n",
    "plt.ylabel(Y);"
   ]
  },
  {
   "cell_type": "code",
   "execution_count": null,
   "metadata": {},
   "outputs": [],
   "source": [
    "# Zwei Kugeltypen: Wechseln Sie die Datensätze und Spalten\n",
    "dataset_A = 1\n",
    "dataset_B = 3\n",
    "X = 'R'\n",
    "Y = 'G'\n",
    "\n",
    "plt.scatter(dfs[dataset_A][X], dfs[dataset_A][Y], s=10, alpha=0.01, color=f'C{dataset_A}')\n",
    "plt.scatter(dfs[dataset_B][X], dfs[dataset_B][Y], s=10, alpha=0.01, color=f'C{dataset_B}')\n",
    "plt.title(f'{files[dataset_A]}, {files[dataset_B]}')\n",
    "plt.xlabel(X)\n",
    "plt.ylabel(Y);"
   ]
  },
  {
   "cell_type": "code",
   "execution_count": null,
   "metadata": {},
   "outputs": [],
   "source": [
    "# Drei Kugeltypen: Wechseln Sie die Datensätze und Spalten\n",
    "dataset_A = 1\n",
    "dataset_B = 3\n",
    "dataset_C = 5\n",
    "X = 'R'\n",
    "Y = 'G'\n",
    "\n",
    "plt.scatter(dfs[dataset_A][X], dfs[dataset_A][Y], s=10, alpha=0.01, color=f'C{dataset_A}')\n",
    "plt.scatter(dfs[dataset_B][X], dfs[dataset_B][Y], s=10, alpha=0.01, color=f'C{dataset_B}')\n",
    "plt.scatter(dfs[dataset_C][X], dfs[dataset_C][Y], s=10, alpha=0.01, color=f'C{dataset_C}')\n",
    "plt.title(f'{files[dataset_A]}, {files[dataset_B]}, {files[dataset_C]}')\n",
    "plt.xlabel(X)\n",
    "plt.ylabel(Y);"
   ]
  },
  {
   "cell_type": "code",
   "execution_count": null,
   "metadata": {},
   "outputs": [],
   "source": [
    "# Erstellen Sie einen Scatterplot für vier Kugeltypen.\n",
    "# Und können Sie noch leicht eine manuelle Trennung durchführen?\n",
    "# Probieren Sie es aus\n",
    "\n",
    "\n",
    "\n",
    "\n"
   ]
  },
  {
   "cell_type": "markdown",
   "metadata": {},
   "source": [
    "#### Komplettes Chaos\n",
    "Wie sieht es nun aus, wenn alle Kugeltypen betrachtet werden. Eigentlich ist eine Trennung anhand der drei Inputwerte nicht möglich. Aber probieren Sie es aus."
   ]
  },
  {
   "cell_type": "code",
   "execution_count": null,
   "metadata": {},
   "outputs": [],
   "source": [
    "# Gibt es eine Kombination von zwei Farbwerten, die eine Trennung zulassen?\n",
    "X = 'R'\n",
    "Y = 'B'\n",
    "\n",
    "plt.figure()\n",
    "for df in dfs:\n",
    "    plt.scatter(df[X], df[Y], s=10, alpha=0.01)\n",
    "plt.title('Alle Kugeltypen')\n",
    "plt.xlabel(X)\n",
    "plt.ylabel(Y);"
   ]
  },
  {
   "cell_type": "markdown",
   "metadata": {},
   "source": [
    "### Feature Engineering I\n",
    "\n",
    "Selbst ML ist keine Wunderwaffe und wird auch nicht mit dieser Ausgangslage weiterkommen. Daher ist das Expertenwissen gefragt, wie man aus den Farbwerte vielleicht zusätzliche Features entwickeln kann.\n",
    "\n",
    "Anschaulich können die RGB-Werte in einen bekannten Farbraum umgewandelt werden. Trägt man die RGB-Werte in dem in der Abbildung dargestellten Koodinatensystem in einer Ebene auf, kann man Farbe und Farbsättigung durch zwei Werte darstellen. Die Farbe ist dann durch den Winkel rund um den Koordinatenursprung gegeben."
   ]
  },
  {
   "cell_type": "code",
   "execution_count": null,
   "metadata": {},
   "outputs": [],
   "source": [
    "display(Image(os.path.join(data_path(), 'marbles/Koordinaten.png'), width=400, height=400))"
   ]
  },
  {
   "cell_type": "markdown",
   "metadata": {},
   "source": [
    "Die Kombination von R,G und B ist nicht die einzige mögliche Darstellung von Farben. Hier werden weitere Variablen eingeführt:\n",
    "\n",
    "  * X und Y sind die Koordinaten in einer 2-dimensionalen Ebene, die durch R, G, B Basisverktoren aufgespannt wird, welche einen Winkel von je 120° zueinander aufweisen. Die verschiedenen Farben liegen in dieser Ebene auf einem Kreis um den Nullpunkt.\n",
    "  * Phi ist der Winkel des XY-Vectors\n",
    "  * I und I2 bezeichnen Magnituden der RGB und XY Vectoren."
   ]
  },
  {
   "cell_type": "code",
   "execution_count": null,
   "metadata": {},
   "outputs": [],
   "source": [
    "def generate_xy_values(df):\n",
    "    df['X'] = 0.5 * np.sqrt(3) * df['G'] - 0.5 * np.sqrt(3) * df['B']\n",
    "    df['Y'] = df['R'] - (1 / 3 * df['G']) - (1 / 3 * df['B'])\n",
    "    \n",
    "def generate_intensity_values(df):\n",
    "    df['I'] = np.square(df['X']) + np.square(df['Y'])\n",
    "    df['I2'] = np.square(df['R']) + np.square(df['G']) + np.square(df['B'])\n",
    "\n",
    "def generate_angles(df):\n",
    "    df['Phi'] = np.arctan2(df['Y'], df['X'])"
   ]
  },
  {
   "cell_type": "code",
   "execution_count": null,
   "metadata": {},
   "outputs": [],
   "source": [
    "# Wir speichern einmal die originale Liste der DataFrames ab, bevor wir sie ändern\n",
    "from copy import deepcopy\n",
    "dfs_orig = deepcopy(dfs)\n",
    "\n",
    "# Wir wenden die oben definierten Funktionen an\n",
    "for df in dfs:\n",
    "    generate_xy_values(df)\n",
    "    generate_intensity_values(df)\n",
    "    generate_angles(df)"
   ]
  },
  {
   "cell_type": "markdown",
   "metadata": {},
   "source": [
    "Schauen Sie sich einmal an, was sich geändern hat."
   ]
  },
  {
   "cell_type": "code",
   "execution_count": null,
   "metadata": {},
   "outputs": [],
   "source": [
    "dfs_orig[0].head()"
   ]
  },
  {
   "cell_type": "code",
   "execution_count": null,
   "metadata": {},
   "outputs": [],
   "source": [
    "dfs[0].head()"
   ]
  },
  {
   "cell_type": "markdown",
   "metadata": {},
   "source": [
    "### Data Exploration und manuelle Trennung II\n",
    "Gehen Sie vor wie zuvor und versuchen Sie ein paar Kennzahlen zu betrachten und mit Hilfe von Streudiagrammen gute Trennbarkeiten zu identifizieren. Zur Erinnerung: Die Plots sind nach dem Schema  ```plt.scatter(x, y, s=size, alpha=alpha, color=color)``` aufgebaut. Die Bedeutung der Parameter ist: \n",
    "\n",
    "  * *x*: x-Werte der (x,y)-Wertepaare\n",
    "  * *y*: y-Werte der (x,y)-Wertepaare\n",
    "  * *s*: Größe der Markerpunkte im Plot\n",
    "  * *alpha*: Deckkraft der Markerpunkte\n",
    "  * *color*: C1, C2,..., C8 für den jeweiligen Datensatz\n",
    "  \n",
    "(Durch das Verstellen von Größe und Deckkraft der Markerpunkte können unterschiedliche Aspekte des Plots sichtbar gemacht werden.)"
   ]
  },
  {
   "cell_type": "markdown",
   "metadata": {},
   "source": [
    "Diese vier Kugeltypen lassen sich zum Beispiel sehr gut visuell Trennen."
   ]
  },
  {
   "cell_type": "code",
   "execution_count": null,
   "metadata": {},
   "outputs": [],
   "source": [
    "plt.scatter(dfs[1]['X'], dfs[1]['Y'], s=10, alpha=0.01, color='C1')\n",
    "plt.scatter(dfs[2]['X'], dfs[2]['Y'], s=10, alpha=0.01, color='C2')\n",
    "plt.scatter(dfs[3]['X'], dfs[3]['Y'], s=10, alpha=0.01, color='C3')\n",
    "plt.scatter(dfs[7]['X'], dfs[7]['Y'], s=10, alpha=0.01, color='C7')\n",
    "plt.xlabel('X')\n",
    "plt.ylabel('Y');"
   ]
  },
  {
   "cell_type": "markdown",
   "metadata": {},
   "source": [
    "Aber plottet man wieder alle Kugelntypen verliert man die Übersicht und es wird schwer hier eine manuelle Trennung durchzuführen."
   ]
  },
  {
   "cell_type": "code",
   "execution_count": null,
   "metadata": {},
   "outputs": [],
   "source": [
    "plt.figure()\n",
    "for df in dfs:\n",
    "    plt.scatter(df['X'],df['Y'],s=10, alpha=0.01)"
   ]
  },
  {
   "cell_type": "code",
   "execution_count": null,
   "metadata": {},
   "outputs": [],
   "source": [
    "### Probieren Sie es aus.\n",
    "\n",
    "\n",
    "\n",
    "\n"
   ]
  }
 ],
 "metadata": {
  "kernelspec": {
   "display_name": "Python 3",
   "language": "python",
   "name": "python3"
  },
  "language_info": {
   "codemirror_mode": {
    "name": "ipython",
    "version": 3
   },
   "file_extension": ".py",
   "mimetype": "text/x-python",
   "name": "python",
   "nbconvert_exporter": "python",
   "pygments_lexer": "ipython3",
   "version": "3.6.4"
  }
 },
 "nbformat": 4,
 "nbformat_minor": 2
}
