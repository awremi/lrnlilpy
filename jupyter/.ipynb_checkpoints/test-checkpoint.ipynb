{
 "cells": [
  {
   "cell_type": "markdown",
   "metadata": {},
   "source": [
    "# This is a test"
   ]
  },
  {
   "cell_type": "markdown",
   "metadata": {},
   "source": [
    "**This notebook tests whether Python, Jupyter and all packages required are installed properly and working.**\n",
    "\n",
    "Please run the cell below (select and press `shift+enter`). You should see the following output on the last line: \n",
    "\n",
    "`Congratulations, your Python stack is ready to go`"
   ]
  },
  {
   "cell_type": "code",
   "execution_count": 22,
   "metadata": {},
   "outputs": [
    {
     "name": "stdout",
     "output_type": "stream",
     "text": [
      "Your Python interpreter is ready. Your version: \n",
      "        3.6.4 (default, Mar  1 2018, 18:36:42) \n",
      "[GCC 4.2.1 Compatible Apple LLVM 9.0.0 (clang-900.0.39.2)]\n",
      "        \n",
      "\n",
      "Congratulations, your Python stack is ready to go\n"
     ]
    }
   ],
   "source": [
    "fail = False\n",
    "try:\n",
    "    import sys\n",
    "    version_string = sys.version\n",
    "    version_parts = version_string.split(\".\")\n",
    "    major = int(version_parts[0])\n",
    "    minor = int(version_parts[1])\n",
    "    if (major) >= 3 and (minor >= 6):\n",
    "        print(f\"\"\"Your Python interpreter is ready. Your version: \n",
    "        {version_string}\n",
    "        \"\"\")\n",
    "    else:\n",
    "        print(f\"\"\"Your version of Python is older than required: \n",
    "            {version_string}\n",
    "        \"\"\")\n",
    "        fail = True\n",
    "except:\n",
    "    pass\n",
    "\n",
    "try:\n",
    "    import pandas\n",
    "except ImportError:\n",
    "    print(f\"\"\"Importing package failed: numpy\"\"\")\n",
    "    fail = True\n",
    "\n",
    "try:\n",
    "    import numpy\n",
    "except ImportError:\n",
    "    print(f\"\"\"Importing package failed: numpy\"\"\")\n",
    "    fail = True\n",
    "    \n",
    "try:\n",
    "    import matplotlib\n",
    "except ImportError:\n",
    "    print(f\"\"\"Importing package failed: matplotlib\"\"\")\n",
    "    fail = True\n",
    "    \n",
    "try:\n",
    "    import sklearn\n",
    "except ImportError:\n",
    "    print(f\"\"\"Importing package failed: sklearn\"\"\")\n",
    "    fail = True\n",
    "\n",
    "if not fail:\n",
    "    print()\n",
    "    print(f\"\"\"Congratulations, your Python stack is ready to go\"\"\")\n",
    "else:\n",
    "    print(\"\")\n",
    "    print(\"Your Python stack is not ready, please check error messages above\")"
   ]
  },
  {
   "cell_type": "code",
   "execution_count": null,
   "metadata": {},
   "outputs": [],
   "source": []
  }
 ],
 "metadata": {
  "kernelspec": {
   "display_name": "Python 3",
   "language": "python",
   "name": "python3"
  },
  "language_info": {
   "codemirror_mode": {
    "name": "ipython",
    "version": 3
   },
   "file_extension": ".py",
   "mimetype": "text/x-python",
   "name": "python",
   "nbconvert_exporter": "python",
   "pygments_lexer": "ipython3",
   "version": "3.6.4"
  }
 },
 "nbformat": 4,
 "nbformat_minor": 2
}
