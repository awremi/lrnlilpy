{
 "cells": [
  {
   "cell_type": "markdown",
   "metadata": {},
   "source": [
    "# This is a test"
   ]
  },
  {
   "cell_type": "markdown",
   "metadata": {},
   "source": [
    "**This notebook tests whether Python, Jupyter and all packages required are installed properly and working.**\n",
    "\n",
    "Please run the cell below (select and press <kbd>SHIFT+ENTER</kbd>). You should see the following output on the last line: \n",
    "\n",
    "```python\n",
    "Congratulations, your Python stack is ready to go\n",
    "```"
   ]
  },
  {
   "cell_type": "code",
   "execution_count": null,
   "metadata": {},
   "outputs": [],
   "source": [
    "fail = False\n",
    "try:\n",
    "    import sys\n",
    "    version_string = sys.version\n",
    "    version_parts = version_string.split(\".\")\n",
    "    major = int(version_parts[0])\n",
    "    minor = int(version_parts[1])\n",
    "    if (major) >= 3 and (minor >= 6):\n",
    "        print(f\"\"\"Your Python interpreter is ready. Your version: \n",
    "        {version_string}\n",
    "        \"\"\")\n",
    "    else:\n",
    "        print(f\"\"\"Your version of Python is older than required: \n",
    "            {version_string}\n",
    "        \"\"\")\n",
    "        fail = True\n",
    "except:\n",
    "    pass\n",
    "\n",
    "try:\n",
    "    import pandas\n",
    "except ImportError:\n",
    "    print(f\"\"\"Importing package failed: pandas\"\"\")\n",
    "    fail = True\n",
    "\n",
    "try:\n",
    "    import numpy\n",
    "except ImportError:\n",
    "    print(f\"\"\"Importing package failed: numpy\"\"\")\n",
    "    fail = True\n",
    "    \n",
    "try:\n",
    "    import matplotlib\n",
    "except ImportError:\n",
    "    print(f\"\"\"Importing package failed: matplotlib\"\"\")\n",
    "    fail = True\n",
    "    \n",
    "try:\n",
    "    import sklearn\n",
    "except ImportError:\n",
    "    print(f\"\"\"Importing package failed: sklearn\"\"\")\n",
    "    fail = True\n",
    "\n",
    "if not fail:\n",
    "    print(\"\")\n",
    "    print(f\"\"\"Congratulations, your Python stack is ready to go\"\"\")\n",
    "else:\n",
    "    print(\"\")\n",
    "    print(\"Your Python stack is not ready, please check error messages above\")"
   ]
  },
  {
   "cell_type": "markdown",
   "metadata": {},
   "source": [
    "---\n",
    "_This notebook is licensed under a [Creative Commons Attribution 4.0 International License (CC BY 4.0)](https://creativecommons.org/licenses/by/4.0/). Copyright © 2018 [Point 8 GmbH](https://point-8.de)_"
   ]
  }
 ],
 "metadata": {
  "kernelspec": {
   "display_name": "Python 3",
   "language": "python",
   "name": "python3"
  },
  "language_info": {
   "codemirror_mode": {
    "name": "ipython",
    "version": 3
   },
   "file_extension": ".py",
   "mimetype": "text/x-python",
   "name": "python",
   "nbconvert_exporter": "python",
   "pygments_lexer": "ipython3",
   "version": "3.6.3"
  }
 },
 "nbformat": 4,
 "nbformat_minor": 2
}
